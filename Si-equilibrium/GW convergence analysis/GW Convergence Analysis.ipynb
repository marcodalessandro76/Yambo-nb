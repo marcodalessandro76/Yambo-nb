{
 "cells": [
  {
   "cell_type": "code",
   "execution_count": 1,
   "metadata": {},
   "outputs": [],
   "source": [
    "from qepy import *\n",
    "from yambopy import *\n",
    "from qepy import PwIn\n",
    "import matplotlib.pyplot as plt\n",
    "import numpy as np\n",
    "import Routines as R"
   ]
  },
  {
   "cell_type": "markdown",
   "metadata": {},
   "source": [
    "# Convergence analysis of the self-consistent QE computation"
   ]
  },
  {
   "cell_type": "markdown",
   "metadata": {},
   "source": [
    "We study the convergence of the self-consistent computation for the determination of the ground state density. The relevant convergence parameteres are the number of k-points and the cutoff on the plane wave expansion"
   ]
  },
  {
   "cell_type": "code",
   "execution_count": 2,
   "metadata": {},
   "outputs": [],
   "source": [
    "reload(R)\n",
    "scf_kpoints = [2,3,4,5,6]\n",
    "scf_ecut = [10,15,20,25,30] #eV\n",
    "scfDict = R.buildScf(scf_kpoints,scf_ecut)"
   ]
  },
  {
   "cell_type": "code",
   "execution_count": 3,
   "metadata": {},
   "outputs": [
    {
     "name": "stdout",
     "output_type": "stream",
     "text": [
      "skip the computation for : scf/output/k2_ecut10.log\n",
      "skip the computation for : scf/output/k2_ecut15.log\n",
      "skip the computation for : scf/output/k2_ecut20.log\n",
      "skip the computation for : scf/output/k2_ecut25.log\n",
      "skip the computation for : scf/output/k2_ecut30.log\n",
      "skip the computation for : scf/output/k3_ecut10.log\n",
      "skip the computation for : scf/output/k3_ecut15.log\n",
      "skip the computation for : scf/output/k3_ecut20.log\n",
      "skip the computation for : scf/output/k3_ecut25.log\n",
      "skip the computation for : scf/output/k3_ecut30.log\n",
      "skip the computation for : scf/output/k4_ecut10.log\n",
      "skip the computation for : scf/output/k4_ecut15.log\n",
      "skip the computation for : scf/output/k4_ecut20.log\n",
      "skip the computation for : scf/output/k4_ecut25.log\n",
      "skip the computation for : scf/output/k4_ecut30.log\n",
      "skip the computation for : scf/output/k5_ecut10.log\n",
      "skip the computation for : scf/output/k5_ecut15.log\n",
      "skip the computation for : scf/output/k5_ecut20.log\n",
      "skip the computation for : scf/output/k5_ecut25.log\n",
      "skip the computation for : scf/output/k5_ecut30.log\n",
      "skip the computation for : scf/output/k6_ecut10.log\n",
      "skip the computation for : scf/output/k6_ecut15.log\n",
      "skip the computation for : scf/output/k6_ecut20.log\n",
      "skip the computation for : scf/output/k6_ecut25.log\n",
      "skip the computation for : scf/output/k6_ecut30.log\n"
     ]
    }
   ],
   "source": [
    "R.runScf(scfDict,8,True)"
   ]
  },
  {
   "cell_type": "code",
   "execution_count": 4,
   "metadata": {},
   "outputs": [],
   "source": [
    "# add the energy field to scfDict\n",
    "for k in scfDict:\n",
    "    for e in scfDict[k]:\n",
    "        scfDict[k][e]['energy'] = R.get_totalEnergy(scfDict[k][e]['outputFile'])"
   ]
  },
  {
   "cell_type": "code",
   "execution_count": 5,
   "metadata": {},
   "outputs": [
    {
     "data": {
      "image/png": "[encoded data removed]",
      "text/plain": [
       "<Figure size 432x288 with 1 Axes>"
      ]
     },
     "metadata": {},
     "output_type": "display_data"
    }
   ],
   "source": [
    "# plot the total energy in function of the ecut for each choice of kpoints\n",
    "for k in scf_kpoints:\n",
    "    energy = []\n",
    "    for e in scf_ecut:\n",
    "        energy.append(scfDict[k][e]['energy'])\n",
    "    plt.plot(scf_ecut,energy,label= 'kp = '+str(k))\n",
    "plt.legend()\n",
    "plt.show()\n",
    "    "
   ]
  },
  {
   "cell_type": "markdown",
   "metadata": {},
   "source": [
    "We choose kpoints = 6 and ecut = 30 as convergence parameters of the scf computation"
   ]
  },
  {
   "cell_type": "code",
   "execution_count": 6,
   "metadata": {},
   "outputs": [],
   "source": [
    "scf_kconv = 6\n",
    "scf_ecutconv = 30"
   ]
  },
  {
   "cell_type": "markdown",
   "metadata": {},
   "source": [
    "## QE nscf simulations"
   ]
  },
  {
   "cell_type": "markdown",
   "metadata": {},
   "source": [
    "We perform a bunch of nscf simulations starting from the results of the scf one with converged parameters.\n",
    "\n",
    "Nscf simulations use the same value of the ecut parameter found in converged scf computation are performed parametrically in terms of the quantities:\n",
    "\n",
    "* nscf_kpoints\n",
    "* nscf_nbnds"
   ]
  },
  {
   "cell_type": "code",
   "execution_count": 7,
   "metadata": {},
   "outputs": [],
   "source": [
    "nscf_kpoints = [2,4,6,8]\n",
    "nscf_nbnds = [10]"
   ]
  },
  {
   "cell_type": "code",
   "execution_count": 8,
   "metadata": {},
   "outputs": [],
   "source": [
    "reload(R)\n",
    "nscfDict = R.buildNscf(nscf_kpoints,nscf_nbnds,scf_kconv,scf_ecutconv)\n",
    "#nscfDict"
   ]
  },
  {
   "cell_type": "code",
   "execution_count": 9,
   "metadata": {
    "scrolled": true
   },
   "outputs": [
    {
     "name": "stdout",
     "output_type": "stream",
     "text": [
      "skip the computation for : nscf/output/k2_nb10.log\n",
      "skip the computation for : nscf/output/k4_nb10.log\n",
      "skip the computation for : nscf/output/k6_nb10.log\n",
      "skip the computation for : nscf/output/k8_nb10.log\n"
     ]
    }
   ],
   "source": [
    "R.runNscf(nscfDict,8,True)"
   ]
  },
  {
   "cell_type": "markdown",
   "metadata": {},
   "source": [
    "Prepare the system for the yambo computation. Run p2y and yambo (without options) in all the .save folders\n",
    "generated by the nscf simulations"
   ]
  },
  {
   "cell_type": "code",
   "execution_count": 10,
   "metadata": {},
   "outputs": [
    {
     "name": "stdout",
     "output_type": "stream",
     "text": [
      "execute : cd nscf/output/k2_nb10.save;p2y;yambo\n",
      "execute : cd nscf/output/k4_nb10.save;p2y;yambo\n",
      "execute : cd nscf/output/k6_nb10.save;p2y;yambo\n",
      "execute : cd nscf/output/k8_nb10.save;p2y;yambo\n"
     ]
    }
   ],
   "source": [
    "R.runP2y(nscfDict)"
   ]
  },
  {
   "cell_type": "markdown",
   "metadata": {},
   "source": [
    "## Convergence analysis of various approximations for the self energy"
   ]
  },
  {
   "cell_type": "markdown",
   "metadata": {},
   "source": [
    "Create the high-level yambo folder. For each choice of the nscf parameters create a folder with the name kp_#k_nb#nbnds and the copy the corresponding SAVE directory in the associated folder and perform a nscf QE computation in this folder. \n",
    "\n",
    "Structure of the yambo dictionary:\n",
    "\n",
    "yambo[nscf_kpoints][nscf_nbnds] = {}\n",
    "\n",
    "This dictionary has a key 'folder' that identifies the folder in which the subsequent yambo\n",
    "computations are performed and a set of keys like 'hf', 'cosex',.... that contains a further dictionaries with the parameters and results of the different levels of yambo computations "
   ]
  },
  {
   "cell_type": "code",
   "execution_count": 11,
   "metadata": {},
   "outputs": [
    {
     "name": "stdout",
     "output_type": "stream",
     "text": [
      "yambo/k8_nb10 already present\n",
      "yambo/k2_nb10 already present\n",
      "yambo/k4_nb10 already present\n",
      "yambo/k6_nb10 already present\n"
     ]
    }
   ],
   "source": [
    "reload(R)\n",
    "yamboDic = R.buildYambo(nscfDict)\n",
    "#yamboDic"
   ]
  },
  {
   "cell_type": "markdown",
   "metadata": {},
   "source": [
    "### HF approximation of $\\Sigma$"
   ]
  },
  {
   "cell_type": "markdown",
   "metadata": {},
   "source": [
    "In the HF approximation the self energy does not depend from the number of empty bands (only the occupied orbitals are relevant), so we perform a bunch of HF simulations varying the nscf_kpoints parameter and using only the first value of nscf_nbnds\n",
    "\n",
    "HF computations performed in function of the parameter G0_Gcomp that expresses (in mHa) the cutoff value of the plane wave expansion of G0"
   ]
  },
  {
   "cell_type": "code",
   "execution_count": 12,
   "metadata": {},
   "outputs": [],
   "source": [
    "G0_Gcomp = [.5,1.0,1.5,2.0,2.5]  #Ha"
   ]
  },
  {
   "cell_type": "markdown",
   "metadata": {},
   "source": [
    "Build the input file and prepare yamboDic"
   ]
  },
  {
   "cell_type": "code",
   "execution_count": 13,
   "metadata": {},
   "outputs": [],
   "source": [
    "reload(R)\n",
    "R.buildHF(yamboDic,G0_Gcomp)\n",
    "#yamboDic"
   ]
  },
  {
   "cell_type": "code",
   "execution_count": 14,
   "metadata": {
    "scrolled": false
   },
   "outputs": [
    {
     "name": "stdout",
     "output_type": "stream",
     "text": [
      "skip the computation for : yambo/k2_nb10/hf_gComp0.5/o-hf_gComp0.5.hf\n",
      "skip the computation for : yambo/k2_nb10/hf_gComp1.0/o-hf_gComp1.0.hf\n",
      "skip the computation for : yambo/k2_nb10/hf_gComp2.0/o-hf_gComp2.0.hf\n",
      "skip the computation for : yambo/k2_nb10/hf_gComp1.5/o-hf_gComp1.5.hf\n",
      "skip the computation for : yambo/k2_nb10/hf_gComp2.5/o-hf_gComp2.5.hf\n",
      "skip the computation for : yambo/k4_nb10/hf_gComp0.5/o-hf_gComp0.5.hf\n",
      "skip the computation for : yambo/k4_nb10/hf_gComp1.0/o-hf_gComp1.0.hf\n",
      "skip the computation for : yambo/k4_nb10/hf_gComp2.0/o-hf_gComp2.0.hf\n",
      "skip the computation for : yambo/k4_nb10/hf_gComp1.5/o-hf_gComp1.5.hf\n",
      "skip the computation for : yambo/k4_nb10/hf_gComp2.5/o-hf_gComp2.5.hf\n",
      "skip the computation for : yambo/k6_nb10/hf_gComp0.5/o-hf_gComp0.5.hf\n",
      "skip the computation for : yambo/k6_nb10/hf_gComp1.0/o-hf_gComp1.0.hf\n",
      "skip the computation for : yambo/k6_nb10/hf_gComp2.0/o-hf_gComp2.0.hf\n",
      "skip the computation for : yambo/k6_nb10/hf_gComp1.5/o-hf_gComp1.5.hf\n",
      "skip the computation for : yambo/k6_nb10/hf_gComp2.5/o-hf_gComp2.5.hf\n",
      "skip the computation for : yambo/k8_nb10/hf_gComp0.5/o-hf_gComp0.5.hf\n",
      "skip the computation for : yambo/k8_nb10/hf_gComp1.0/o-hf_gComp1.0.hf\n",
      "skip the computation for : yambo/k8_nb10/hf_gComp2.0/o-hf_gComp2.0.hf\n",
      "skip the computation for : yambo/k8_nb10/hf_gComp1.5/o-hf_gComp1.5.hf\n",
      "skip the computation for : yambo/k8_nb10/hf_gComp2.5/o-hf_gComp2.5.hf\n"
     ]
    }
   ],
   "source": [
    "# run the HF simulations\n",
    "R.runHF(yamboDic,8,True)\n",
    "#yamboDic"
   ]
  },
  {
   "cell_type": "code",
   "execution_count": 15,
   "metadata": {},
   "outputs": [
    {
     "name": "stdout",
     "output_type": "stream",
     "text": [
      "read file : yambo/k8_nb10/hf_gComp0.5/o-hf_gComp0.5.hf\n",
      "read file : yambo/k8_nb10/hf_gComp1.0/o-hf_gComp1.0.hf\n",
      "read file : yambo/k8_nb10/hf_gComp2.0/o-hf_gComp2.0.hf\n",
      "read file : yambo/k8_nb10/hf_gComp1.5/o-hf_gComp1.5.hf\n",
      "read file : yambo/k8_nb10/hf_gComp2.5/o-hf_gComp2.5.hf\n",
      "read file : yambo/k2_nb10/hf_gComp0.5/o-hf_gComp0.5.hf\n",
      "read file : yambo/k2_nb10/hf_gComp1.0/o-hf_gComp1.0.hf\n",
      "read file : yambo/k2_nb10/hf_gComp2.0/o-hf_gComp2.0.hf\n",
      "read file : yambo/k2_nb10/hf_gComp1.5/o-hf_gComp1.5.hf\n",
      "read file : yambo/k2_nb10/hf_gComp2.5/o-hf_gComp2.5.hf\n",
      "read file : yambo/k4_nb10/hf_gComp0.5/o-hf_gComp0.5.hf\n",
      "read file : yambo/k4_nb10/hf_gComp1.0/o-hf_gComp1.0.hf\n",
      "read file : yambo/k4_nb10/hf_gComp2.0/o-hf_gComp2.0.hf\n",
      "read file : yambo/k4_nb10/hf_gComp1.5/o-hf_gComp1.5.hf\n",
      "read file : yambo/k4_nb10/hf_gComp2.5/o-hf_gComp2.5.hf\n",
      "read file : yambo/k6_nb10/hf_gComp0.5/o-hf_gComp0.5.hf\n",
      "read file : yambo/k6_nb10/hf_gComp1.0/o-hf_gComp1.0.hf\n",
      "read file : yambo/k6_nb10/hf_gComp2.0/o-hf_gComp2.0.hf\n",
      "read file : yambo/k6_nb10/hf_gComp1.5/o-hf_gComp1.5.hf\n",
      "read file : yambo/k6_nb10/hf_gComp2.5/o-hf_gComp2.5.hf\n"
     ]
    }
   ],
   "source": [
    "# reads the results\n",
    "R.getHFresults(yamboDic)"
   ]
  },
  {
   "cell_type": "markdown",
   "metadata": {},
   "source": [
    "Analysis of the convergence of $\\frac{EHF-E0}{E0}$ in function of the number of nscf_kpoints. Uses the first (and actually the only) value of the parameters nscf_nbnds and nscf_ecut"
   ]
  },
  {
   "cell_type": "code",
   "execution_count": 16,
   "metadata": {},
   "outputs": [
    {
     "data": {
      "image/png": "[encoded data removed]",
      "text/plain": [
       "<Figure size 432x288 with 1 Axes>"
      ]
     },
     "metadata": {},
     "output_type": "display_data"
    }
   ],
   "source": [
    "kp = yamboDic.keys()\n",
    "kp.sort()\n",
    "nb = nscf_nbnds[0]\n",
    "gcomp = G0_Gcomp[3]\n",
    "\n",
    "colors = ['black','red','blue','green']\n",
    "for ind,k in enumerate(kp):\n",
    "    y = yamboDic[k][nb]['hf'][gcomp]\n",
    "    BND = y['BND']\n",
    "    E0 = y['E0']\n",
    "    EHF = y['EHF']\n",
    "    for bnd,e0,ehf in zip(BND,E0,EHF):\n",
    "        if bnd < 8: #plot points of the first 8 band\n",
    "            plt.scatter(e0,ehf-e0,c = colors[ind])\n",
    "plt.title('G0_Gcomp = '+str(gcomp)+' Ha')\n",
    "plt.show()"
   ]
  },
  {
   "cell_type": "markdown",
   "metadata": {},
   "source": [
    "Analysis of the convergence of the gap (both direct and indirect)"
   ]
  },
  {
   "cell_type": "code",
   "execution_count": 17,
   "metadata": {},
   "outputs": [
    {
     "name": "stdout",
     "output_type": "stream",
     "text": [
      "{0.5: [8.777731, 7.574261999999999, 7.31963, 7.24414], 1.0: [9.485406, 8.067969999999999, 7.80326, 7.75396], 2.0: [9.645052, 8.224074, 7.956779999999999, 7.90799], 1.5: [9.645052, 8.224074, 7.956779999999999, 7.90799], 2.5: [9.644817, 8.230632, 7.9620999999999995, 7.90928]}\n"
     ]
    },
    {
     "data": {
      "image/png": "[encoded data removed]",
      "text/plain": [
       "<Figure size 432x288 with 1 Axes>"
      ]
     },
     "metadata": {},
     "output_type": "display_data"
    }
   ],
   "source": [
    "kp = yamboDic.keys()\n",
    "kp.sort()\n",
    "nb = nscf_nbnds[0]\n",
    "\n",
    "dirGap = {}\n",
    "for gcomp in G0_Gcomp:\n",
    "    dirGap[gcomp] = []\n",
    "    for k in kp:\n",
    "        y = yamboDic[k][nb]['hf'][gcomp]\n",
    "        ind = 0\n",
    "        for kVal,bndVal in zip(y['KP'],y['BND']):\n",
    "            if kVal == 1.0 and bndVal == 4.0:\n",
    "                break\n",
    "            else:\n",
    "                ind +=1\n",
    "        EHomo = y['EHF'][ind]\n",
    "        ind = 0\n",
    "        for kVal,bndVal in zip(y['KP'],y['BND']):\n",
    "            if kVal == 1.0 and bndVal == 5.0:\n",
    "                break\n",
    "            else:\n",
    "                ind +=1\n",
    "        ELumo = y['EHF'][ind]\n",
    "        dirGap[gcomp].append(ELumo-EHomo)\n",
    "\n",
    "    plt.plot(kp,dirGap[gcomp],label= 'G0_Gcomp_'+str(gcomp))\n",
    "\n",
    "print dirGap\n",
    "plt.title('Direct gap')\n",
    "plt.legend()\n",
    "plt.show()"
   ]
  },
  {
   "cell_type": "code",
   "execution_count": 18,
   "metadata": {},
   "outputs": [
    {
     "name": "stdout",
     "output_type": "stream",
     "text": [
      "{0.5: [5.9684349999999995, 4.689709, 4.41886, 4.355499999999999], 1.0: [7.008995, 5.546981, 5.256530000000001, 5.2017], 2.0: [7.236225, 5.7986390000000005, 5.5085299999999995, 5.456160000000001], 1.5: [7.236225, 5.7986390000000005, 5.5085299999999995, 5.456160000000001], 2.5: [7.303341, 5.876055, 5.58708, 5.53427]}\n"
     ]
    },
    {
     "data": {
      "image/png": "[encoded data removed]",
      "text/plain": [
       "<Figure size 432x288 with 1 Axes>"
      ]
     },
     "metadata": {},
     "output_type": "display_data"
    }
   ],
   "source": [
    "kp = yamboDic.keys()\n",
    "kp.sort()\n",
    "nb = nscf_nbnds[0]\n",
    "\n",
    "# stucture for indirect gap [k] : [khomo,klumo]\n",
    "# using indGap as difference between homo in Gamma(0,0,0) \n",
    "# and lumo in (0.0, -0.5, -0.5) (rlu)\n",
    "par = {2:[1,3], 4:[1,7], 6:[1,13], 8:[1,21]}\n",
    "\n",
    "indirGap = {}\n",
    "for gcomp in G0_Gcomp:\n",
    "    indirGap[gcomp] = []\n",
    "    for k in kp:\n",
    "        y = yamboDic[k][nb]['hf'][gcomp]\n",
    "        ind = 0\n",
    "        for kVal,bndVal in zip(y['KP'],y['BND']):\n",
    "            if kVal == par[k][0] and bndVal == 4.0:\n",
    "                break\n",
    "            else:\n",
    "                ind +=1\n",
    "        EHomo = y['EHF'][ind]\n",
    "        ind = 0\n",
    "        for kVal,bndVal in zip(y['KP'],y['BND']):\n",
    "            if kVal == par[k][1] and bndVal == 5.0:\n",
    "                break\n",
    "            else:\n",
    "                ind +=1\n",
    "        ELumo = y['EHF'][ind]\n",
    "        indirGap[gcomp].append(ELumo-EHomo)\n",
    "\n",
    "    plt.plot(kp,indirGap[gcomp],label= 'G0_Gcomp_'+str(gcomp))\n",
    "\n",
    "print indirGap\n",
    "plt.title('Indirect gap')\n",
    "plt.legend()\n",
    "plt.show()"
   ]
  },
  {
   "cell_type": "markdown",
   "metadata": {},
   "source": [
    "This plots conclude the convergence analysis of the HF approximation of the self-energy. On the basis of this analysis we choose the convergence values of the kpoints and G0_gcomp parameters:"
   ]
  },
  {
   "cell_type": "code",
   "execution_count": 19,
   "metadata": {},
   "outputs": [],
   "source": [
    "hf_kconv = 8\n",
    "hf_G0_Gcompconv = 2.5 #Ha"
   ]
  },
  {
   "cell_type": "markdown",
   "metadata": {},
   "source": [
    "### COHSEX approximation (without empties) of $\\Sigma$"
   ]
  },
  {
   "cell_type": "markdown",
   "metadata": {},
   "source": [
    "As a first step work in the approximation \"without empty \"bands\". So we do not add the contribution of conduction bands for the evaluation of the Green function.\n",
    "The evaluation of $W$ passes through:\n",
    "$$\n",
    "\\chi = \\chi_0 + \\chi_0(v_H+f_{xc})\\chi \\\\\n",
    "W = v+v\\chi v\n",
    "$$\n",
    "In the COHSEX one considers only the static contribution of the response $\\chi(\\omega=0)$ and we also limit our analysis to the Hartree kernel, so that $f_{xc}=0$ (RPA approximations)."
   ]
  },
  {
   "cell_type": "markdown",
   "metadata": {},
   "source": [
    "In the COHSEX approximation (without empties) G0 still depends only from the number of kpoints and from the G0_Gcomp parameter. However in this case one introduces also a non trivial W potential and two more parameters come into the play. These are the cut of in the plane wave expansion of W and the number of empty bands used to write the Lehmann representation of $\\chi_0$."
   ]
  },
  {
   "cell_type": "code",
   "execution_count": 20,
   "metadata": {},
   "outputs": [],
   "source": [
    "W_Gcomp = [0.5,1.0,1.5,2.0,3.0,4.0] #Ha\n",
    "W_nb = [10,20]"
   ]
  },
  {
   "cell_type": "code",
   "execution_count": 21,
   "metadata": {},
   "outputs": [
    {
     "data": {
      "text/plain": [
       "{(0.5, 10): {'inputFile': 'cs_wGcomp0.5_wNb10.in',\n",
       "  'jobName': 'cs_wGcomp0.5_wNb10',\n",
       "  'outputFile': 'yambo/k8_nb10/cs_wGcomp0.5_wNb10/o-cs_wGcomp0.5_wNb10.qp'},\n",
       " (0.5, 20): {'inputFile': 'cs_wGcomp0.5_wNb20.in',\n",
       "  'jobName': 'cs_wGcomp0.5_wNb20',\n",
       "  'outputFile': 'yambo/k8_nb10/cs_wGcomp0.5_wNb20/o-cs_wGcomp0.5_wNb20.qp'},\n",
       " (1.0, 10): {'inputFile': 'cs_wGcomp1.0_wNb10.in',\n",
       "  'jobName': 'cs_wGcomp1.0_wNb10',\n",
       "  'outputFile': 'yambo/k8_nb10/cs_wGcomp1.0_wNb10/o-cs_wGcomp1.0_wNb10.qp'},\n",
       " (1.0, 20): {'inputFile': 'cs_wGcomp1.0_wNb20.in',\n",
       "  'jobName': 'cs_wGcomp1.0_wNb20',\n",
       "  'outputFile': 'yambo/k8_nb10/cs_wGcomp1.0_wNb20/o-cs_wGcomp1.0_wNb20.qp'},\n",
       " (1.5, 10): {'inputFile': 'cs_wGcomp1.5_wNb10.in',\n",
       "  'jobName': 'cs_wGcomp1.5_wNb10',\n",
       "  'outputFile': 'yambo/k8_nb10/cs_wGcomp1.5_wNb10/o-cs_wGcomp1.5_wNb10.qp'},\n",
       " (1.5, 20): {'inputFile': 'cs_wGcomp1.5_wNb20.in',\n",
       "  'jobName': 'cs_wGcomp1.5_wNb20',\n",
       "  'outputFile': 'yambo/k8_nb10/cs_wGcomp1.5_wNb20/o-cs_wGcomp1.5_wNb20.qp'},\n",
       " (2.0, 10): {'inputFile': 'cs_wGcomp2.0_wNb10.in',\n",
       "  'jobName': 'cs_wGcomp2.0_wNb10',\n",
       "  'outputFile': 'yambo/k8_nb10/cs_wGcomp2.0_wNb10/o-cs_wGcomp2.0_wNb10.qp'},\n",
       " (2.0, 20): {'inputFile': 'cs_wGcomp2.0_wNb20.in',\n",
       "  'jobName': 'cs_wGcomp2.0_wNb20',\n",
       "  'outputFile': 'yambo/k8_nb10/cs_wGcomp2.0_wNb20/o-cs_wGcomp2.0_wNb20.qp'},\n",
       " (3.0, 10): {'inputFile': 'cs_wGcomp3.0_wNb10.in',\n",
       "  'jobName': 'cs_wGcomp3.0_wNb10',\n",
       "  'outputFile': 'yambo/k8_nb10/cs_wGcomp3.0_wNb10/o-cs_wGcomp3.0_wNb10.qp'},\n",
       " (3.0, 20): {'inputFile': 'cs_wGcomp3.0_wNb20.in',\n",
       "  'jobName': 'cs_wGcomp3.0_wNb20',\n",
       "  'outputFile': 'yambo/k8_nb10/cs_wGcomp3.0_wNb20/o-cs_wGcomp3.0_wNb20.qp'},\n",
       " (4.0, 10): {'inputFile': 'cs_wGcomp4.0_wNb10.in',\n",
       "  'jobName': 'cs_wGcomp4.0_wNb10',\n",
       "  'outputFile': 'yambo/k8_nb10/cs_wGcomp4.0_wNb10/o-cs_wGcomp4.0_wNb10.qp'},\n",
       " (4.0, 20): {'inputFile': 'cs_wGcomp4.0_wNb20.in',\n",
       "  'jobName': 'cs_wGcomp4.0_wNb20',\n",
       "  'outputFile': 'yambo/k8_nb10/cs_wGcomp4.0_wNb20/o-cs_wGcomp4.0_wNb20.qp'}}"
      ]
     },
     "execution_count": 21,
     "metadata": {},
     "output_type": "execute_result"
    }
   ],
   "source": [
    "reload(R)\n",
    "R.buildCOHSEX(yamboDic,hf_kconv,hf_G0_Gcompconv,W_Gcomp,W_nb)\n",
    "yamboDic[hf_kconv][nscf_nbnds[0]]['cs']"
   ]
  },
  {
   "cell_type": "code",
   "execution_count": 22,
   "metadata": {
    "scrolled": false
   },
   "outputs": [
    {
     "name": "stdout",
     "output_type": "stream",
     "text": [
      "execute : cd yambo/k8_nb10 ; mpirun -np 8 yambo -F cs_wGcomp4.0_wNb10.in -J cs_wGcomp4.0_wNb10 -C cs_wGcomp4.0_wNb10\n",
      "execute : cd yambo/k8_nb10 ; mpirun -np 8 yambo -F cs_wGcomp1.5_wNb20.in -J cs_wGcomp1.5_wNb20 -C cs_wGcomp1.5_wNb20\n",
      "execute : cd yambo/k8_nb10 ; mpirun -np 8 yambo -F cs_wGcomp3.0_wNb10.in -J cs_wGcomp3.0_wNb10 -C cs_wGcomp3.0_wNb10\n",
      "execute : cd yambo/k8_nb10 ; mpirun -np 8 yambo -F cs_wGcomp0.5_wNb20.in -J cs_wGcomp0.5_wNb20 -C cs_wGcomp0.5_wNb20\n",
      "execute : cd yambo/k8_nb10 ; mpirun -np 8 yambo -F cs_wGcomp3.0_wNb20.in -J cs_wGcomp3.0_wNb20 -C cs_wGcomp3.0_wNb20\n",
      "execute : cd yambo/k8_nb10 ; mpirun -np 8 yambo -F cs_wGcomp2.0_wNb20.in -J cs_wGcomp2.0_wNb20 -C cs_wGcomp2.0_wNb20\n",
      "execute : cd yambo/k8_nb10 ; mpirun -np 8 yambo -F cs_wGcomp2.0_wNb10.in -J cs_wGcomp2.0_wNb10 -C cs_wGcomp2.0_wNb10\n",
      "execute : cd yambo/k8_nb10 ; mpirun -np 8 yambo -F cs_wGcomp1.5_wNb10.in -J cs_wGcomp1.5_wNb10 -C cs_wGcomp1.5_wNb10\n",
      "execute : cd yambo/k8_nb10 ; mpirun -np 8 yambo -F cs_wGcomp1.0_wNb10.in -J cs_wGcomp1.0_wNb10 -C cs_wGcomp1.0_wNb10\n",
      "execute : cd yambo/k8_nb10 ; mpirun -np 8 yambo -F cs_wGcomp4.0_wNb20.in -J cs_wGcomp4.0_wNb20 -C cs_wGcomp4.0_wNb20\n",
      "execute : cd yambo/k8_nb10 ; mpirun -np 8 yambo -F cs_wGcomp1.0_wNb20.in -J cs_wGcomp1.0_wNb20 -C cs_wGcomp1.0_wNb20\n",
      "execute : cd yambo/k8_nb10 ; mpirun -np 8 yambo -F cs_wGcomp0.5_wNb10.in -J cs_wGcomp0.5_wNb10 -C cs_wGcomp0.5_wNb10\n"
     ]
    }
   ],
   "source": [
    "R.runCOHSEX(yamboDic,hf_kconv,8,True)"
   ]
  },
  {
   "cell_type": "code",
   "execution_count": 23,
   "metadata": {},
   "outputs": [
    {
     "name": "stdout",
     "output_type": "stream",
     "text": [
      "read file : yambo/k8_nb10/cs_wGcomp4.0_wNb10/o-cs_wGcomp4.0_wNb10.qp\n",
      "read file : yambo/k8_nb10/cs_wGcomp1.5_wNb20/o-cs_wGcomp1.5_wNb20.qp\n",
      "read file : yambo/k8_nb10/cs_wGcomp3.0_wNb10/o-cs_wGcomp3.0_wNb10.qp\n",
      "read file : yambo/k8_nb10/cs_wGcomp0.5_wNb20/o-cs_wGcomp0.5_wNb20.qp\n",
      "read file : yambo/k8_nb10/cs_wGcomp3.0_wNb20/o-cs_wGcomp3.0_wNb20.qp\n",
      "read file : yambo/k8_nb10/cs_wGcomp2.0_wNb20/o-cs_wGcomp2.0_wNb20.qp\n",
      "read file : yambo/k8_nb10/cs_wGcomp2.0_wNb10/o-cs_wGcomp2.0_wNb10.qp\n",
      "read file : yambo/k8_nb10/cs_wGcomp1.5_wNb10/o-cs_wGcomp1.5_wNb10.qp\n",
      "read file : yambo/k8_nb10/cs_wGcomp1.0_wNb10/o-cs_wGcomp1.0_wNb10.qp\n",
      "read file : yambo/k8_nb10/cs_wGcomp4.0_wNb20/o-cs_wGcomp4.0_wNb20.qp\n",
      "read file : yambo/k8_nb10/cs_wGcomp1.0_wNb20/o-cs_wGcomp1.0_wNb20.qp\n",
      "read file : yambo/k8_nb10/cs_wGcomp0.5_wNb10/o-cs_wGcomp0.5_wNb10.qp\n"
     ]
    }
   ],
   "source": [
    "# reads the results\n",
    "reload(R)\n",
    "R.getCOHSEXresults(yamboDic,hf_kconv)"
   ]
  },
  {
   "cell_type": "markdown",
   "metadata": {},
   "source": [
    "Analysis of the convergence of the gap (both direct and indirect)"
   ]
  },
  {
   "cell_type": "code",
   "execution_count": 25,
   "metadata": {},
   "outputs": [
    {
     "name": "stdout",
     "output_type": "stream",
     "text": [
      "{10: [3.371156, 3.348508, 3.5059839999999998, 3.5059839999999998, 3.653886, 3.69189], 20: [3.371156, 3.348508, 3.5059839999999998, 3.5059839999999998, 3.653886, 3.69189]}\n"
     ]
    },
    {
     "data": {
      "image/png": "[encoded data removed]",
      "text/plain": [
       "<Figure size 432x288 with 1 Axes>"
      ]
     },
     "metadata": {},
     "output_type": "display_data"
    }
   ],
   "source": [
    "y = yamboDic[hf_kconv][nscf_nbnds[0]]['cs']\n",
    "\n",
    "dirGap = {}\n",
    "for wn in W_nb:\n",
    "    dirGap[wn] = []\n",
    "    for wg in W_Gcomp:    \n",
    "        ind = 0\n",
    "        for kVal,bndVal in zip(y[wg,wn]['KP'],y[wg,wn]['BND']):\n",
    "            if kVal == 1.0 and bndVal == 4.0:\n",
    "                break\n",
    "            else:\n",
    "                ind +=1\n",
    "        EHomo = y[wg,wn]['E0'][ind] + y[wg,wn]['EmE0'][ind]\n",
    "        ind = 0\n",
    "        for kVal,bndVal in zip(y[wg,wn]['KP'],y[wg,wn]['BND']):\n",
    "            if kVal == 1.0 and bndVal == 5.0:\n",
    "                break\n",
    "            else:\n",
    "                ind +=1\n",
    "        ELumo = y[wg,wn]['E0'][ind] + y[wg,wn]['EmE0'][ind]\n",
    "        dirGap[wn].append(ELumo-EHomo)\n",
    "\n",
    "    plt.plot(W_Gcomp,dirGap[wn],label= 'W_Nbn_'+str(wn))\n",
    "\n",
    "print dirGap\n",
    "plt.title('Direct gap')\n",
    "plt.legend()\n",
    "plt.show()"
   ]
  },
  {
   "cell_type": "code",
   "execution_count": 32,
   "metadata": {},
   "outputs": [
    {
     "name": "stdout",
     "output_type": "stream",
     "text": [
      "{10: [1.1213009999999999, 1.210105, 1.456041, 1.456041, 1.633894, 1.6776239999999998], 20: [1.1213009999999999, 1.210105, 1.456041, 1.456041, 1.633894, 1.6776239999999998]}\n"
     ]
    },
    {
     "data": {
      "image/png": "[encoded data removed]",
      "text/plain": [
       "<Figure size 432x288 with 1 Axes>"
      ]
     },
     "metadata": {},
     "output_type": "display_data"
    }
   ],
   "source": [
    "y = yamboDic[hf_kconv][nscf_nbnds[0]]['cs']\n",
    "\n",
    "# stucture for indirect gap [k] : [khomo,klumo]\n",
    "# using indGap as difference between homo in Gamma(0,0,0) \n",
    "# and lumo in (0.0, -0.5, -0.5) (rlu)\n",
    "par = {2:[1,3], 4:[1,7], 6:[1,13], 8:[1,21]}\n",
    "\n",
    "indirGap = {}\n",
    "for wn in W_nb:\n",
    "    indirGap[wn] = []\n",
    "    for wg in W_Gcomp:    \n",
    "        ind = 0\n",
    "        for kVal,bndVal in zip(y[wg,wn]['KP'],y[wg,wn]['BND']):\n",
    "            if kVal == par[hf_kconv][0] and bndVal == 4.0:\n",
    "                break\n",
    "            else:\n",
    "                ind +=1\n",
    "        EHomo = y[wg,wn]['E0'][ind] + y[wg,wn]['EmE0'][ind]\n",
    "        ind = 0\n",
    "        for kVal,bndVal in zip(y[wg,wn]['KP'],y[wg,wn]['BND']):\n",
    "            if kVal == par[hf_kconv][1] and bndVal == 5.0:\n",
    "                break\n",
    "            else:\n",
    "                ind +=1\n",
    "        ELumo = y[wg,wn]['E0'][ind] + y[wg,wn]['EmE0'][ind]\n",
    "        indirGap[wn].append(ELumo-EHomo)\n",
    "\n",
    "    plt.plot(W_Gcomp,indirGap[wn],label= 'W_Nbn_'+str(wn))\n",
    "\n",
    "print indirGap\n",
    "plt.title('Indirect gap')\n",
    "plt.legend()\n",
    "plt.show()"
   ]
  },
  {
   "cell_type": "code",
   "execution_count": 29,
   "metadata": {},
   "outputs": [
    {
     "data": {
      "text/plain": [
       "[-2.03603,\n",
       " -0.8645,\n",
       " -0.809899,\n",
       " -0.918545,\n",
       " -0.135342,\n",
       " -0.135897,\n",
       " -0.133764,\n",
       " -0.03529,\n",
       " 0.242947,\n",
       " 0.2597,\n",
       " -2.01207,\n",
       " -1.062527,\n",
       " -0.871248,\n",
       " -0.840084,\n",
       " -0.140287,\n",
       " -0.08042,\n",
       " -0.100499,\n",
       " -0.02192,\n",
       " 0.117271,\n",
       " 0.10367,\n",
       " -1.93947,\n",
       " -1.321737,\n",
       " -0.929972,\n",
       " -0.900045,\n",
       " -0.22158,\n",
       " -0.0081,\n",
       " -0.04297,\n",
       " 0.07808,\n",
       " 0.04176,\n",
       " 0.0433,\n",
       " -1.81594,\n",
       " -1.565153,\n",
       " -0.971239,\n",
       " -0.941029,\n",
       " -0.265565,\n",
       " -0.03759,\n",
       " -0.08202,\n",
       " -0.233562,\n",
       " 0.169079,\n",
       " 0.17939,\n",
       " -1.698268,\n",
       " -1.722322,\n",
       " -0.984999,\n",
       " -0.954491,\n",
       " -0.278173,\n",
       " -0.06054,\n",
       " -0.106672,\n",
       " -0.331594,\n",
       " 0.38224,\n",
       " 0.38922,\n",
       " -2.00593,\n",
       " -0.938451,\n",
       " -0.915562,\n",
       " -0.975719,\n",
       " -0.25051,\n",
       " -0.03994,\n",
       " -0.04333,\n",
       " -0.001951,\n",
       " 0.008264,\n",
       " 0.25423,\n",
       " -1.94995,\n",
       " -1.2166,\n",
       " -0.98646,\n",
       " -0.942933,\n",
       " -0.257262,\n",
       " -0.02746,\n",
       " 0.06016,\n",
       " -0.143635,\n",
       " 0.14137,\n",
       " 0.17157,\n",
       " -1.84434,\n",
       " -1.463993,\n",
       " -1.016486,\n",
       " -1.021011,\n",
       " -0.243546,\n",
       " -0.05943,\n",
       " 0.03421,\n",
       " -0.115443,\n",
       " 0.242613,\n",
       " 0.02998,\n",
       " -1.701185,\n",
       " -1.672635,\n",
       " -1.076086,\n",
       " -1.016065,\n",
       " -0.236408,\n",
       " -0.125759,\n",
       " -0.02319,\n",
       " 0.05389,\n",
       " -0.07613,\n",
       " 0.36079,\n",
       " -1.74788,\n",
       " -1.61319,\n",
       " -1.10519,\n",
       " -0.97775,\n",
       " -0.19919,\n",
       " -0.13591,\n",
       " -0.03862,\n",
       " 0.05007,\n",
       " 0.13065,\n",
       " 0.03269,\n",
       " -1.88553,\n",
       " -1.38371,\n",
       " -1.09554,\n",
       " -0.9142,\n",
       " -0.136,\n",
       " -0.02567,\n",
       " -0.09921,\n",
       " -0.02376,\n",
       " -0.03899,\n",
       " -0.07293,\n",
       " -1.97411,\n",
       " -1.14064,\n",
       " -1.03294,\n",
       " -0.85043,\n",
       " -0.03745,\n",
       " -0.09348,\n",
       " -0.19076,\n",
       " 0.03731,\n",
       " -0.02542,\n",
       " 0.1586,\n",
       " -1.91648,\n",
       " -1.14388,\n",
       " -1.05845,\n",
       " -1.10499,\n",
       " -0.40008,\n",
       " -0.27829,\n",
       " 0.16009,\n",
       " 0.14369,\n",
       " 0.21602,\n",
       " 0.30068,\n",
       " -1.82935,\n",
       " -1.34193,\n",
       " -1.15838,\n",
       " -1.10119,\n",
       " -0.36976,\n",
       " -0.32663,\n",
       " 0.14159,\n",
       " 0.20642,\n",
       " 0.37207,\n",
       " 0.32822,\n",
       " -1.69354,\n",
       " -1.54548,\n",
       " -1.26769,\n",
       " -1.09871,\n",
       " -0.35084,\n",
       " -0.18608,\n",
       " 0.10083,\n",
       " 0.14104,\n",
       " 0.28335,\n",
       " 0.36541,\n",
       " -1.65159,\n",
       " -1.59293,\n",
       " -1.33734,\n",
       " -1.0548,\n",
       " -0.30452,\n",
       " -0.02352,\n",
       " 0.10634,\n",
       " 0.08451,\n",
       " 0.18365,\n",
       " 0.12238,\n",
       " -1.79211,\n",
       " -1.40833,\n",
       " -1.33327,\n",
       " -0.97786,\n",
       " -0.19925,\n",
       " 0.0586,\n",
       " -0.08625,\n",
       " 0.0272,\n",
       " -0.03127,\n",
       " 0.28604,\n",
       " -1.7725,\n",
       " -1.36792,\n",
       " -1.15022,\n",
       " -1.19148,\n",
       " -0.47727,\n",
       " -0.43258,\n",
       " 0.34292,\n",
       " 0.32501,\n",
       " 0.3846,\n",
       " 0.38978,\n",
       " -1.65566,\n",
       " -1.50474,\n",
       " -1.29523,\n",
       " -1.15951,\n",
       " -0.42806,\n",
       " -0.40285,\n",
       " 0.35023,\n",
       " 0.31718,\n",
       " 0.41957,\n",
       " 0.40925,\n",
       " -1.56773,\n",
       " -1.57005,\n",
       " -1.4398,\n",
       " -1.12365,\n",
       " -0.39,\n",
       " -0.19735,\n",
       " 0.27751,\n",
       " 0.18591,\n",
       " 0.27836,\n",
       " 0.17505,\n",
       " -1.54443,\n",
       " -1.62473,\n",
       " -1.18065,\n",
       " -1.22046,\n",
       " -0.44924,\n",
       " -0.52984,\n",
       " 0.54402,\n",
       " 0.53337,\n",
       " 0.46407,\n",
       " 0.4454,\n",
       " -1.88054,\n",
       " -1.29769,\n",
       " -1.18166,\n",
       " -0.96574,\n",
       " -0.263,\n",
       " -0.0323,\n",
       " -0.15637,\n",
       " 0.0782,\n",
       " 0.1384,\n",
       " 0.34804,\n",
       " -1.75953,\n",
       " -1.49716,\n",
       " -1.24826,\n",
       " -1.0377,\n",
       " -0.19925,\n",
       " -0.09832,\n",
       " -0.09919,\n",
       " 0.0887,\n",
       " 0.22808,\n",
       " 0.23957,\n",
       " -1.64273,\n",
       " -1.6477,\n",
       " -1.25804,\n",
       " -1.07351,\n",
       " -0.13338,\n",
       " -0.21024,\n",
       " 0.10191,\n",
       " 0.02018,\n",
       " 0.14082,\n",
       " 0.25166,\n",
       " -1.73298,\n",
       " -1.4277,\n",
       " -1.27526,\n",
       " -1.16148,\n",
       " -0.34377,\n",
       " -0.32462,\n",
       " 0.13082,\n",
       " 0.30967,\n",
       " 0.35086,\n",
       " 0.32053,\n",
       " -1.59121,\n",
       " -1.56655,\n",
       " -1.38642,\n",
       " -1.18645,\n",
       " -0.27852,\n",
       " -0.19885,\n",
       " 0.07244,\n",
       " 0.13811,\n",
       " 0.28592,\n",
       " 0.48264,\n",
       " -1.65453,\n",
       " -1.49734,\n",
       " -1.41446,\n",
       " -1.14248,\n",
       " -0.21721,\n",
       " -0.09114,\n",
       " -0.04524,\n",
       " 0.08193,\n",
       " 0.27962,\n",
       " 0.27346,\n",
       " -1.53815,\n",
       " -1.59634,\n",
       " -1.25435,\n",
       " -1.31001,\n",
       " -0.33519,\n",
       " -0.38713,\n",
       " 0.19396,\n",
       " 0.26611,\n",
       " 0.49205,\n",
       " 0.48136,\n",
       " -1.5564,\n",
       " -1.53667,\n",
       " -1.36097,\n",
       " -1.34674,\n",
       " -0.19931,\n",
       " -0.21113,\n",
       " 0.02542,\n",
       " 0.0357,\n",
       " 0.50589,\n",
       " 0.50359,\n",
       " -2.01345,\n",
       " -0.99989,\n",
       " -0.83942,\n",
       " -0.93223,\n",
       " -0.1741,\n",
       " -0.10894,\n",
       " -0.09049,\n",
       " 0.01731,\n",
       " 0.13386,\n",
       " 0.12077,\n",
       " -1.94594,\n",
       " -1.26216,\n",
       " -0.92069,\n",
       " -0.94839,\n",
       " -0.24682,\n",
       " -0.07118,\n",
       " -0.05963,\n",
       " 0.11847,\n",
       " 0.07793,\n",
       " 0.09065,\n",
       " -1.83697,\n",
       " -1.49337,\n",
       " -0.93132,\n",
       " -1.0086,\n",
       " -0.28498,\n",
       " -0.08436,\n",
       " -0.12897,\n",
       " -0.26012,\n",
       " 0.23396,\n",
       " 0.20054,\n",
       " -1.74351,\n",
       " -1.62591,\n",
       " -1.01632,\n",
       " -0.94663,\n",
       " -0.29562,\n",
       " -0.17075,\n",
       " -0.08818,\n",
       " -0.36988,\n",
       " 0.42825,\n",
       " 0.42264,\n",
       " -1.95051,\n",
       " -1.21065,\n",
       " -0.974,\n",
       " -0.96441,\n",
       " -0.25022,\n",
       " -0.03378,\n",
       " 0.05682,\n",
       " -0.1519,\n",
       " 0.15089,\n",
       " 0.17979,\n",
       " -1.95489,\n",
       " -1.13692,\n",
       " -0.96573,\n",
       " -1.04464,\n",
       " -0.2457,\n",
       " -0.05242,\n",
       " 0.009101,\n",
       " -0.15947,\n",
       " 0.20527,\n",
       " 0.23173,\n",
       " -1.84537,\n",
       " -1.4605,\n",
       " -1.03588,\n",
       " -1.00808,\n",
       " -0.22806,\n",
       " -0.06621,\n",
       " 0.02464,\n",
       " -0.12934,\n",
       " 0.25503,\n",
       " 0.03571,\n",
       " -1.86048,\n",
       " -1.38387,\n",
       " -1.10215,\n",
       " -0.99393,\n",
       " -0.22019,\n",
       " -0.10476,\n",
       " -0.04825,\n",
       " -0.12283,\n",
       " 0.32619,\n",
       " 0.03938,\n",
       " -1.70154,\n",
       " -1.67133,\n",
       " -1.09291,\n",
       " -1.00182,\n",
       " -0.22012,\n",
       " -0.13209,\n",
       " -0.03474,\n",
       " 0.04205,\n",
       " -0.07435,\n",
       " 0.36924,\n",
       " -1.74178,\n",
       " -1.57582,\n",
       " -1.14834,\n",
       " -0.9842,\n",
       " -0.20783,\n",
       " -0.17473,\n",
       " -0.10893,\n",
       " 0.04082,\n",
       " -0.08525,\n",
       " 0.41666,\n",
       " -1.74609,\n",
       " -1.61516,\n",
       " -1.11874,\n",
       " -0.96182,\n",
       " -0.18435,\n",
       " -0.14028,\n",
       " -0.05082,\n",
       " 0.05248,\n",
       " 0.13958,\n",
       " 0.02957,\n",
       " -1.77225,\n",
       " -1.53984,\n",
       " -1.16729,\n",
       " -0.94438,\n",
       " -0.17467,\n",
       " -0.18405,\n",
       " -0.12441,\n",
       " 0.0697,\n",
       " 0.19409,\n",
       " 0.02586,\n",
       " -1.88387,\n",
       " -1.38912,\n",
       " -1.10472,\n",
       " -0.89715,\n",
       " -0.12391,\n",
       " -0.03509,\n",
       " -0.10152,\n",
       " -0.02039,\n",
       " -0.03352,\n",
       " -0.07582,\n",
       " -1.89,\n",
       " -1.34191,\n",
       " -1.14576,\n",
       " -0.88497,\n",
       " -0.12247,\n",
       " -0.09016,\n",
       " -0.14125,\n",
       " 0.02082,\n",
       " 0.0104,\n",
       " -0.11068,\n",
       " -1.97307,\n",
       " -1.15711,\n",
       " -1.03089,\n",
       " -0.83344,\n",
       " -0.02497,\n",
       " -0.09503,\n",
       " -0.1928,\n",
       " 0.03793,\n",
       " -0.02719,\n",
       " 0.13933,\n",
       " -1.83037,\n",
       " -1.33479,\n",
       " -1.17761,\n",
       " -1.09132,\n",
       " -0.35915,\n",
       " -0.33644,\n",
       " 0.13176,\n",
       " 0.20155,\n",
       " 0.3809,\n",
       " 0.34062,\n",
       " -1.83909,\n",
       " -1.27256,\n",
       " -1.23873,\n",
       " -1.08641,\n",
       " -0.35379,\n",
       " -0.32814,\n",
       " 0.09479,\n",
       " 0.1455,\n",
       " 0.43017,\n",
       " 0.40885,\n",
       " -1.69433,\n",
       " -1.54029,\n",
       " -1.28587,\n",
       " -1.08807,\n",
       " -0.33331,\n",
       " -0.2001,\n",
       " 0.09038,\n",
       " 0.13269,\n",
       " 0.28763,\n",
       " 0.37484,\n",
       " -1.72366,\n",
       " -1.45357,\n",
       " -1.34541,\n",
       " -1.08102,\n",
       " -0.32695,\n",
       " -0.19891,\n",
       " 0.05522,\n",
       " 0.07025,\n",
       " 0.30263,\n",
       " 0.42034,\n",
       " -1.64651,\n",
       " -1.59832,\n",
       " -1.34933,\n",
       " -1.04291,\n",
       " -0.28606,\n",
       " -0.0355,\n",
       " 0.09762,\n",
       " 0.07322,\n",
       " 0.1852,\n",
       " 0.1309,\n",
       " -1.67366,\n",
       " -1.52909,\n",
       " -1.39167,\n",
       " -1.03714,\n",
       " -0.28058,\n",
       " -0.07724,\n",
       " 0.04248,\n",
       " 0.08124,\n",
       " 0.21156,\n",
       " 0.17774,\n",
       " -1.78665,\n",
       " -1.42436,\n",
       " -1.33411,\n",
       " -0.96485,\n",
       " -0.18065,\n",
       " 0.05725,\n",
       " -0.09165,\n",
       " 0.02338,\n",
       " -0.03095,\n",
       " 0.27675,\n",
       " -1.65595,\n",
       " -1.50127,\n",
       " -1.30808,\n",
       " -1.15044,\n",
       " -0.41301,\n",
       " -0.41793,\n",
       " 0.34429,\n",
       " 0.30687,\n",
       " 0.42182,\n",
       " 0.41918,\n",
       " -1.67269,\n",
       " -1.46693,\n",
       " -1.32792,\n",
       " -1.14882,\n",
       " -0.41058,\n",
       " -0.41589,\n",
       " 0.29486,\n",
       " 0.27642,\n",
       " 0.44744,\n",
       " 0.46022,\n",
       " -1.55248,\n",
       " -1.58637,\n",
       " -1.44886,\n",
       " -1.11372,\n",
       " -0.37346,\n",
       " -0.21142,\n",
       " 0.27645,\n",
       " 0.1794,\n",
       " 0.27554,\n",
       " 0.17787,\n",
       " -1.88298,\n",
       " -1.28238,\n",
       " -1.18258,\n",
       " -0.981,\n",
       " -0.26235,\n",
       " -0.03748,\n",
       " -0.16765,\n",
       " 0.08191,\n",
       " 0.14122,\n",
       " 0.37039,\n",
       " -1.76282,\n",
       " -1.48885,\n",
       " -1.24652,\n",
       " -1.04778,\n",
       " -0.18307,\n",
       " -0.11637,\n",
       " -0.11133,\n",
       " 0.09002,\n",
       " 0.23225,\n",
       " 0.24974,\n",
       " -1.77962,\n",
       " -1.43006,\n",
       " -1.26484,\n",
       " -1.05803,\n",
       " -0.28596,\n",
       " -0.10761,\n",
       " -0.02416,\n",
       " 0.06869,\n",
       " 0.25157,\n",
       " 0.2385,\n",
       " -1.78757,\n",
       " -1.39932,\n",
       " -1.25807,\n",
       " -1.09704,\n",
       " -0.16816,\n",
       " -0.20113,\n",
       " -0.10147,\n",
       " 0.07158,\n",
       " 0.26917,\n",
       " 0.28023,\n",
       " -1.70462,\n",
       " -1.5237,\n",
       " -1.26813,\n",
       " -1.11451,\n",
       " -0.17303,\n",
       " -0.26971,\n",
       " 0.08486,\n",
       " 0.06982,\n",
       " 0.17627,\n",
       " 0.24838,\n",
       " -1.68817,\n",
       " -1.55137,\n",
       " -1.27444,\n",
       " -1.09761,\n",
       " -0.16018,\n",
       " -0.25046,\n",
       " 0.07999,\n",
       " 0.05434,\n",
       " 0.16262,\n",
       " 0.25387,\n",
       " -1.73717,\n",
       " -1.41591,\n",
       " -1.27384,\n",
       " -1.17238,\n",
       " -0.34387,\n",
       " -0.32543,\n",
       " 0.11539,\n",
       " 0.31252,\n",
       " 0.35351,\n",
       " 0.33367,\n",
       " -1.59229,\n",
       " -1.56275,\n",
       " -1.39523,\n",
       " -1.18131,\n",
       " -0.26322,\n",
       " -0.2133,\n",
       " 0.05742,\n",
       " 0.15151,\n",
       " 0.28625,\n",
       " 0.48084,\n",
       " -1.64343,\n",
       " -1.48496,\n",
       " -1.3543,\n",
       " -1.23973,\n",
       " -0.37088,\n",
       " -0.12569,\n",
       " 0.06971,\n",
       " 0.15467,\n",
       " 0.27475,\n",
       " 0.50933,\n",
       " -1.63415,\n",
       " -1.48725,\n",
       " -1.4126,\n",
       " -1.19643,\n",
       " -0.25753,\n",
       " -0.21769,\n",
       " -0.005565,\n",
       " 0.20694,\n",
       " 0.27392,\n",
       " 0.49923,\n",
       " -1.64508,\n",
       " -1.5134,\n",
       " -1.41927,\n",
       " -1.12993,\n",
       " -0.20171,\n",
       " -0.09304,\n",
       " -0.0446,\n",
       " 0.06901,\n",
       " 0.27496,\n",
       " 0.27142]"
      ]
     },
     "execution_count": 29,
     "metadata": {},
     "output_type": "execute_result"
    }
   ],
   "source": [
    "#check why the values are the same for wn = 10 and 20\n",
    "yamboDic[hf_kconv][nscf_nbnds[0]]['cs'][1.0,10]['EmE0']"
   ]
  },
  {
   "cell_type": "code",
   "execution_count": null,
   "metadata": {},
   "outputs": [],
   "source": []
  },
  {
   "cell_type": "code",
   "execution_count": null,
   "metadata": {},
   "outputs": [],
   "source": []
  },
  {
   "cell_type": "code",
   "execution_count": null,
   "metadata": {},
   "outputs": [],
   "source": []
  },
  {
   "cell_type": "code",
   "execution_count": null,
   "metadata": {},
   "outputs": [],
   "source": []
  },
  {
   "cell_type": "code",
   "execution_count": null,
   "metadata": {},
   "outputs": [],
   "source": []
  },
  {
   "cell_type": "code",
   "execution_count": null,
   "metadata": {},
   "outputs": [],
   "source": []
  },
  {
   "cell_type": "code",
   "execution_count": null,
   "metadata": {},
   "outputs": [],
   "source": []
  },
  {
   "cell_type": "code",
   "execution_count": null,
   "metadata": {},
   "outputs": [],
   "source": []
  },
  {
   "cell_type": "code",
   "execution_count": null,
   "metadata": {},
   "outputs": [],
   "source": []
  },
  {
   "cell_type": "code",
   "execution_count": null,
   "metadata": {},
   "outputs": [],
   "source": []
  }
 ],
 "metadata": {
  "kernelspec": {
   "display_name": "Python 2",
   "language": "python",
   "name": "python2"
  },
  "language_info": {
   "codemirror_mode": {
    "name": "ipython",
    "version": 2
   },
   "file_extension": ".py",
   "mimetype": "text/x-python",
   "name": "python",
   "nbconvert_exporter": "python",
   "pygments_lexer": "ipython2",
   "version": "2.7.15rc1"
  }
 },
 "nbformat": 4,
 "nbformat_minor": 2
}
