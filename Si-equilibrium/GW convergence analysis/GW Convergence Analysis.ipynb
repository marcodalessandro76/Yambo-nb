{
 "cells": [
  {
   "cell_type": "code",
   "execution_count": 1,
   "metadata": {},
   "outputs": [],
   "source": [
    "from qepy import *\n",
    "from yambopy import *\n",
    "from qepy import PwIn\n",
    "import matplotlib.pyplot as plt\n",
    "import numpy as np\n",
    "#import json\n",
    "import Routines as R"
   ]
  },
  {
   "cell_type": "markdown",
   "metadata": {},
   "source": [
    "# Convergence analysis of the self-consistent QE computation"
   ]
  },
  {
   "cell_type": "markdown",
   "metadata": {},
   "source": [
    "We study the convergence of the self-consistent computation for the determination of the ground state density. The relevant convergence parameteres are the number of k-points and the cutoff on the plane wave expansion"
   ]
  },
  {
   "cell_type": "code",
   "execution_count": 2,
   "metadata": {},
   "outputs": [],
   "source": [
    "reload(R)\n",
    "scf_kpoints = [2,3,4,5,6]\n",
    "scf_ecut = [10,15,20,25,30]\n",
    "scfDict = R.buildScf(scf_kpoints,scf_ecut)"
   ]
  },
  {
   "cell_type": "code",
   "execution_count": 3,
   "metadata": {},
   "outputs": [
    {
     "name": "stdout",
     "output_type": "stream",
     "text": [
      "skip the computation for : scf/output/k2_ecut10.log\n",
      "skip the computation for : scf/output/k2_ecut15.log\n",
      "skip the computation for : scf/output/k2_ecut20.log\n",
      "skip the computation for : scf/output/k2_ecut25.log\n",
      "skip the computation for : scf/output/k2_ecut30.log\n",
      "skip the computation for : scf/output/k3_ecut10.log\n",
      "skip the computation for : scf/output/k3_ecut15.log\n",
      "skip the computation for : scf/output/k3_ecut20.log\n",
      "skip the computation for : scf/output/k3_ecut25.log\n",
      "skip the computation for : scf/output/k3_ecut30.log\n",
      "skip the computation for : scf/output/k4_ecut10.log\n",
      "skip the computation for : scf/output/k4_ecut15.log\n",
      "skip the computation for : scf/output/k4_ecut20.log\n",
      "skip the computation for : scf/output/k4_ecut25.log\n",
      "skip the computation for : scf/output/k4_ecut30.log\n",
      "skip the computation for : scf/output/k5_ecut10.log\n",
      "skip the computation for : scf/output/k5_ecut15.log\n",
      "skip the computation for : scf/output/k5_ecut20.log\n",
      "skip the computation for : scf/output/k5_ecut25.log\n",
      "skip the computation for : scf/output/k5_ecut30.log\n",
      "skip the computation for : scf/output/k6_ecut10.log\n",
      "skip the computation for : scf/output/k6_ecut15.log\n",
      "skip the computation for : scf/output/k6_ecut20.log\n",
      "skip the computation for : scf/output/k6_ecut25.log\n",
      "skip the computation for : scf/output/k6_ecut30.log\n"
     ]
    }
   ],
   "source": [
    "R.runScf(scfDict,8,True)"
   ]
  },
  {
   "cell_type": "code",
   "execution_count": 4,
   "metadata": {},
   "outputs": [],
   "source": [
    "# add the energy field to scfDict\n",
    "for k in scfDict:\n",
    "    for e in scfDict[k]:\n",
    "        scfDict[k][e]['energy'] = R.get_totalEnergy(scfDict[k][e]['outputFile'])"
   ]
  },
  {
   "cell_type": "code",
   "execution_count": 5,
   "metadata": {},
   "outputs": [
    {
     "data": {
      "image/png": "[encoded data removed]",
      "text/plain": [
       "<Figure size 432x288 with 1 Axes>"
      ]
     },
     "metadata": {},
     "output_type": "display_data"
    }
   ],
   "source": [
    "# plot the total energy in function of the ecut for each choice of kpoints\n",
    "for k in scf_kpoints:\n",
    "    energy = []\n",
    "    for e in scf_ecut:\n",
    "        energy.append(scfDict[k][e]['energy'])\n",
    "    plt.plot(scf_ecut,energy,label= 'kp = '+str(k))\n",
    "plt.legend()\n",
    "plt.show()\n",
    "    "
   ]
  },
  {
   "cell_type": "markdown",
   "metadata": {},
   "source": [
    "We choose kpoints = 6 and ecut = 30 as convergence parameters of the scf computation"
   ]
  },
  {
   "cell_type": "code",
   "execution_count": 6,
   "metadata": {},
   "outputs": [],
   "source": [
    "scf_kconv = 6\n",
    "scf_ecutconv = 30"
   ]
  },
  {
   "cell_type": "markdown",
   "metadata": {},
   "source": [
    "## QE nscf simulations"
   ]
  },
  {
   "cell_type": "markdown",
   "metadata": {},
   "source": [
    "We perform a bunch of nscf simulations starting from the results of the scf one with converged parameters.\n",
    "\n",
    "Nscf simulations are performed parametrically in terms of the quantities:\n",
    "\n",
    "* nscf_kpoints\n",
    "* nscf_ecut\n",
    "* nscf_nbnds"
   ]
  },
  {
   "cell_type": "code",
   "execution_count": 7,
   "metadata": {},
   "outputs": [],
   "source": [
    "nscf_kpoints = [2,4,6,8]\n",
    "nscf_nbnds = [12]\n",
    "nscf_ecut = [scf_ecutconv] \n",
    "#seems to give problems if different (or lower?) of the scf_ecutconv. \n",
    "#sems that P2y don't work if nscf_ecut is different from scf_ecutconv"
   ]
  },
  {
   "cell_type": "code",
   "execution_count": 8,
   "metadata": {},
   "outputs": [],
   "source": [
    "reload(R)\n",
    "nscfDict = R.buildNscf(nscf_kpoints,nscf_ecut,nscf_nbnds,scf_kconv,scf_ecutconv)"
   ]
  },
  {
   "cell_type": "code",
   "execution_count": 9,
   "metadata": {},
   "outputs": [
    {
     "data": {
      "text/plain": [
       "{2: {30: {12: {'inputFile': 'nscf/input/k2_ecut30_nbnd12.nscf',\n",
       "    'outFolder': 'nscf/output/k2_ecut30_nb12.save',\n",
       "    'outputFile': 'nscf/output/k2_ecut30_nbnd12.log'}}},\n",
       " 4: {30: {12: {'inputFile': 'nscf/input/k4_ecut30_nbnd12.nscf',\n",
       "    'outFolder': 'nscf/output/k4_ecut30_nb12.save',\n",
       "    'outputFile': 'nscf/output/k4_ecut30_nbnd12.log'}}},\n",
       " 6: {30: {12: {'inputFile': 'nscf/input/k6_ecut30_nbnd12.nscf',\n",
       "    'outFolder': 'nscf/output/k6_ecut30_nb12.save',\n",
       "    'outputFile': 'nscf/output/k6_ecut30_nbnd12.log'}}},\n",
       " 8: {30: {12: {'inputFile': 'nscf/input/k8_ecut30_nbnd12.nscf',\n",
       "    'outFolder': 'nscf/output/k8_ecut30_nb12.save',\n",
       "    'outputFile': 'nscf/output/k8_ecut30_nbnd12.log'}}}}"
      ]
     },
     "execution_count": 9,
     "metadata": {},
     "output_type": "execute_result"
    }
   ],
   "source": [
    "nscfDict"
   ]
  },
  {
   "cell_type": "code",
   "execution_count": 10,
   "metadata": {
    "scrolled": true
   },
   "outputs": [
    {
     "name": "stdout",
     "output_type": "stream",
     "text": [
      "skip the computation for : nscf/output/k2_ecut30_nbnd12.log\n",
      "skip the computation for : nscf/output/k4_ecut30_nbnd12.log\n",
      "skip the computation for : nscf/output/k6_ecut30_nbnd12.log\n",
      "skip the computation for : nscf/output/k8_ecut30_nbnd12.log\n"
     ]
    }
   ],
   "source": [
    "R.runNscf(nscfDict,8,True)"
   ]
  },
  {
   "cell_type": "markdown",
   "metadata": {},
   "source": [
    "Prepare the system for the yambo computation. Run p2y and yambo (without options) in all the .save folders\n",
    "generated by the nscf simulations"
   ]
  },
  {
   "cell_type": "code",
   "execution_count": 11,
   "metadata": {},
   "outputs": [
    {
     "name": "stdout",
     "output_type": "stream",
     "text": [
      "execute : cd nscf/output/k2_ecut30_nb12.save;p2y;yambo\n",
      "execute : cd nscf/output/k4_ecut30_nb12.save;p2y;yambo\n",
      "execute : cd nscf/output/k6_ecut30_nb12.save;p2y;yambo\n",
      "execute : cd nscf/output/k8_ecut30_nb12.save;p2y;yambo\n"
     ]
    }
   ],
   "source": [
    "R.runP2y(nscfDict)"
   ]
  },
  {
   "cell_type": "markdown",
   "metadata": {},
   "source": [
    "## Convergence analysis of various approximations for the self energy"
   ]
  },
  {
   "cell_type": "markdown",
   "metadata": {},
   "source": [
    "Create the high-level yambo folder. For each choice of the nscf parameters create a folder with the name kp_#k_ecut#e_nb#nbnds and the copy the corresponding SAVE directory in the associated folder and perform a nscf QE computation in this folder. \n",
    "\n",
    "Structure of the yambo dictionary:\n",
    "\n",
    "yambo[k_nscf][ecut_nscf][nbnds] = {}\n",
    "\n",
    "This dictionary has a key 'folder' that identifies the folder in which the subsequent yambo\n",
    "computations are performed and a set of keys like 'hf', 'cosex',.... that contains a further dictionaries with the parameters and results of the different levels of yambo computations "
   ]
  },
  {
   "cell_type": "code",
   "execution_count": 12,
   "metadata": {},
   "outputs": [],
   "source": [
    "reload(R)\n",
    "yamboDic = R.buildYambo(nscfDict)\n",
    "#yamboDic"
   ]
  },
  {
   "cell_type": "markdown",
   "metadata": {},
   "source": [
    "### HF approximation of $\\Sigma$"
   ]
  },
  {
   "cell_type": "markdown",
   "metadata": {},
   "source": [
    "Perform a (bunch of) HF computation for each choice of the nscf parameters.\n",
    "HF computations performed in function of the parameters"
   ]
  },
  {
   "cell_type": "code",
   "execution_count": 13,
   "metadata": {},
   "outputs": [],
   "source": [
    "# modify the name in G0_Gcomp\n",
    "EXXRLvcs = [500,1000,1500,2000,2500]  #mHa"
   ]
  },
  {
   "cell_type": "markdown",
   "metadata": {},
   "source": [
    "Build the input file and prepare yamboDic"
   ]
  },
  {
   "cell_type": "code",
   "execution_count": 14,
   "metadata": {},
   "outputs": [],
   "source": [
    "reload(R)\n",
    "R.buildHF(yamboDic,EXXRLvcs)\n",
    "#yamboDic"
   ]
  },
  {
   "cell_type": "code",
   "execution_count": 15,
   "metadata": {
    "scrolled": false
   },
   "outputs": [
    {
     "name": "stdout",
     "output_type": "stream",
     "text": [
      "skip the computation for : yambo/k2_ecut30_nb12/hf_exRL1000/o-hf_exRL1000.hf\n",
      "skip the computation for : yambo/k2_ecut30_nb12/hf_exRL1500/o-hf_exRL1500.hf\n",
      "skip the computation for : yambo/k2_ecut30_nb12/hf_exRL500/o-hf_exRL500.hf\n",
      "skip the computation for : yambo/k2_ecut30_nb12/hf_exRL2000/o-hf_exRL2000.hf\n",
      "skip the computation for : yambo/k2_ecut30_nb12/hf_exRL2500/o-hf_exRL2500.hf\n",
      "skip the computation for : yambo/k4_ecut30_nb12/hf_exRL1000/o-hf_exRL1000.hf\n",
      "skip the computation for : yambo/k4_ecut30_nb12/hf_exRL1500/o-hf_exRL1500.hf\n",
      "skip the computation for : yambo/k4_ecut30_nb12/hf_exRL500/o-hf_exRL500.hf\n",
      "skip the computation for : yambo/k4_ecut30_nb12/hf_exRL2000/o-hf_exRL2000.hf\n",
      "skip the computation for : yambo/k4_ecut30_nb12/hf_exRL2500/o-hf_exRL2500.hf\n",
      "skip the computation for : yambo/k6_ecut30_nb12/hf_exRL1000/o-hf_exRL1000.hf\n",
      "skip the computation for : yambo/k6_ecut30_nb12/hf_exRL1500/o-hf_exRL1500.hf\n",
      "skip the computation for : yambo/k6_ecut30_nb12/hf_exRL500/o-hf_exRL500.hf\n",
      "skip the computation for : yambo/k6_ecut30_nb12/hf_exRL2000/o-hf_exRL2000.hf\n",
      "skip the computation for : yambo/k6_ecut30_nb12/hf_exRL2500/o-hf_exRL2500.hf\n",
      "skip the computation for : yambo/k8_ecut30_nb12/hf_exRL1000/o-hf_exRL1000.hf\n",
      "skip the computation for : yambo/k8_ecut30_nb12/hf_exRL1500/o-hf_exRL1500.hf\n",
      "skip the computation for : yambo/k8_ecut30_nb12/hf_exRL500/o-hf_exRL500.hf\n",
      "skip the computation for : yambo/k8_ecut30_nb12/hf_exRL2000/o-hf_exRL2000.hf\n",
      "skip the computation for : yambo/k8_ecut30_nb12/hf_exRL2500/o-hf_exRL2500.hf\n"
     ]
    }
   ],
   "source": [
    "# run the HF simulations\n",
    "R.runHF(yamboDic,8,True)\n",
    "#yamboDic"
   ]
  },
  {
   "cell_type": "code",
   "execution_count": 16,
   "metadata": {},
   "outputs": [
    {
     "name": "stdout",
     "output_type": "stream",
     "text": [
      "read file : yambo/k8_ecut30_nb12/hf_exRL1000/o-hf_exRL1000.hf\n",
      "read file : yambo/k8_ecut30_nb12/hf_exRL1500/o-hf_exRL1500.hf\n",
      "read file : yambo/k8_ecut30_nb12/hf_exRL500/o-hf_exRL500.hf\n",
      "read file : yambo/k8_ecut30_nb12/hf_exRL2000/o-hf_exRL2000.hf\n",
      "read file : yambo/k8_ecut30_nb12/hf_exRL2500/o-hf_exRL2500.hf\n",
      "read file : yambo/k2_ecut30_nb12/hf_exRL1000/o-hf_exRL1000.hf\n",
      "read file : yambo/k2_ecut30_nb12/hf_exRL1500/o-hf_exRL1500.hf\n",
      "read file : yambo/k2_ecut30_nb12/hf_exRL500/o-hf_exRL500.hf\n",
      "read file : yambo/k2_ecut30_nb12/hf_exRL2000/o-hf_exRL2000.hf\n",
      "read file : yambo/k2_ecut30_nb12/hf_exRL2500/o-hf_exRL2500.hf\n",
      "read file : yambo/k4_ecut30_nb12/hf_exRL1000/o-hf_exRL1000.hf\n",
      "read file : yambo/k4_ecut30_nb12/hf_exRL1500/o-hf_exRL1500.hf\n",
      "read file : yambo/k4_ecut30_nb12/hf_exRL500/o-hf_exRL500.hf\n",
      "read file : yambo/k4_ecut30_nb12/hf_exRL2000/o-hf_exRL2000.hf\n",
      "read file : yambo/k4_ecut30_nb12/hf_exRL2500/o-hf_exRL2500.hf\n",
      "read file : yambo/k6_ecut30_nb12/hf_exRL1000/o-hf_exRL1000.hf\n",
      "read file : yambo/k6_ecut30_nb12/hf_exRL1500/o-hf_exRL1500.hf\n",
      "read file : yambo/k6_ecut30_nb12/hf_exRL500/o-hf_exRL500.hf\n",
      "read file : yambo/k6_ecut30_nb12/hf_exRL2000/o-hf_exRL2000.hf\n",
      "read file : yambo/k6_ecut30_nb12/hf_exRL2500/o-hf_exRL2500.hf\n"
     ]
    }
   ],
   "source": [
    "# reads the results\n",
    "R.getHFresults(yamboDic)"
   ]
  },
  {
   "cell_type": "markdown",
   "metadata": {},
   "source": [
    "Analysis of the convergence of $\\frac{EHF-E0}{E0}$ in function of the number of nscf_kpoints. Uses the first (and actually the only) value of the parameters nscf_nbnds and nscf_ecut"
   ]
  },
  {
   "cell_type": "code",
   "execution_count": 17,
   "metadata": {},
   "outputs": [
    {
     "data": {
      "image/png": "[encoded data removed]",
      "text/plain": [
       "<Figure size 432x288 with 1 Axes>"
      ]
     },
     "metadata": {},
     "output_type": "display_data"
    }
   ],
   "source": [
    "kp = yamboDic.keys()\n",
    "kp.sort()\n",
    "nb = nscf_nbnds[0]\n",
    "ecut = nscf_ecut[0]\n",
    "exRL = EXXRLvcs[3]\n",
    "\n",
    "colors = ['black','red','blue','green']\n",
    "for ind,k in enumerate(kp):\n",
    "    y = yamboDic[k][ecut][nb]['hf'][exRL]\n",
    "    BND = y['BND']\n",
    "    E0 = y['E0']\n",
    "    EHF = y['EHF']\n",
    "    for bnd,e0,ehf in zip(BND,E0,EHF):\n",
    "        if bnd < 8: #plot points of the first 8 band\n",
    "            plt.scatter(e0,ehf-e0,c = colors[ind])\n",
    "plt.title('Ecut_'+str(ecut)+', EXXRL_'+str(exRL))\n",
    "plt.show()"
   ]
  },
  {
   "cell_type": "markdown",
   "metadata": {},
   "source": [
    "Analysis of the convergence of the gap (both direct and indirect)"
   ]
  },
  {
   "cell_type": "code",
   "execution_count": 18,
   "metadata": {},
   "outputs": [
    {
     "name": "stdout",
     "output_type": "stream",
     "text": [
      "{1000: [9.485406, 8.067242, 7.802669999999999, 7.753550000000001], 1500: [9.645052, 8.223525, 7.956619999999999, 7.907760000000001], 500: [8.777731, 7.575824, 7.31935, 7.24456], 2000: [9.645052, 8.223525, 7.956619999999999, 7.907760000000001], 2500: [9.644817, 8.230665, 7.96211, 7.9092899999999995]}\n"
     ]
    },
    {
     "data": {
      "image/png": "[encoded data removed]",
      "text/plain": [
       "<Figure size 432x288 with 1 Axes>"
      ]
     },
     "metadata": {},
     "output_type": "display_data"
    }
   ],
   "source": [
    "kp = yamboDic.keys()\n",
    "kp.sort()\n",
    "nb = nscf_nbnds[0]\n",
    "ecut = nscf_ecut[0]\n",
    "\n",
    "dirGap = {}\n",
    "for exRL in EXXRLvcs:\n",
    "    dirGap[exRL] = []\n",
    "    for k in kp:\n",
    "        y = yamboDic[k][ecut][nb]['hf'][exRL]\n",
    "        ind = 0\n",
    "        for kVal,bndVal in zip(y['KP'],y['BND']):\n",
    "            if kVal == 1.0 and bndVal == 4.0:\n",
    "                break\n",
    "            else:\n",
    "                ind +=1\n",
    "        EHomo = y['EHF'][ind]\n",
    "        ind = 0\n",
    "        for kVal,bndVal in zip(y['KP'],y['BND']):\n",
    "            if kVal == 1.0 and bndVal == 5.0:\n",
    "                break\n",
    "            else:\n",
    "                ind +=1\n",
    "        ELumo = y['EHF'][ind]\n",
    "        dirGap[exRL].append(ELumo-EHomo)\n",
    "\n",
    "    plt.plot(kp,dirGap[exRL],label= 'EXXRL_'+str(exRL))\n",
    "\n",
    "print dirGap\n",
    "plt.title('Direct gap')\n",
    "plt.legend()\n",
    "plt.show()"
   ]
  },
  {
   "cell_type": "code",
   "execution_count": 19,
   "metadata": {},
   "outputs": [
    {
     "name": "stdout",
     "output_type": "stream",
     "text": [
      "{1000: [7.008995, 5.546253, 5.255940000000001, 5.2013], 1500: [7.236225, 5.798093, 5.508369999999999, 5.45594], 500: [5.9684349999999995, 4.6912720000000006, 4.41859, 4.355919999999999], 2000: [7.236225, 5.798093, 5.508369999999999, 5.45594], 2500: [7.30334, 5.876089, 5.58709, 5.53428]}\n"
     ]
    },
    {
     "data": {
      "image/png": "[encoded data removed]",
      "text/plain": [
       "<Figure size 432x288 with 1 Axes>"
      ]
     },
     "metadata": {},
     "output_type": "display_data"
    }
   ],
   "source": [
    "kp = yamboDic.keys()\n",
    "kp.sort()\n",
    "nb = nscf_nbnds[0]\n",
    "ecut = nscf_ecut[0]\n",
    "\n",
    "# stucture for indirect gap [k] : [khomo,klumo]\n",
    "# using indGap as difference between homo in Gamma(0,0,0) \n",
    "# and lumo in (0.0, -0.5, -0.5) (rlu)\n",
    "par = {2:[1,3], 4:[1,7], 6:[1,13], 8:[1,21]}\n",
    "\n",
    "indirGap = {}\n",
    "for exRL in EXXRLvcs:\n",
    "    indirGap[exRL] = []\n",
    "    for k in kp:\n",
    "        y = yamboDic[k][ecut][nb]['hf'][exRL]\n",
    "        ind = 0\n",
    "        for kVal,bndVal in zip(y['KP'],y['BND']):\n",
    "            if kVal == par[k][0] and bndVal == 4.0:\n",
    "                break\n",
    "            else:\n",
    "                ind +=1\n",
    "        EHomo = y['EHF'][ind]\n",
    "        ind = 0\n",
    "        for kVal,bndVal in zip(y['KP'],y['BND']):\n",
    "            if kVal == par[k][1] and bndVal == 5.0:\n",
    "                break\n",
    "            else:\n",
    "                ind +=1\n",
    "        ELumo = y['EHF'][ind]\n",
    "        indirGap[exRL].append(ELumo-EHomo)\n",
    "\n",
    "    plt.plot(kp,indirGap[exRL],label= 'EXXRL_'+str(exRL))\n",
    "\n",
    "print indirGap\n",
    "plt.title('Indirect gap')\n",
    "plt.legend()\n",
    "plt.show()"
   ]
  },
  {
   "cell_type": "markdown",
   "metadata": {},
   "source": [
    "This plots conclude the convergence analysis of the HF approximation of the self-energy. "
   ]
  },
  {
   "cell_type": "markdown",
   "metadata": {},
   "source": [
    "### COHSEX approximation of $\\Sigma$"
   ]
  },
  {
   "cell_type": "markdown",
   "metadata": {},
   "source": [
    "As a first step work in the approximation \"without empty \"bands\". So we do not add the contribution of conduction bands for the evaluation of the Green function.\n",
    "The evaluation of $W$ passes through:\n",
    "$$\n",
    "\\chi = \\chi_0 + \\chi_0(v_H+f_{xc})\\chi \\\\\n",
    "W = v+v\\chi v\n",
    "$$\n",
    "In the COHSEX one considers only the static contribution of the response $\\chi(\\omega=0)$ and we also limit our analysis to the Hartree kernel, so that $f_{xc}=0$ (RPA approximations?)."
   ]
  },
  {
   "cell_type": "markdown",
   "metadata": {},
   "source": [
    "Relevant parameters for the convergence:\n",
    "* k-points as for the HF case. Perform a bunch of simulation in the various folder built after the nscf \n",
    "calculations\n",
    "* energy cutoff of the plane wave expansion. In this case the parameter is NGsBlkXs. It has the same meaning of EXXRLvcs in the HF case?\n",
    "* number of empty bands for the construction of $\\chi_0$"
   ]
  },
  {
   "cell_type": "code",
   "execution_count": 60,
   "metadata": {},
   "outputs": [],
   "source": [
    "W_Gcomp = [500,1000,1500] #[500,1000,1500,2000,2500]  #mHa\n",
    "W_nbnds = [10,20]"
   ]
  },
  {
   "cell_type": "code",
   "execution_count": 61,
   "metadata": {},
   "outputs": [],
   "source": [
    "def buildCOHSEXinput(fold,fname,wg,wn):\n",
    "    #-b static inverse dielectric matrix\n",
    "    #-k kernel type: hartree\n",
    "    #-g Dyson Equation solver (n)ewton\n",
    "    #-p GW approximations (c)OHSEX\n",
    "    # yambo -b -k hartree -g n -p c\n",
    "    y = YamboIn('yambo -b -k hartee -g n -p c -V All',folder=fold)\n",
    "    y['NGsBlkXs'] = [wg,'mHa']\n",
    "    wnInp = [1,wn]\n",
    "    y['BndsRnXs'] = wnInp\n",
    "    y.write(fold+'/'+fname)\n",
    "\n",
    "def buildCOHSEX(ydic,wgcomp,wnbnds):\n",
    "    \"\"\"\n",
    "    Build the input file for a yambo COHSEX computation and update the yambo dictionary\n",
    "    with the paramters of the choosen computations. The keys of the ['cs'] dictionary\n",
    "    are tuple of the form (W_Gcomp,W_nbnds)\n",
    "    \"\"\"\n",
    "    kpoints = ydic.keys()\n",
    "    for k in kpoints:\n",
    "        ecuts = ydic[k].keys()\n",
    "        for e in ecuts:\n",
    "            nb = ydic[k][e].keys()\n",
    "            for n in nb:\n",
    "                ydic[k][e][n]['cs'] = {}\n",
    "                for wg in wgcomp:\n",
    "                    for wn in wnbnds:    \n",
    "                        jobname = 'cs_WGcomp'+str(wg)+'_wNbn'+str(wn)\n",
    "                        inpfile = 'cs_WGcomp'+str(wg)+'_wNbn'+str(wn)+'.in'\n",
    "                        outfile = 'o-cs_WGcomp'+str(wg)+'_wNbn'+str(wn)+'.cs'\n",
    "                        buildCOHSEXinput(ydic[k][e][n]['folder'],inpfile,wg,wn)\n",
    "                        ydic[k][e][n]['cs'][(wg,wn)]= {'inputFile':inpfile,\n",
    "                        'jobName':jobname,\n",
    "                        'outputFile':ydic[k][e][n]['folder']+'/'+jobname+'/'+outfile}"
   ]
  },
  {
   "cell_type": "code",
   "execution_count": 62,
   "metadata": {},
   "outputs": [],
   "source": [
    "buildCOHSEX(yamboDic,W_Gcomp,W_nbnds)"
   ]
  },
  {
   "cell_type": "code",
   "execution_count": 64,
   "metadata": {},
   "outputs": [
    {
     "data": {
      "text/plain": [
       "{'inputFile': 'cs_WGcomp500_wNbn10.in',\n",
       " 'jobName': 'cs_WGcomp500_wNbn10',\n",
       " 'outputFile': 'yambo/k2_ecut30_nb12/cs_WGcomp500_wNbn10/o-cs_WGcomp500_wNbn10.cs'}"
      ]
     },
     "execution_count": 64,
     "metadata": {},
     "output_type": "execute_result"
    }
   ],
   "source": [
    "yamboDic[2][30][12]['cs'][500,10]"
   ]
  },
  {
   "cell_type": "code",
   "execution_count": null,
   "metadata": {},
   "outputs": [],
   "source": []
  },
  {
   "cell_type": "code",
   "execution_count": null,
   "metadata": {},
   "outputs": [],
   "source": []
  },
  {
   "cell_type": "code",
   "execution_count": null,
   "metadata": {},
   "outputs": [],
   "source": []
  },
  {
   "cell_type": "code",
   "execution_count": null,
   "metadata": {},
   "outputs": [],
   "source": []
  },
  {
   "cell_type": "code",
   "execution_count": null,
   "metadata": {},
   "outputs": [],
   "source": []
  },
  {
   "cell_type": "code",
   "execution_count": null,
   "metadata": {},
   "outputs": [],
   "source": []
  },
  {
   "cell_type": "code",
   "execution_count": null,
   "metadata": {},
   "outputs": [],
   "source": []
  },
  {
   "cell_type": "code",
   "execution_count": null,
   "metadata": {},
   "outputs": [],
   "source": []
  },
  {
   "cell_type": "code",
   "execution_count": 2,
   "metadata": {},
   "outputs": [],
   "source": []
  },
  {
   "cell_type": "code",
   "execution_count": null,
   "metadata": {},
   "outputs": [],
   "source": []
  },
  {
   "cell_type": "code",
   "execution_count": null,
   "metadata": {},
   "outputs": [],
   "source": []
  },
  {
   "cell_type": "code",
   "execution_count": null,
   "metadata": {},
   "outputs": [],
   "source": []
  },
  {
   "cell_type": "code",
   "execution_count": null,
   "metadata": {},
   "outputs": [],
   "source": []
  },
  {
   "cell_type": "code",
   "execution_count": null,
   "metadata": {},
   "outputs": [],
   "source": []
  },
  {
   "cell_type": "code",
   "execution_count": null,
   "metadata": {},
   "outputs": [],
   "source": []
  },
  {
   "cell_type": "code",
   "execution_count": null,
   "metadata": {},
   "outputs": [],
   "source": []
  },
  {
   "cell_type": "code",
   "execution_count": null,
   "metadata": {},
   "outputs": [],
   "source": []
  },
  {
   "cell_type": "code",
   "execution_count": null,
   "metadata": {},
   "outputs": [],
   "source": [
    "#########################################################################à"
   ]
  },
  {
   "cell_type": "code",
   "execution_count": 170,
   "metadata": {},
   "outputs": [
    {
     "name": "stdout",
     "output_type": "stream",
     "text": [
      "HF/k2_ecut30_nb20/hf_7\n"
     ]
    }
   ],
   "source": [
    "#use yambopy tool to generate json file for data analysis\n",
    "pack_files_in_folder('HF/k2_ecut30_nb20')"
   ]
  },
  {
   "cell_type": "code",
   "execution_count": 171,
   "metadata": {},
   "outputs": [
    {
     "name": "stdout",
     "output_type": "stream",
     "text": [
      "/home/marco/Data/RICERCA/MANY BODY/Yambo-nb/Si-equilibrium/GW convergence analysis/HF/k2_ecut30_nb20\n",
      "/home/marco/Data/RICERCA/MANY BODY/Yambo-nb/Si-equilibrium/GW convergence analysis\n"
     ]
    }
   ],
   "source": [
    "# We can also directly read the .json file as a python dictionary\n",
    "%cd 'HF/k2_ecut30_nb20'\n",
    "with open('hf_7.json') as f:\n",
    "    results = json.load(f)\n",
    "%cd ../../"
   ]
  },
  {
   "cell_type": "code",
   "execution_count": 174,
   "metadata": {
    "scrolled": true
   },
   "outputs": [
    {
     "data": {
      "text/plain": [
       "{u'alat': [5.150000095367432, 5.150000095367432, 5.150000095367432],\n",
       " u'atompos': [[-1.287500023841858, 1.287500023841858, 1.287500023841858]],\n",
       " u'atomtype': [14.0],\n",
       " u'data': {},\n",
       " u'inputfile': {},\n",
       " u'kpts_iku': [[0.0, 0.0, 0.0],\n",
       "  [0.25, -0.25, 0.25],\n",
       "  [0.0, -0.5, 0.0],\n",
       "  [0.25, -0.25, -0.25]],\n",
       " u'lattice': [[-5.150000095367432, 0.0, 5.150000095367432],\n",
       "  [0.0, 5.150000095367432, 5.150000095367432],\n",
       "  [-5.150000095367432, 5.150000095367432, 0.0]],\n",
       " u'runtime': {u'r-hf_7_HF_and_locXC': {u'[04.01] HF occupations report': [u'Overview']}},\n",
       " u'sym_car': [[[1.0, 0.0, 0.0], [0.0, 1.0, 0.0], [0.0, 0.0, 1.0]],\n",
       "  [[0.0, 1.0, 0.0], [1.0, 0.0, 0.0], [0.0, 0.0, -1.0]],\n",
       "  [[0.0, 0.0, 1.0], [0.0, -1.0, 0.0], [1.0, 0.0, 0.0]],\n",
       "  [[-1.0, 0.0, 0.0], [0.0, 0.0, -1.0], [0.0, -1.0, 0.0]],\n",
       "  [[0.0, 0.0, -1.0], [-1.0, 0.0, 0.0], [0.0, 1.0, 0.0]],\n",
       "  [[0.0, -1.0, 0.0], [0.0, 0.0, 1.0], [-1.0, 0.0, 0.0]],\n",
       "  [[-1.0, 0.0, 0.0], [0.0, -1.0, 0.0], [0.0, 0.0, -1.0]],\n",
       "  [[0.0, -1.0, 0.0], [-1.0, 0.0, 0.0], [0.0, 0.0, 1.0]],\n",
       "  [[0.0, 0.0, -1.0], [0.0, 1.0, 0.0], [-1.0, 0.0, 0.0]],\n",
       "  [[1.0, 0.0, 0.0], [0.0, 0.0, 1.0], [0.0, 1.0, 0.0]],\n",
       "  [[0.0, 0.0, 1.0], [1.0, 0.0, 0.0], [0.0, -1.0, 0.0]],\n",
       "  [[0.0, 1.0, 0.0], [0.0, 0.0, -1.0], [1.0, 0.0, 0.0]]],\n",
       " u'tags': {}}"
      ]
     },
     "execution_count": 174,
     "metadata": {},
     "output_type": "execute_result"
    }
   ],
   "source": [
    "results"
   ]
  }
 ],
 "metadata": {
  "kernelspec": {
   "display_name": "Python 2",
   "language": "python",
   "name": "python2"
  },
  "language_info": {
   "codemirror_mode": {
    "name": "ipython",
    "version": 2
   },
   "file_extension": ".py",
   "mimetype": "text/x-python",
   "name": "python",
   "nbconvert_exporter": "python",
   "pygments_lexer": "ipython2",
   "version": "2.7.15rc1"
  }
 },
 "nbformat": 4,
 "nbformat_minor": 2
}
