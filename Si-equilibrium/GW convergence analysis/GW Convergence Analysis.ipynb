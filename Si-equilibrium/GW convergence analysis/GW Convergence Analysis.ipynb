{
 "cells": [
  {
   "cell_type": "code",
   "execution_count": 1,
   "metadata": {},
   "outputs": [],
   "source": [
    "from qepy import *\n",
    "from yambopy import *\n",
    "from qepy import PwIn\n",
    "import matplotlib.pyplot as plt\n",
    "import numpy as np\n",
    "import Routines as R"
   ]
  },
  {
   "cell_type": "markdown",
   "metadata": {},
   "source": [
    "## Convergence analysis of the self-consistent QE computation"
   ]
  },
  {
   "cell_type": "markdown",
   "metadata": {},
   "source": [
    "We study the convergence of the self-consistent computation for the determination of the ground state density. The relevant convergence parameteres are the number of k-points and the cutoff on the plane wave expansion"
   ]
  },
  {
   "cell_type": "code",
   "execution_count": 2,
   "metadata": {},
   "outputs": [],
   "source": [
    "reload(R)\n",
    "scf_kpoints = [2,3,4,5,6]\n",
    "scf_ecut = [10,15,20,25,30] #eV\n",
    "scfDict = R.buildScf(scf_kpoints,scf_ecut)"
   ]
  },
  {
   "cell_type": "code",
   "execution_count": 3,
   "metadata": {},
   "outputs": [
    {
     "name": "stdout",
     "output_type": "stream",
     "text": [
      "skip the computation for : scf/output/k2_ecut10.log\n",
      "skip the computation for : scf/output/k2_ecut15.log\n",
      "skip the computation for : scf/output/k2_ecut20.log\n",
      "skip the computation for : scf/output/k2_ecut25.log\n",
      "skip the computation for : scf/output/k2_ecut30.log\n",
      "skip the computation for : scf/output/k3_ecut10.log\n",
      "skip the computation for : scf/output/k3_ecut15.log\n",
      "skip the computation for : scf/output/k3_ecut20.log\n",
      "skip the computation for : scf/output/k3_ecut25.log\n",
      "skip the computation for : scf/output/k3_ecut30.log\n",
      "skip the computation for : scf/output/k4_ecut10.log\n",
      "skip the computation for : scf/output/k4_ecut15.log\n",
      "skip the computation for : scf/output/k4_ecut20.log\n",
      "skip the computation for : scf/output/k4_ecut25.log\n",
      "skip the computation for : scf/output/k4_ecut30.log\n",
      "skip the computation for : scf/output/k5_ecut10.log\n",
      "skip the computation for : scf/output/k5_ecut15.log\n",
      "skip the computation for : scf/output/k5_ecut20.log\n",
      "skip the computation for : scf/output/k5_ecut25.log\n",
      "skip the computation for : scf/output/k5_ecut30.log\n",
      "skip the computation for : scf/output/k6_ecut10.log\n",
      "skip the computation for : scf/output/k6_ecut15.log\n",
      "skip the computation for : scf/output/k6_ecut20.log\n",
      "skip the computation for : scf/output/k6_ecut25.log\n",
      "skip the computation for : scf/output/k6_ecut30.log\n"
     ]
    }
   ],
   "source": [
    "R.runScf(scfDict,8,True)"
   ]
  },
  {
   "cell_type": "code",
   "execution_count": 4,
   "metadata": {},
   "outputs": [],
   "source": [
    "# add the energy field to scfDict\n",
    "for k in scfDict:\n",
    "    for e in scfDict[k]:\n",
    "        scfDict[k][e]['energy'] = R.get_totalEnergy(scfDict[k][e]['outputFile'])"
   ]
  },
  {
   "cell_type": "code",
   "execution_count": 5,
   "metadata": {},
   "outputs": [
    {
     "data": {
      "image/png": "[encoded data removed]",
      "text/plain": [
       "<Figure size 432x288 with 1 Axes>"
      ]
     },
     "metadata": {},
     "output_type": "display_data"
    }
   ],
   "source": [
    "# plot the total energy in function of the ecut for each choice of kpoints\n",
    "for k in scf_kpoints:\n",
    "    energy = []\n",
    "    for e in scf_ecut:\n",
    "        energy.append(scfDict[k][e]['energy'])\n",
    "    plt.plot(scf_ecut,energy,label= 'kp = '+str(k))\n",
    "plt.title('GS energy',size = 12)\n",
    "plt.xlabel('energy cutoff (eV)',size = 12)\n",
    "plt.legend()\n",
    "plt.show()\n",
    "    "
   ]
  },
  {
   "cell_type": "markdown",
   "metadata": {},
   "source": [
    "We choose kpoints = 6 and ecut = 30 as convergence parameters of the scf computation"
   ]
  },
  {
   "cell_type": "code",
   "execution_count": 6,
   "metadata": {},
   "outputs": [],
   "source": [
    "scf_kconv = 6\n",
    "scf_ecutconv = 30"
   ]
  },
  {
   "cell_type": "markdown",
   "metadata": {},
   "source": [
    "## QE nscf simulations"
   ]
  },
  {
   "cell_type": "markdown",
   "metadata": {},
   "source": [
    "We perform a bunch of nscf simulations starting from the results of the scf one with converged parameters.\n",
    "\n",
    "Nscf simulations use the same value of the ecut parameter found in converged scf computation are performed parametrically in terms of the quantities:\n",
    "\n",
    "* nscf_kpoints\n",
    "* nscf_nbnds"
   ]
  },
  {
   "cell_type": "code",
   "execution_count": 7,
   "metadata": {},
   "outputs": [],
   "source": [
    "nscf_kpoints = [2,4,6,8]\n",
    "# it is sufficient to give to the nscf_bnds only a single (high) value and\n",
    "# the parametric run will be done at the subsequent levels\n",
    "nscf_nbnds = [100]"
   ]
  },
  {
   "cell_type": "code",
   "execution_count": 9,
   "metadata": {},
   "outputs": [],
   "source": [
    "reload(R)\n",
    "nscfDict = R.buildNscf(nscf_kpoints,nscf_nbnds,scf_kconv,scf_ecutconv)\n",
    "#nscfDict"
   ]
  },
  {
   "cell_type": "code",
   "execution_count": 10,
   "metadata": {
    "scrolled": true
   },
   "outputs": [
    {
     "name": "stdout",
     "output_type": "stream",
     "text": [
      "execute : mpirun -np 8 pw.x -inp nscf/input/k2_nb100.nscf > nscf/output/k2_nb100.log\n",
      "execute : mpirun -np 8 pw.x -inp nscf/input/k4_nb100.nscf > nscf/output/k4_nb100.log\n",
      "execute : mpirun -np 8 pw.x -inp nscf/input/k6_nb100.nscf > nscf/output/k6_nb100.log\n",
      "execute : mpirun -np 8 pw.x -inp nscf/input/k8_nb100.nscf > nscf/output/k8_nb100.log\n"
     ]
    }
   ],
   "source": [
    "R.runNscf(nscfDict,8,True)"
   ]
  },
  {
   "cell_type": "markdown",
   "metadata": {},
   "source": [
    "Prepare the system for the yambo computation. Run p2y and yambo (without options) in all the .save folders\n",
    "generated by the nscf simulations"
   ]
  },
  {
   "cell_type": "code",
   "execution_count": 11,
   "metadata": {},
   "outputs": [
    {
     "name": "stdout",
     "output_type": "stream",
     "text": [
      "execute : cd nscf/output/k2_nb100.save;p2y;yambo\n",
      "execute : cd nscf/output/k4_nb100.save;p2y;yambo\n",
      "execute : cd nscf/output/k6_nb100.save;p2y;yambo\n",
      "execute : cd nscf/output/k8_nb100.save;p2y;yambo\n"
     ]
    }
   ],
   "source": [
    "R.runP2y(nscfDict)"
   ]
  },
  {
   "cell_type": "markdown",
   "metadata": {},
   "source": [
    "## Convergence analysis of various approximations for the self energy"
   ]
  },
  {
   "cell_type": "markdown",
   "metadata": {},
   "source": [
    "Create the high-level yambo folder. For each choice of the nscf parameters create a folder with the name kp_#k_nb#nbnds and the copy the corresponding SAVE directory in the associated folder and perform a nscf QE computation in this folder. \n",
    "\n",
    "Structure of the yambo dictionary:\n",
    "\n",
    "yambo[nscf_kpoints][nscf_nbnds] = {}\n",
    "\n",
    "This dictionary has a key 'folder' that identifies the folder in which the subsequent yambo\n",
    "computations are performed and a set of keys like 'hf', 'cosex',.... that contains a further dictionaries with the parameters and results of the different levels of yambo computations "
   ]
  },
  {
   "cell_type": "markdown",
   "metadata": {},
   "source": [
    "TODO: the [nscf_nbnds] of the yamboDic can be removed!"
   ]
  },
  {
   "cell_type": "code",
   "execution_count": 12,
   "metadata": {},
   "outputs": [
    {
     "name": "stdout",
     "output_type": "stream",
     "text": [
      "execute : cp -r nscf/output/k8_nb100.save/SAVE yambo/k8_nb100\n",
      "execute : cp -r nscf/output/k2_nb100.save/SAVE yambo/k2_nb100\n",
      "execute : cp -r nscf/output/k4_nb100.save/SAVE yambo/k4_nb100\n",
      "execute : cp -r nscf/output/k6_nb100.save/SAVE yambo/k6_nb100\n"
     ]
    }
   ],
   "source": [
    "reload(R)\n",
    "yamboDic = R.buildYambo(nscfDict)\n",
    "#yamboDic"
   ]
  },
  {
   "cell_type": "markdown",
   "metadata": {},
   "source": [
    "We discuss different approximations for the self energy $\\Sigma = G_0 W$. \n",
    "The evaluation of $W$ passes through:\n",
    "$$\n",
    "\\chi = \\chi_0 + \\chi_0(v_H+f_{xc})\\chi \\\\\n",
    "W = v+v\\chi v\n",
    "$$"
   ]
  },
  {
   "cell_type": "markdown",
   "metadata": {},
   "source": [
    "### HF approximation of $\\Sigma$"
   ]
  },
  {
   "cell_type": "markdown",
   "metadata": {},
   "source": [
    "The HF approximation is realized by posing $W=v$, so that the bare Coulomb potential is used as the screened one. \n",
    "In this case the self energy does not depend from the number of empty bands (only the occupied orbitals are relevant).\n",
    "\n",
    "The relevant parameters for the convergence analysis are the number of k points and the cutoff value of the plane wave expansion of G0 (called G0_Gcomp in what follows). "
   ]
  },
  {
   "cell_type": "code",
   "execution_count": 44,
   "metadata": {},
   "outputs": [],
   "source": [
    "G0_Gcomp = [.5,1.0,2.0,3.0,4.0]  #Ha\n",
    "# compute the HF correction only for the bands in the range\n",
    "firstbnd = 3\n",
    "lastbnd = 6"
   ]
  },
  {
   "cell_type": "markdown",
   "metadata": {},
   "source": [
    "Build the input file and prepare yamboDic"
   ]
  },
  {
   "cell_type": "code",
   "execution_count": 45,
   "metadata": {},
   "outputs": [],
   "source": [
    "reload(R)\n",
    "R.buildHF(yamboDic,G0_Gcomp,firstbnd,lastbnd)\n",
    "#yamboDic"
   ]
  },
  {
   "cell_type": "code",
   "execution_count": 46,
   "metadata": {
    "scrolled": false
   },
   "outputs": [
    {
     "name": "stdout",
     "output_type": "stream",
     "text": [
      "execute : cd yambo/k2_nb100 ; mpirun -np 8 yambo -F hf_gComp0.5.in -J hf_gComp0.5 -C hf_gComp0.5\n",
      "done!\n",
      "execute : cd yambo/k2_nb100 ; mpirun -np 8 yambo -F hf_gComp1.0.in -J hf_gComp1.0 -C hf_gComp1.0\n",
      "done!\n",
      "execute : cd yambo/k2_nb100 ; mpirun -np 8 yambo -F hf_gComp2.0.in -J hf_gComp2.0 -C hf_gComp2.0\n",
      "done!\n",
      "execute : cd yambo/k2_nb100 ; mpirun -np 8 yambo -F hf_gComp3.0.in -J hf_gComp3.0 -C hf_gComp3.0\n",
      "done!\n",
      "execute : cd yambo/k2_nb100 ; mpirun -np 8 yambo -F hf_gComp4.0.in -J hf_gComp4.0 -C hf_gComp4.0\n",
      "done!\n",
      "execute : cd yambo/k4_nb100 ; mpirun -np 8 yambo -F hf_gComp0.5.in -J hf_gComp0.5 -C hf_gComp0.5\n",
      "done!\n",
      "execute : cd yambo/k4_nb100 ; mpirun -np 8 yambo -F hf_gComp1.0.in -J hf_gComp1.0 -C hf_gComp1.0\n",
      "done!\n",
      "execute : cd yambo/k4_nb100 ; mpirun -np 8 yambo -F hf_gComp2.0.in -J hf_gComp2.0 -C hf_gComp2.0\n",
      "done!\n",
      "execute : cd yambo/k4_nb100 ; mpirun -np 8 yambo -F hf_gComp3.0.in -J hf_gComp3.0 -C hf_gComp3.0\n",
      "done!\n",
      "execute : cd yambo/k4_nb100 ; mpirun -np 8 yambo -F hf_gComp4.0.in -J hf_gComp4.0 -C hf_gComp4.0\n",
      "done!\n",
      "execute : cd yambo/k6_nb100 ; mpirun -np 8 yambo -F hf_gComp0.5.in -J hf_gComp0.5 -C hf_gComp0.5\n",
      "done!\n",
      "execute : cd yambo/k6_nb100 ; mpirun -np 8 yambo -F hf_gComp1.0.in -J hf_gComp1.0 -C hf_gComp1.0\n",
      "done!\n",
      "execute : cd yambo/k6_nb100 ; mpirun -np 8 yambo -F hf_gComp2.0.in -J hf_gComp2.0 -C hf_gComp2.0\n",
      "done!\n",
      "execute : cd yambo/k6_nb100 ; mpirun -np 8 yambo -F hf_gComp3.0.in -J hf_gComp3.0 -C hf_gComp3.0\n",
      "done!\n",
      "execute : cd yambo/k6_nb100 ; mpirun -np 8 yambo -F hf_gComp4.0.in -J hf_gComp4.0 -C hf_gComp4.0\n",
      "done!\n",
      "execute : cd yambo/k8_nb100 ; mpirun -np 8 yambo -F hf_gComp0.5.in -J hf_gComp0.5 -C hf_gComp0.5\n",
      "done!\n",
      "execute : cd yambo/k8_nb100 ; mpirun -np 8 yambo -F hf_gComp1.0.in -J hf_gComp1.0 -C hf_gComp1.0\n",
      "done!\n",
      "execute : cd yambo/k8_nb100 ; mpirun -np 8 yambo -F hf_gComp2.0.in -J hf_gComp2.0 -C hf_gComp2.0\n",
      "done!\n",
      "execute : cd yambo/k8_nb100 ; mpirun -np 8 yambo -F hf_gComp3.0.in -J hf_gComp3.0 -C hf_gComp3.0\n",
      "done!\n",
      "execute : cd yambo/k8_nb100 ; mpirun -np 8 yambo -F hf_gComp4.0.in -J hf_gComp4.0 -C hf_gComp4.0\n",
      "done!\n"
     ]
    }
   ],
   "source": [
    "# run the HF simulations\n",
    "R.runHF(yamboDic,8,True)\n",
    "#yamboDic"
   ]
  },
  {
   "cell_type": "code",
   "execution_count": 47,
   "metadata": {},
   "outputs": [
    {
     "name": "stdout",
     "output_type": "stream",
     "text": [
      "read file : yambo/k8_nb100/hf_gComp0.5/o-hf_gComp0.5.hf\n",
      "read file : yambo/k8_nb100/hf_gComp1.0/o-hf_gComp1.0.hf\n",
      "read file : yambo/k8_nb100/hf_gComp2.0/o-hf_gComp2.0.hf\n",
      "read file : yambo/k8_nb100/hf_gComp3.0/o-hf_gComp3.0.hf\n",
      "read file : yambo/k8_nb100/hf_gComp4.0/o-hf_gComp4.0.hf\n",
      "read file : yambo/k2_nb100/hf_gComp0.5/o-hf_gComp0.5.hf\n",
      "read file : yambo/k2_nb100/hf_gComp1.0/o-hf_gComp1.0.hf\n",
      "read file : yambo/k2_nb100/hf_gComp2.0/o-hf_gComp2.0.hf\n",
      "read file : yambo/k2_nb100/hf_gComp3.0/o-hf_gComp3.0.hf\n",
      "read file : yambo/k2_nb100/hf_gComp4.0/o-hf_gComp4.0.hf\n",
      "read file : yambo/k4_nb100/hf_gComp0.5/o-hf_gComp0.5.hf\n",
      "read file : yambo/k4_nb100/hf_gComp1.0/o-hf_gComp1.0.hf\n",
      "read file : yambo/k4_nb100/hf_gComp2.0/o-hf_gComp2.0.hf\n",
      "read file : yambo/k4_nb100/hf_gComp3.0/o-hf_gComp3.0.hf\n",
      "read file : yambo/k4_nb100/hf_gComp4.0/o-hf_gComp4.0.hf\n",
      "read file : yambo/k6_nb100/hf_gComp0.5/o-hf_gComp0.5.hf\n",
      "read file : yambo/k6_nb100/hf_gComp1.0/o-hf_gComp1.0.hf\n",
      "read file : yambo/k6_nb100/hf_gComp2.0/o-hf_gComp2.0.hf\n",
      "read file : yambo/k6_nb100/hf_gComp3.0/o-hf_gComp3.0.hf\n",
      "read file : yambo/k6_nb100/hf_gComp4.0/o-hf_gComp4.0.hf\n"
     ]
    }
   ],
   "source": [
    "# reads the results\n",
    "R.getHFresults(yamboDic)"
   ]
  },
  {
   "cell_type": "markdown",
   "metadata": {},
   "source": [
    "Analysis of the convergence of $\\frac{EHF-E0}{E0}$ in function of the number of nscf_kpoints. Uses the first (and actually the only) value of the parameters nscf_nbnds and nscf_ecut"
   ]
  },
  {
   "cell_type": "code",
   "execution_count": 48,
   "metadata": {},
   "outputs": [
    {
     "data": {
      "image/png": "[encoded data removed]",
      "text/plain": [
       "<Figure size 432x288 with 1 Axes>"
      ]
     },
     "metadata": {},
     "output_type": "display_data"
    }
   ],
   "source": [
    "kp = yamboDic.keys()\n",
    "kp.sort()\n",
    "nb = nscf_nbnds[0]\n",
    "gcomp = G0_Gcomp[3]\n",
    "\n",
    "colors = ['black','red','blue','green']\n",
    "for ind,k in enumerate(kp):\n",
    "    y = yamboDic[k][nb]['hf'][gcomp]\n",
    "    E0 = y['E0']\n",
    "    EHF = y['EHF']\n",
    "    for e0,ehf in zip(E0,EHF):\n",
    "        plt.scatter(e0,ehf-e0,c = colors[ind])\n",
    "plt.title('G0_Gcomp = '+str(gcomp)+' Ha')\n",
    "plt.show()"
   ]
  },
  {
   "cell_type": "markdown",
   "metadata": {},
   "source": [
    "Analysis of the convergence of the gap (both direct and indirect)"
   ]
  },
  {
   "cell_type": "code",
   "execution_count": 49,
   "metadata": {},
   "outputs": [
    {
     "name": "stdout",
     "output_type": "stream",
     "text": [
      "HF direct gap (converged) :  7.89563  eV\n"
     ]
    },
    {
     "data": {
      "image/png": "[encoded data removed]",
      "text/plain": [
       "<Figure size 432x288 with 1 Axes>"
      ]
     },
     "metadata": {},
     "output_type": "display_data"
    }
   ],
   "source": [
    "kp = yamboDic.keys()\n",
    "kp.sort()\n",
    "nb = nscf_nbnds[0]\n",
    "\n",
    "dirGap = {}\n",
    "for gcomp in G0_Gcomp:\n",
    "    dirGap[gcomp] = []\n",
    "    for k in kp:\n",
    "        y = yamboDic[k][nb]['hf'][gcomp]\n",
    "        ind = 0\n",
    "        for kVal,bndVal in zip(y['KP'],y['BND']):\n",
    "            if kVal == 1.0 and bndVal == 4.0:\n",
    "                break\n",
    "            else:\n",
    "                ind +=1\n",
    "        EHomo = y['EHF'][ind]\n",
    "        ind = 0\n",
    "        for kVal,bndVal in zip(y['KP'],y['BND']):\n",
    "            if kVal == 1.0 and bndVal == 5.0:\n",
    "                break\n",
    "            else:\n",
    "                ind +=1\n",
    "        ELumo = y['EHF'][ind]\n",
    "        dirGap[gcomp].append(ELumo-EHomo)\n",
    "\n",
    "    plt.plot(kp,dirGap[gcomp],label= 'G0_Gcomp_'+str(gcomp))\n",
    "\n",
    "print 'HF direct gap (converged) : ',dirGap[G0_Gcomp[-1]][-1], ' eV'\n",
    "plt.title('Direct gap')\n",
    "plt.legend()\n",
    "plt.show()"
   ]
  },
  {
   "cell_type": "code",
   "execution_count": 50,
   "metadata": {},
   "outputs": [
    {
     "name": "stdout",
     "output_type": "stream",
     "text": [
      "HF indirect gap (converged) :  5.54212  eV\n"
     ]
    },
    {
     "data": {
      "image/png": "[encoded data removed]",
      "text/plain": [
       "<Figure size 432x288 with 1 Axes>"
      ]
     },
     "metadata": {},
     "output_type": "display_data"
    }
   ],
   "source": [
    "kp = yamboDic.keys()\n",
    "kp.sort()\n",
    "nb = nscf_nbnds[0]\n",
    "\n",
    "# stucture for indirect gap [k] : [khomo,klumo]\n",
    "# using indGap as difference between homo in Gamma(0,0,0) \n",
    "# and lumo in (0.0, -0.5, -0.5) (rlu)\n",
    "par = {2:[1,3], 4:[1,7], 6:[1,13], 8:[1,21]}\n",
    "\n",
    "indirGap = {}\n",
    "for gcomp in G0_Gcomp:\n",
    "    indirGap[gcomp] = []\n",
    "    for k in kp:\n",
    "        y = yamboDic[k][nb]['hf'][gcomp]\n",
    "        ind = 0\n",
    "        for kVal,bndVal in zip(y['KP'],y['BND']):\n",
    "            if kVal == par[k][0] and bndVal == 4.0:\n",
    "                break\n",
    "            else:\n",
    "                ind +=1\n",
    "        EHomo = y['EHF'][ind]\n",
    "        ind = 0\n",
    "        for kVal,bndVal in zip(y['KP'],y['BND']):\n",
    "            if kVal == par[k][1] and bndVal == 5.0:\n",
    "                break\n",
    "            else:\n",
    "                ind +=1\n",
    "        ELumo = y['EHF'][ind]\n",
    "        indirGap[gcomp].append(ELumo-EHomo)\n",
    "\n",
    "    plt.plot(kp,indirGap[gcomp],label= 'G0_Gcomp_'+str(gcomp))\n",
    "\n",
    "print 'HF indirect gap (converged) : ',indirGap[G0_Gcomp[-1]][-1], ' eV'\n",
    "plt.title('Indirect gap')\n",
    "plt.legend()\n",
    "plt.show()"
   ]
  },
  {
   "cell_type": "markdown",
   "metadata": {},
   "source": [
    "This plots conclude the convergence analysis of the HF approximation of the self-energy. On the basis of this analysis we choose the convergence values of the kpoints and G0_gcomp parameters:"
   ]
  },
  {
   "cell_type": "code",
   "execution_count": 51,
   "metadata": {},
   "outputs": [],
   "source": [
    "hf_kconv = 8\n",
    "hf_G0_Gcompconv = 3.0 #Ha"
   ]
  },
  {
   "cell_type": "markdown",
   "metadata": {},
   "source": [
    "### COHSEX approximation (without empties) of $\\Sigma$"
   ]
  },
  {
   "cell_type": "markdown",
   "metadata": {},
   "source": [
    "In the COHSEX one considers only the static contribution of the response $\\chi(\\omega=0)$ and we also limit our analysis to the Hartree kernel, so that $f_{xc}=0$ (RPA approximations).\n",
    "\n",
    "In this case (without empties) G0 still depends only from the number of kpoints and from the G0_Gcomp parameter. Moreover we introduce also a non trivial W potential and two more parameters come into the play. These are the cut of in the plane wave expansion of the response function for the construction of W (NGsBlkXs) and the number of empty bands used to write the Lehmann representation of $\\chi_0$ (BndsRnXs)."
   ]
  },
  {
   "cell_type": "code",
   "execution_count": 61,
   "metadata": {},
   "outputs": [],
   "source": [
    "W_Gcomp = [1.0,2.0,3.0,4.0,5.0,6.0] #Ha\n",
    "W_nb = [10,20,30,40,50]\n",
    "# compute the COHSEX correction only for the bands in the range\n",
    "firstk = 1\n",
    "lastk = 21 # the k index to compute the indirect band gap\n",
    "firstbnd = 3\n",
    "lastbnd = 6"
   ]
  },
  {
   "cell_type": "code",
   "execution_count": 62,
   "metadata": {},
   "outputs": [],
   "source": [
    "reload(R)\n",
    "R.buildCOHSEX(yamboDic,hf_kconv,hf_G0_Gcompconv,W_Gcomp,W_nb,firstk,lastk,firstbnd,lastbnd)"
   ]
  },
  {
   "cell_type": "code",
   "execution_count": 63,
   "metadata": {
    "scrolled": false
   },
   "outputs": [
    {
     "name": "stdout",
     "output_type": "stream",
     "text": [
      "execute : cd yambo/k8_nb100 ; mpirun -np 8 yambo -F cs_wGcomp6.0_wNb10.in -J cs_wGcomp6.0_wNb10 -C cs_wGcomp6.0_wNb10\n",
      "done!\n",
      "execute : cd yambo/k8_nb100 ; mpirun -np 8 yambo -F cs_wGcomp5.0_wNb50.in -J cs_wGcomp5.0_wNb50 -C cs_wGcomp5.0_wNb50\n",
      "done!\n",
      "skip the computation for : yambo/k8_nb100/cs_wGcomp1.0_wNb20/o-cs_wGcomp1.0_wNb20.qp\n",
      "skip the computation for : yambo/k8_nb100/cs_wGcomp5.0_wNb30/o-cs_wGcomp5.0_wNb30.qp\n",
      "execute : cd yambo/k8_nb100 ; mpirun -np 8 yambo -F cs_wGcomp6.0_wNb50.in -J cs_wGcomp6.0_wNb50 -C cs_wGcomp6.0_wNb50\n",
      "done!\n",
      "skip the computation for : yambo/k8_nb100/cs_wGcomp3.0_wNb10/o-cs_wGcomp3.0_wNb10.qp\n",
      "skip the computation for : yambo/k8_nb100/cs_wGcomp2.0_wNb30/o-cs_wGcomp2.0_wNb30.qp\n",
      "skip the computation for : yambo/k8_nb100/cs_wGcomp3.0_wNb20/o-cs_wGcomp3.0_wNb20.qp\n",
      "skip the computation for : yambo/k8_nb100/cs_wGcomp1.0_wNb10/o-cs_wGcomp1.0_wNb10.qp\n",
      "execute : cd yambo/k8_nb100 ; mpirun -np 8 yambo -F cs_wGcomp6.0_wNb30.in -J cs_wGcomp6.0_wNb30 -C cs_wGcomp6.0_wNb30\n",
      "done!\n",
      "skip the computation for : yambo/k8_nb100/cs_wGcomp4.0_wNb10/o-cs_wGcomp4.0_wNb10.qp\n",
      "execute : cd yambo/k8_nb100 ; mpirun -np 8 yambo -F cs_wGcomp6.0_wNb40.in -J cs_wGcomp6.0_wNb40 -C cs_wGcomp6.0_wNb40\n",
      "done!\n",
      "skip the computation for : yambo/k8_nb100/cs_wGcomp2.0_wNb20/o-cs_wGcomp2.0_wNb20.qp\n",
      "skip the computation for : yambo/k8_nb100/cs_wGcomp3.0_wNb30/o-cs_wGcomp3.0_wNb30.qp\n",
      "skip the computation for : yambo/k8_nb100/cs_wGcomp2.0_wNb10/o-cs_wGcomp2.0_wNb10.qp\n",
      "skip the computation for : yambo/k8_nb100/cs_wGcomp3.0_wNb40/o-cs_wGcomp3.0_wNb40.qp\n",
      "skip the computation for : yambo/k8_nb100/cs_wGcomp1.0_wNb40/o-cs_wGcomp1.0_wNb40.qp\n",
      "skip the computation for : yambo/k8_nb100/cs_wGcomp4.0_wNb20/o-cs_wGcomp4.0_wNb20.qp\n",
      "execute : cd yambo/k8_nb100 ; mpirun -np 8 yambo -F cs_wGcomp1.0_wNb50.in -J cs_wGcomp1.0_wNb50 -C cs_wGcomp1.0_wNb50\n",
      "done!\n",
      "skip the computation for : yambo/k8_nb100/cs_wGcomp5.0_wNb10/o-cs_wGcomp5.0_wNb10.qp\n",
      "execute : cd yambo/k8_nb100 ; mpirun -np 8 yambo -F cs_wGcomp2.0_wNb50.in -J cs_wGcomp2.0_wNb50 -C cs_wGcomp2.0_wNb50\n",
      "done!\n",
      "skip the computation for : yambo/k8_nb100/cs_wGcomp2.0_wNb40/o-cs_wGcomp2.0_wNb40.qp\n",
      "skip the computation for : yambo/k8_nb100/cs_wGcomp4.0_wNb40/o-cs_wGcomp4.0_wNb40.qp\n",
      "execute : cd yambo/k8_nb100 ; mpirun -np 8 yambo -F cs_wGcomp3.0_wNb50.in -J cs_wGcomp3.0_wNb50 -C cs_wGcomp3.0_wNb50\n",
      "done!\n",
      "execute : cd yambo/k8_nb100 ; mpirun -np 8 yambo -F cs_wGcomp6.0_wNb20.in -J cs_wGcomp6.0_wNb20 -C cs_wGcomp6.0_wNb20\n",
      "done!\n",
      "skip the computation for : yambo/k8_nb100/cs_wGcomp5.0_wNb20/o-cs_wGcomp5.0_wNb20.qp\n",
      "execute : cd yambo/k8_nb100 ; mpirun -np 8 yambo -F cs_wGcomp4.0_wNb50.in -J cs_wGcomp4.0_wNb50 -C cs_wGcomp4.0_wNb50\n",
      "done!\n",
      "skip the computation for : yambo/k8_nb100/cs_wGcomp1.0_wNb30/o-cs_wGcomp1.0_wNb30.qp\n",
      "skip the computation for : yambo/k8_nb100/cs_wGcomp4.0_wNb30/o-cs_wGcomp4.0_wNb30.qp\n",
      "skip the computation for : yambo/k8_nb100/cs_wGcomp5.0_wNb40/o-cs_wGcomp5.0_wNb40.qp\n"
     ]
    }
   ],
   "source": [
    "R.runCOHSEX(yamboDic,hf_kconv,8,True)"
   ]
  },
  {
   "cell_type": "code",
   "execution_count": 64,
   "metadata": {},
   "outputs": [
    {
     "name": "stdout",
     "output_type": "stream",
     "text": [
      "read file : yambo/k8_nb100/cs_wGcomp6.0_wNb10/o-cs_wGcomp6.0_wNb10.qp\n",
      "read file : yambo/k8_nb100/cs_wGcomp5.0_wNb50/o-cs_wGcomp5.0_wNb50.qp\n",
      "read file : yambo/k8_nb100/cs_wGcomp1.0_wNb20/o-cs_wGcomp1.0_wNb20.qp\n",
      "read file : yambo/k8_nb100/cs_wGcomp5.0_wNb30/o-cs_wGcomp5.0_wNb30.qp\n",
      "read file : yambo/k8_nb100/cs_wGcomp6.0_wNb50/o-cs_wGcomp6.0_wNb50.qp\n",
      "read file : yambo/k8_nb100/cs_wGcomp3.0_wNb10/o-cs_wGcomp3.0_wNb10.qp\n",
      "read file : yambo/k8_nb100/cs_wGcomp2.0_wNb30/o-cs_wGcomp2.0_wNb30.qp\n",
      "read file : yambo/k8_nb100/cs_wGcomp3.0_wNb20/o-cs_wGcomp3.0_wNb20.qp\n",
      "read file : yambo/k8_nb100/cs_wGcomp1.0_wNb10/o-cs_wGcomp1.0_wNb10.qp\n",
      "read file : yambo/k8_nb100/cs_wGcomp6.0_wNb30/o-cs_wGcomp6.0_wNb30.qp\n",
      "read file : yambo/k8_nb100/cs_wGcomp4.0_wNb10/o-cs_wGcomp4.0_wNb10.qp\n",
      "read file : yambo/k8_nb100/cs_wGcomp6.0_wNb40/o-cs_wGcomp6.0_wNb40.qp\n",
      "read file : yambo/k8_nb100/cs_wGcomp2.0_wNb20/o-cs_wGcomp2.0_wNb20.qp\n",
      "read file : yambo/k8_nb100/cs_wGcomp3.0_wNb30/o-cs_wGcomp3.0_wNb30.qp\n",
      "read file : yambo/k8_nb100/cs_wGcomp2.0_wNb10/o-cs_wGcomp2.0_wNb10.qp\n",
      "read file : yambo/k8_nb100/cs_wGcomp3.0_wNb40/o-cs_wGcomp3.0_wNb40.qp\n",
      "read file : yambo/k8_nb100/cs_wGcomp1.0_wNb40/o-cs_wGcomp1.0_wNb40.qp\n",
      "read file : yambo/k8_nb100/cs_wGcomp4.0_wNb20/o-cs_wGcomp4.0_wNb20.qp\n",
      "read file : yambo/k8_nb100/cs_wGcomp1.0_wNb50/o-cs_wGcomp1.0_wNb50.qp\n",
      "read file : yambo/k8_nb100/cs_wGcomp5.0_wNb10/o-cs_wGcomp5.0_wNb10.qp\n",
      "read file : yambo/k8_nb100/cs_wGcomp2.0_wNb50/o-cs_wGcomp2.0_wNb50.qp\n",
      "read file : yambo/k8_nb100/cs_wGcomp2.0_wNb40/o-cs_wGcomp2.0_wNb40.qp\n",
      "read file : yambo/k8_nb100/cs_wGcomp4.0_wNb40/o-cs_wGcomp4.0_wNb40.qp\n",
      "read file : yambo/k8_nb100/cs_wGcomp3.0_wNb50/o-cs_wGcomp3.0_wNb50.qp\n",
      "read file : yambo/k8_nb100/cs_wGcomp6.0_wNb20/o-cs_wGcomp6.0_wNb20.qp\n",
      "read file : yambo/k8_nb100/cs_wGcomp5.0_wNb20/o-cs_wGcomp5.0_wNb20.qp\n",
      "read file : yambo/k8_nb100/cs_wGcomp4.0_wNb50/o-cs_wGcomp4.0_wNb50.qp\n",
      "read file : yambo/k8_nb100/cs_wGcomp1.0_wNb30/o-cs_wGcomp1.0_wNb30.qp\n",
      "read file : yambo/k8_nb100/cs_wGcomp4.0_wNb30/o-cs_wGcomp4.0_wNb30.qp\n",
      "read file : yambo/k8_nb100/cs_wGcomp5.0_wNb40/o-cs_wGcomp5.0_wNb40.qp\n"
     ]
    }
   ],
   "source": [
    "# reads the results\n",
    "reload(R)\n",
    "R.getCOHSEXresults(yamboDic,hf_kconv)"
   ]
  },
  {
   "cell_type": "markdown",
   "metadata": {},
   "source": [
    "Analysis of the convergence of the gap (both direct and indirect)"
   ]
  },
  {
   "cell_type": "code",
   "execution_count": 65,
   "metadata": {},
   "outputs": [
    {
     "name": "stdout",
     "output_type": "stream",
     "text": [
      "COHSEX direct gap (converged) :  3.707042  eV\n"
     ]
    },
    {
     "data": {
      "image/png": "[encoded data removed]",
      "text/plain": [
       "<Figure size 432x288 with 1 Axes>"
      ]
     },
     "metadata": {},
     "output_type": "display_data"
    }
   ],
   "source": [
    "y = yamboDic[hf_kconv][nscf_nbnds[0]]['cs']\n",
    "\n",
    "dirGap = {}\n",
    "for wn in W_nb:\n",
    "    dirGap[wn] = []\n",
    "    for wg in W_Gcomp:    \n",
    "        ind = 0\n",
    "        for kVal,bndVal in zip(y[wg,wn]['KP'],y[wg,wn]['BND']):\n",
    "            if kVal == 1.0 and bndVal == 4.0:\n",
    "                break\n",
    "            else:\n",
    "                ind +=1\n",
    "        EHomo = y[wg,wn]['E0'][ind] + y[wg,wn]['EmE0'][ind]\n",
    "        ind = 0\n",
    "        for kVal,bndVal in zip(y[wg,wn]['KP'],y[wg,wn]['BND']):\n",
    "            if kVal == 1.0 and bndVal == 5.0:\n",
    "                break\n",
    "            else:\n",
    "                ind +=1\n",
    "        ELumo = y[wg,wn]['E0'][ind] + y[wg,wn]['EmE0'][ind]\n",
    "        dirGap[wn].append(ELumo-EHomo)\n",
    "    plt.plot(W_Gcomp,dirGap[wn],label= 'W_Nbn_'+str(wn))\n",
    "\n",
    "print 'COHSEX direct gap (converged) : ',dirGap[W_nb[-1]][-1], ' eV'\n",
    "plt.xlabel('energy cutoff W',size=12)\n",
    "plt.title('Direct gap')\n",
    "plt.legend()\n",
    "plt.show()"
   ]
  },
  {
   "cell_type": "code",
   "execution_count": 66,
   "metadata": {},
   "outputs": [
    {
     "name": "stdout",
     "output_type": "stream",
     "text": [
      "COHSEX (without empties) indirect gap (converged) :  1.813818  eV\n"
     ]
    },
    {
     "data": {
      "image/png": "[encoded data removed]",
      "text/plain": [
       "<Figure size 432x288 with 1 Axes>"
      ]
     },
     "metadata": {},
     "output_type": "display_data"
    }
   ],
   "source": [
    "y = yamboDic[hf_kconv][nscf_nbnds[0]]['cs']\n",
    "\n",
    "# stucture for indirect gap [k] : [khomo,klumo]\n",
    "# using indGap as difference between homo in Gamma(0,0,0) \n",
    "# and lumo in (0.0, -0.5, -0.5) (rlu)\n",
    "par = {2:[1,3], 4:[1,7], 6:[1,13], 8:[1,21]}\n",
    "\n",
    "indirGap = {}\n",
    "for wn in W_nb:\n",
    "    indirGap[wn] = []\n",
    "    for wg in W_Gcomp:    \n",
    "        ind = 0\n",
    "        for kVal,bndVal in zip(y[wg,wn]['KP'],y[wg,wn]['BND']):\n",
    "            if kVal == par[hf_kconv][0] and bndVal == 4.0:\n",
    "                break\n",
    "            else:\n",
    "                ind +=1\n",
    "        EHomo = y[wg,wn]['E0'][ind] + y[wg,wn]['EmE0'][ind]\n",
    "        ind = 0\n",
    "        for kVal,bndVal in zip(y[wg,wn]['KP'],y[wg,wn]['BND']):\n",
    "            if kVal == par[hf_kconv][1] and bndVal == 5.0:\n",
    "                break\n",
    "            else:\n",
    "                ind +=1\n",
    "        ELumo = y[wg,wn]['E0'][ind] + y[wg,wn]['EmE0'][ind]\n",
    "        indirGap[wn].append(ELumo-EHomo)\n",
    "\n",
    "    plt.plot(W_Gcomp,indirGap[wn],label= 'W_Nbn_'+str(wn))\n",
    "\n",
    "print 'COHSEX (without empties) indirect gap (converged) : ',indirGap[W_nb[-1]][-1], ' eV'\n",
    "plt.xlabel('energy cutoff W',size=12)\n",
    "plt.title('Indirect gap')\n",
    "plt.legend()\n",
    "plt.show()"
   ]
  },
  {
   "cell_type": "markdown",
   "metadata": {},
   "source": [
    "This plots conclude the convergence analysis of the COHSEX (without empties) approximation of the self-energy. On the basis of this analysis we choose the convergence values of the W_Gcomp and W_nb parameters:"
   ]
  },
  {
   "cell_type": "code",
   "execution_count": 41,
   "metadata": {},
   "outputs": [],
   "source": [
    "cs_W_Gcompconv = 6.0 #Ha\n",
    "cs_W_nbconv = 50"
   ]
  },
  {
   "cell_type": "markdown",
   "metadata": {},
   "source": [
    "The convergence w.r.t. the number of empty bands of G0 could be analysed within the COHSEX with empties approximation. However it seems that with the actual version of the code the GdndsRnge does not figure out in the yambo input file. So I study the convergence of this quantity directly in the contest of the Plasmom pole approximation."
   ]
  },
  {
   "cell_type": "markdown",
   "metadata": {},
   "source": [
    "### Plasmon pole approximation of $\\Sigma$"
   ]
  },
  {
   "cell_type": "code",
   "execution_count": null,
   "metadata": {},
   "outputs": [],
   "source": [
    "G0_nb = [10,20]\n",
    "# compute the pp correction only for the bands in the range\n",
    "firstk = 1\n",
    "lastk = 21 # the k index to compute the indirect band gap\n",
    "firstbnd = 3\n",
    "lastbnd = 6"
   ]
  },
  {
   "cell_type": "code",
   "execution_count": 231,
   "metadata": {},
   "outputs": [
    {
     "name": "stdout",
     "output_type": "stream",
     "text": [
      "[[1, 4, 3, 6], '']\n"
     ]
    }
   ],
   "source": [
    "fold = 'yambo/k2_nb60'\n",
    "y = YamboIn('yambo -k hartree -p p -g n -V qp',folder=fold)\n",
    "y['EXXRLvcs'] = [2.5,'Ha']\n",
    "y['NGsBlkXp'] = [5,'Ha']\n",
    "y['BndsRnXp'] = [1,40]\n",
    "y['GbndRnge'] = [1,10]\n",
    "krange = y['QPkrange'][0][:2]\n",
    "kbandrange = krange + [3,6]\n",
    "y['QPkrange'] = [kbandrange,'']\n",
    "print y['QPkrange']\n",
    "fname = 'ppa-inp.in'\n",
    "y.write(fold+'/'+fname)"
   ]
  },
  {
   "cell_type": "code",
   "execution_count": 232,
   "metadata": {},
   "outputs": [
    {
     "name": "stdout",
     "output_type": "stream",
     "text": [
      "delete yambo/k2_nb60/ppa-out\n",
      "execute : cd yambo/k2_nb60 ; mpirun -np 8 yambo -F ppa-inp.in -J ppa-out -C ppa-out\n"
     ]
    }
   ],
   "source": [
    "R.runYambo(fold,fname,'ppa-out',8)"
   ]
  },
  {
   "cell_type": "code",
   "execution_count": null,
   "metadata": {},
   "outputs": [],
   "source": []
  },
  {
   "cell_type": "code",
   "execution_count": null,
   "metadata": {},
   "outputs": [],
   "source": []
  },
  {
   "cell_type": "code",
   "execution_count": null,
   "metadata": {},
   "outputs": [],
   "source": []
  },
  {
   "cell_type": "code",
   "execution_count": null,
   "metadata": {},
   "outputs": [],
   "source": []
  },
  {
   "cell_type": "code",
   "execution_count": null,
   "metadata": {},
   "outputs": [],
   "source": []
  },
  {
   "cell_type": "code",
   "execution_count": null,
   "metadata": {},
   "outputs": [],
   "source": []
  },
  {
   "cell_type": "code",
   "execution_count": null,
   "metadata": {},
   "outputs": [],
   "source": []
  },
  {
   "cell_type": "code",
   "execution_count": null,
   "metadata": {},
   "outputs": [],
   "source": []
  },
  {
   "cell_type": "code",
   "execution_count": null,
   "metadata": {},
   "outputs": [],
   "source": []
  },
  {
   "cell_type": "code",
   "execution_count": null,
   "metadata": {},
   "outputs": [],
   "source": [
    "###############################################################################"
   ]
  },
  {
   "cell_type": "markdown",
   "metadata": {},
   "source": [
    "### COHSEX approximation (with empties) of $\\Sigma$"
   ]
  },
  {
   "cell_type": "markdown",
   "metadata": {},
   "source": [
    "In this case we include the contribution of the empty bands in the evaluation of G0. So we perform a new convergence analysis (using the converged values of the previous parameters) in order to find analyse the convergence of the results w.r.t G0_nb"
   ]
  },
  {
   "cell_type": "code",
   "execution_count": 156,
   "metadata": {},
   "outputs": [],
   "source": [
    "G0_nb = [10,20]\n",
    "# compute the COHSEXwe correction only for the bands in the range\n",
    "firstbnd = 3\n",
    "lastbnd = 6"
   ]
  },
  {
   "cell_type": "code",
   "execution_count": 210,
   "metadata": {},
   "outputs": [
    {
     "name": "stdout",
     "output_type": "stream",
     "text": [
      "removed # from UseBands field\n",
      "removed # from UseBands field\n"
     ]
    }
   ],
   "source": [
    "reload(R)\n",
    "R.buildCOHSEXWE(yamboDic,2,2.0,2.0,30,G0_nb,firstbnd,lastbnd)\n",
    "#R.buildCOHSEXWE(yamboDic,hf_kconv,hf_G0_Gcompconv,cs_W_Gcompconv,cs_W_nbconv,G0_nb,firstbnd,lastbnd)"
   ]
  },
  {
   "cell_type": "code",
   "execution_count": 211,
   "metadata": {},
   "outputs": [
    {
     "name": "stdout",
     "output_type": "stream",
     "text": [
      "delete yambo/k2_nb60/cswe_G0nb10\n",
      "execute : cd yambo/k2_nb60 ; mpirun -np 8 yambo -F cswe_G0nb10.in -J cswe_G0nb10 -C cswe_G0nb10\n",
      "delete yambo/k2_nb60/cswe_G0nb20\n",
      "execute : cd yambo/k2_nb60 ; mpirun -np 8 yambo -F cswe_G0nb20.in -J cswe_G0nb20 -C cswe_G0nb20\n"
     ]
    }
   ],
   "source": [
    "R.runCOHSEXWE(yamboDic,2,8,False)\n",
    "#R.runCOHSEXWE(yamboDic,hf_kconv,8,True)"
   ]
  },
  {
   "cell_type": "code",
   "execution_count": 162,
   "metadata": {},
   "outputs": [
    {
     "name": "stdout",
     "output_type": "stream",
     "text": [
      "delete yambo/k2_nb60/prova\n",
      "execute : cd yambo/k2_nb60 ; mpirun -np 8 yambo -F yambo.in -J prova -C prova\n"
     ]
    }
   ],
   "source": [
    "fold = 'yambo/k2_nb60'\n",
    "fname = 'yambo.in'\n",
    "R.runYambo(fold,fname,'prova',8)"
   ]
  },
  {
   "cell_type": "code",
   "execution_count": null,
   "metadata": {},
   "outputs": [],
   "source": [
    "# il file yambo.in non viene considerato da yambo in fase di run quindi non ha senso togliere # da UseBands\n",
    "# in questo file. Devo farlo nel file che lancio ma non ho capito la sintassi...."
   ]
  },
  {
   "cell_type": "code",
   "execution_count": 195,
   "metadata": {},
   "outputs": [],
   "source": [
    "fold = 'yambo/k2_nb60'\n",
    "y = YamboIn('yambo -b -k hartee -g n -p c -V qp',folder=fold)"
   ]
  },
  {
   "cell_type": "code",
   "execution_count": 187,
   "metadata": {},
   "outputs": [],
   "source": [
    "activateUseBand(fold+'/yambo.in')\n",
    "q = YamboIn(filename = fold+'/'+fname)\n",
    "q['GbndRnge'] = [1,10]\n",
    "#print q\n",
    "fname = 'yambo2.in'\n",
    "q.write(fold+'/'+fname)"
   ]
  },
  {
   "cell_type": "code",
   "execution_count": 191,
   "metadata": {},
   "outputs": [
    {
     "name": "stdout",
     "output_type": "stream",
     "text": [
      "delete yambo/k2_nb60/prova\n",
      "execute : cd yambo/k2_nb60 ; mpirun -np 8 yambo -F yambo2.in -J prova -C prova\n"
     ]
    }
   ],
   "source": [
    "R.runYambo(fold,fname,'prova',8)"
   ]
  },
  {
   "cell_type": "code",
   "execution_count": null,
   "metadata": {},
   "outputs": [],
   "source": []
  },
  {
   "cell_type": "markdown",
   "metadata": {},
   "source": [
    "### Plasmon pole approximation of $\\Sigma$"
   ]
  },
  {
   "cell_type": "code",
   "execution_count": 231,
   "metadata": {},
   "outputs": [
    {
     "name": "stdout",
     "output_type": "stream",
     "text": [
      "[[1, 4, 3, 6], '']\n"
     ]
    }
   ],
   "source": [
    "fold = 'yambo/k2_nb60'\n",
    "y = YamboIn('yambo -k hartree -p p -g n -V qp',folder=fold)\n",
    "y['EXXRLvcs'] = [2.5,'Ha']\n",
    "y['NGsBlkXp'] = [5,'Ha']\n",
    "y['BndsRnXp'] = [1,40]\n",
    "y['GbndRnge'] = [1,10]\n",
    "krange = y['QPkrange'][0][:2]\n",
    "kbandrange = krange + [3,6]\n",
    "y['QPkrange'] = [kbandrange,'']\n",
    "print y['QPkrange']\n",
    "fname = 'ppa-inp.in'\n",
    "y.write(fold+'/'+fname)"
   ]
  },
  {
   "cell_type": "code",
   "execution_count": 232,
   "metadata": {},
   "outputs": [
    {
     "name": "stdout",
     "output_type": "stream",
     "text": [
      "delete yambo/k2_nb60/ppa-out\n",
      "execute : cd yambo/k2_nb60 ; mpirun -np 8 yambo -F ppa-inp.in -J ppa-out -C ppa-out\n"
     ]
    }
   ],
   "source": [
    "R.runYambo(fold,fname,'ppa-out',8)"
   ]
  },
  {
   "cell_type": "code",
   "execution_count": null,
   "metadata": {},
   "outputs": [],
   "source": []
  },
  {
   "cell_type": "code",
   "execution_count": null,
   "metadata": {},
   "outputs": [],
   "source": []
  },
  {
   "cell_type": "code",
   "execution_count": null,
   "metadata": {},
   "outputs": [],
   "source": []
  },
  {
   "cell_type": "code",
   "execution_count": null,
   "metadata": {},
   "outputs": [],
   "source": []
  },
  {
   "cell_type": "code",
   "execution_count": null,
   "metadata": {},
   "outputs": [],
   "source": []
  },
  {
   "cell_type": "code",
   "execution_count": null,
   "metadata": {},
   "outputs": [],
   "source": []
  },
  {
   "cell_type": "code",
   "execution_count": null,
   "metadata": {},
   "outputs": [],
   "source": [
    "#############################################################################"
   ]
  },
  {
   "cell_type": "code",
   "execution_count": 118,
   "metadata": {},
   "outputs": [],
   "source": [
    "#yamboDic[hf_kconv][nscf_nbnds[0]]['cswe']"
   ]
  },
  {
   "cell_type": "code",
   "execution_count": 119,
   "metadata": {},
   "outputs": [
    {
     "name": "stdout",
     "output_type": "stream",
     "text": [
      "execute : cd yambo/k2_nb60 ; mpirun -np 8 yambo -F cswe_G0nb10.in -J cswe_G0nb10 -C cswe_G0nb10\n",
      "execute : cd yambo/k2_nb60 ; mpirun -np 8 yambo -F cswe_G0nb20.in -J cswe_G0nb20 -C cswe_G0nb20\n"
     ]
    }
   ],
   "source": [
    "R.runCOHSEXWE(yamboDic,2,8,True)\n",
    "#R.runCOHSEXWE(yamboDic,hf_kconv,8,True)"
   ]
  },
  {
   "cell_type": "code",
   "execution_count": 108,
   "metadata": {},
   "outputs": [
    {
     "name": "stdout",
     "output_type": "stream",
     "text": [
      "read file : yambo/k8_nb60/cswe_G0nb10/o-cswe_G0nb10.qp\n",
      "read file : yambo/k8_nb60/cswe_G0nb20/o-cswe_G0nb20.qp\n"
     ]
    }
   ],
   "source": [
    "# reads the results\n",
    "reload(R)\n",
    "R.getCOHSEXWEresults(yamboDic,hf_kconv)"
   ]
  },
  {
   "cell_type": "markdown",
   "metadata": {},
   "source": [
    "Analysis of the convergence of the gap (both direct and indirect)"
   ]
  },
  {
   "cell_type": "code",
   "execution_count": 109,
   "metadata": {},
   "outputs": [
    {
     "ename": "KeyError",
     "evalue": "(0.5, 10)",
     "output_type": "error",
     "traceback": [
      "\u001b[0;31m---------------------------------------------------------------------------\u001b[0m",
      "\u001b[0;31mKeyError\u001b[0m                                  Traceback (most recent call last)",
      "\u001b[0;32m<ipython-input-109-aedae5b04bb7>\u001b[0m in \u001b[0;36m<module>\u001b[0;34m()\u001b[0m\n\u001b[1;32m      6\u001b[0m     \u001b[0;32mfor\u001b[0m \u001b[0mwg\u001b[0m \u001b[0;32min\u001b[0m \u001b[0mW_Gcomp\u001b[0m\u001b[0;34m:\u001b[0m\u001b[0;34m\u001b[0m\u001b[0m\n\u001b[1;32m      7\u001b[0m         \u001b[0mind\u001b[0m \u001b[0;34m=\u001b[0m \u001b[0;36m0\u001b[0m\u001b[0;34m\u001b[0m\u001b[0m\n\u001b[0;32m----> 8\u001b[0;31m         \u001b[0;32mfor\u001b[0m \u001b[0mkVal\u001b[0m\u001b[0;34m,\u001b[0m\u001b[0mbndVal\u001b[0m \u001b[0;32min\u001b[0m \u001b[0mzip\u001b[0m\u001b[0;34m(\u001b[0m\u001b[0my\u001b[0m\u001b[0;34m[\u001b[0m\u001b[0mwg\u001b[0m\u001b[0;34m,\u001b[0m\u001b[0mwn\u001b[0m\u001b[0;34m]\u001b[0m\u001b[0;34m[\u001b[0m\u001b[0;34m'KP'\u001b[0m\u001b[0;34m]\u001b[0m\u001b[0;34m,\u001b[0m\u001b[0my\u001b[0m\u001b[0;34m[\u001b[0m\u001b[0mwg\u001b[0m\u001b[0;34m,\u001b[0m\u001b[0mwn\u001b[0m\u001b[0;34m]\u001b[0m\u001b[0;34m[\u001b[0m\u001b[0;34m'BND'\u001b[0m\u001b[0;34m]\u001b[0m\u001b[0;34m)\u001b[0m\u001b[0;34m:\u001b[0m\u001b[0;34m\u001b[0m\u001b[0m\n\u001b[0m\u001b[1;32m      9\u001b[0m             \u001b[0;32mif\u001b[0m \u001b[0mkVal\u001b[0m \u001b[0;34m==\u001b[0m \u001b[0;36m1.0\u001b[0m \u001b[0;32mand\u001b[0m \u001b[0mbndVal\u001b[0m \u001b[0;34m==\u001b[0m \u001b[0;36m4.0\u001b[0m\u001b[0;34m:\u001b[0m\u001b[0;34m\u001b[0m\u001b[0m\n\u001b[1;32m     10\u001b[0m                 \u001b[0;32mbreak\u001b[0m\u001b[0;34m\u001b[0m\u001b[0m\n",
      "\u001b[0;31mKeyError\u001b[0m: (0.5, 10)"
     ]
    }
   ],
   "source": [
    "y = yamboDic[hf_kconv][nscf_nbnds[0]]['cswe']\n",
    "\n",
    "dirGap = {}\n",
    "for wn in W_nb:\n",
    "    dirGap[wn] = []\n",
    "    for wg in W_Gcomp:    \n",
    "        ind = 0\n",
    "        for kVal,bndVal in zip(y[wg,wn]['KP'],y[wg,wn]['BND']):\n",
    "            if kVal == 1.0 and bndVal == 4.0:\n",
    "                break\n",
    "            else:\n",
    "                ind +=1\n",
    "        EHomo = y[wg,wn]['E0'][ind] + y[wg,wn]['EmE0'][ind]\n",
    "        ind = 0\n",
    "        for kVal,bndVal in zip(y[wg,wn]['KP'],y[wg,wn]['BND']):\n",
    "            if kVal == 1.0 and bndVal == 5.0:\n",
    "                break\n",
    "            else:\n",
    "                ind +=1\n",
    "        ELumo = y[wg,wn]['E0'][ind] + y[wg,wn]['EmE0'][ind]\n",
    "        dirGap[wn].append(ELumo-EHomo)\n",
    "\n",
    "    plt.plot(W_Gcomp,dirGap[wn],label= 'W_Nbn_'+str(wn))\n",
    "\n",
    "print dirGap\n",
    "plt.xlabel('energy cutoff W',size=12)\n",
    "plt.title('Direct gap')\n",
    "plt.legend()\n",
    "plt.show()"
   ]
  },
  {
   "cell_type": "code",
   "execution_count": 44,
   "metadata": {},
   "outputs": [
    {
     "name": "stdout",
     "output_type": "stream",
     "text": [
      "COHSEX (without empties) indirect gap (converged) :  1.705066  eV\n"
     ]
    },
    {
     "data": {
      "image/png": "[encoded data removed]",
      "text/plain": [
       "<Figure size 432x288 with 1 Axes>"
      ]
     },
     "metadata": {},
     "output_type": "display_data"
    }
   ],
   "source": [
    "y = yamboDic[hf_kconv][nscf_nbnds[0]]['cs']\n",
    "\n",
    "# stucture for indirect gap [k] : [khomo,klumo]\n",
    "# using indGap as difference between homo in Gamma(0,0,0) \n",
    "# and lumo in (0.0, -0.5, -0.5) (rlu)\n",
    "par = {2:[1,3], 4:[1,7], 6:[1,13], 8:[1,21]}\n",
    "\n",
    "indirGap = {}\n",
    "for wn in W_nb:\n",
    "    indirGap[wn] = []\n",
    "    for wg in W_Gcomp:    \n",
    "        ind = 0\n",
    "        for kVal,bndVal in zip(y[wg,wn]['KP'],y[wg,wn]['BND']):\n",
    "            if kVal == par[hf_kconv][0] and bndVal == 4.0:\n",
    "                break\n",
    "            else:\n",
    "                ind +=1\n",
    "        EHomo = y[wg,wn]['E0'][ind] + y[wg,wn]['EmE0'][ind]\n",
    "        ind = 0\n",
    "        for kVal,bndVal in zip(y[wg,wn]['KP'],y[wg,wn]['BND']):\n",
    "            if kVal == par[hf_kconv][1] and bndVal == 5.0:\n",
    "                break\n",
    "            else:\n",
    "                ind +=1\n",
    "        ELumo = y[wg,wn]['E0'][ind] + y[wg,wn]['EmE0'][ind]\n",
    "        indirGap[wn].append(ELumo-EHomo)\n",
    "\n",
    "    plt.plot(W_Gcomp,indirGap[wn],label= 'W_Nbn_'+str(wn))\n",
    "\n",
    "print 'COHSEX (without empties) indirect gap (converged) : ',indirGap[W_nb[-1]][-1], ' eV'\n",
    "plt.xlabel('energy cutoff W',size=12)\n",
    "plt.title('Indirect gap')\n",
    "plt.legend()\n",
    "plt.show()"
   ]
  },
  {
   "cell_type": "code",
   "execution_count": null,
   "metadata": {},
   "outputs": [],
   "source": []
  },
  {
   "cell_type": "code",
   "execution_count": null,
   "metadata": {},
   "outputs": [],
   "source": []
  },
  {
   "cell_type": "code",
   "execution_count": null,
   "metadata": {},
   "outputs": [],
   "source": []
  },
  {
   "cell_type": "code",
   "execution_count": null,
   "metadata": {},
   "outputs": [],
   "source": []
  },
  {
   "cell_type": "code",
   "execution_count": null,
   "metadata": {},
   "outputs": [],
   "source": []
  },
  {
   "cell_type": "code",
   "execution_count": null,
   "metadata": {},
   "outputs": [],
   "source": []
  }
 ],
 "metadata": {
  "kernelspec": {
   "display_name": "Python 2",
   "language": "python",
   "name": "python2"
  },
  "language_info": {
   "codemirror_mode": {
    "name": "ipython",
    "version": 2
   },
   "file_extension": ".py",
   "mimetype": "text/x-python",
   "name": "python",
   "nbconvert_exporter": "python",
   "pygments_lexer": "ipython2",
   "version": "2.7.15rc1"
  }
 },
 "nbformat": 4,
 "nbformat_minor": 2
}
