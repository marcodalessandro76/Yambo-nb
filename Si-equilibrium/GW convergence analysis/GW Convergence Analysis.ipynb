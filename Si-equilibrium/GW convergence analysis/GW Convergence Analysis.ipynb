{
 "cells": [
  {
   "cell_type": "code",
   "execution_count": 1,
   "metadata": {},
   "outputs": [],
   "source": [
    "from qepy import *\n",
    "from yambopy import *\n",
    "from qepy import PwIn\n",
    "import matplotlib.pyplot as plt\n",
    "import numpy as np\n",
    "import Routines as R"
   ]
  },
  {
   "cell_type": "markdown",
   "metadata": {},
   "source": [
    "# Convergence analysis of the self-consistent QE computation"
   ]
  },
  {
   "cell_type": "markdown",
   "metadata": {},
   "source": [
    "We study the convergence of the self-consistent computation for the determination of the ground state density. The relevant convergence parameteres are the number of k-points and the cutoff on the plane wave expansion"
   ]
  },
  {
   "cell_type": "code",
   "execution_count": 2,
   "metadata": {},
   "outputs": [],
   "source": [
    "reload(R)\n",
    "scf_kpoints = [2,3,4,5,6]\n",
    "scf_ecut = [10,15,20,25,30] #eV\n",
    "scfDict = R.buildScf(scf_kpoints,scf_ecut)"
   ]
  },
  {
   "cell_type": "code",
   "execution_count": 3,
   "metadata": {},
   "outputs": [
    {
     "name": "stdout",
     "output_type": "stream",
     "text": [
      "skip the computation for : scf/output/k2_ecut10.log\n",
      "skip the computation for : scf/output/k2_ecut15.log\n",
      "skip the computation for : scf/output/k2_ecut20.log\n",
      "skip the computation for : scf/output/k2_ecut25.log\n",
      "skip the computation for : scf/output/k2_ecut30.log\n",
      "skip the computation for : scf/output/k3_ecut10.log\n",
      "skip the computation for : scf/output/k3_ecut15.log\n",
      "skip the computation for : scf/output/k3_ecut20.log\n",
      "skip the computation for : scf/output/k3_ecut25.log\n",
      "skip the computation for : scf/output/k3_ecut30.log\n",
      "skip the computation for : scf/output/k4_ecut10.log\n",
      "skip the computation for : scf/output/k4_ecut15.log\n",
      "skip the computation for : scf/output/k4_ecut20.log\n",
      "skip the computation for : scf/output/k4_ecut25.log\n",
      "skip the computation for : scf/output/k4_ecut30.log\n",
      "skip the computation for : scf/output/k5_ecut10.log\n",
      "skip the computation for : scf/output/k5_ecut15.log\n",
      "skip the computation for : scf/output/k5_ecut20.log\n",
      "skip the computation for : scf/output/k5_ecut25.log\n",
      "skip the computation for : scf/output/k5_ecut30.log\n",
      "skip the computation for : scf/output/k6_ecut10.log\n",
      "skip the computation for : scf/output/k6_ecut15.log\n",
      "skip the computation for : scf/output/k6_ecut20.log\n",
      "skip the computation for : scf/output/k6_ecut25.log\n",
      "skip the computation for : scf/output/k6_ecut30.log\n"
     ]
    }
   ],
   "source": [
    "R.runScf(scfDict,8,True)"
   ]
  },
  {
   "cell_type": "code",
   "execution_count": 4,
   "metadata": {},
   "outputs": [],
   "source": [
    "# add the energy field to scfDict\n",
    "for k in scfDict:\n",
    "    for e in scfDict[k]:\n",
    "        scfDict[k][e]['energy'] = R.get_totalEnergy(scfDict[k][e]['outputFile'])"
   ]
  },
  {
   "cell_type": "code",
   "execution_count": 5,
   "metadata": {},
   "outputs": [
    {
     "data": {
      "image/png": "[encoded data removed]",
      "text/plain": [
       "<Figure size 432x288 with 1 Axes>"
      ]
     },
     "metadata": {},
     "output_type": "display_data"
    }
   ],
   "source": [
    "# plot the total energy in function of the ecut for each choice of kpoints\n",
    "for k in scf_kpoints:\n",
    "    energy = []\n",
    "    for e in scf_ecut:\n",
    "        energy.append(scfDict[k][e]['energy'])\n",
    "    plt.plot(scf_ecut,energy,label= 'kp = '+str(k))\n",
    "plt.legend()\n",
    "plt.show()\n",
    "    "
   ]
  },
  {
   "cell_type": "markdown",
   "metadata": {},
   "source": [
    "We choose kpoints = 6 and ecut = 30 as convergence parameters of the scf computation"
   ]
  },
  {
   "cell_type": "code",
   "execution_count": 6,
   "metadata": {},
   "outputs": [],
   "source": [
    "scf_kconv = 6\n",
    "scf_ecutconv = 30"
   ]
  },
  {
   "cell_type": "markdown",
   "metadata": {},
   "source": [
    "## QE nscf simulations"
   ]
  },
  {
   "cell_type": "markdown",
   "metadata": {},
   "source": [
    "We perform a bunch of nscf simulations starting from the results of the scf one with converged parameters.\n",
    "\n",
    "Nscf simulations use the same value of the ecut parameter found in converged scf computation are performed parametrically in terms of the quantities:\n",
    "\n",
    "* nscf_kpoints\n",
    "* nscf_nbnds"
   ]
  },
  {
   "cell_type": "code",
   "execution_count": 7,
   "metadata": {},
   "outputs": [],
   "source": [
    "nscf_kpoints = [2,4,6,8]\n",
    "# probably it will be sufficient to give to the nscf_bnds only a single (high) value and\n",
    "# the parametric run will be done at the subsequent levels\n",
    "nscf_nbnds = [60]"
   ]
  },
  {
   "cell_type": "code",
   "execution_count": 8,
   "metadata": {},
   "outputs": [
    {
     "name": "stdout",
     "output_type": "stream",
     "text": [
      "execute : cp -r scf/output/k6_ecut30.save nscf/output/\n",
      "execute : mv  nscf/output/k6_ecut30.save nscf/output/k2_nb60.save\n",
      "execute : cp -r scf/output/k6_ecut30.save nscf/output/\n",
      "execute : mv  nscf/output/k6_ecut30.save nscf/output/k4_nb60.save\n",
      "execute : cp -r scf/output/k6_ecut30.save nscf/output/\n",
      "execute : mv  nscf/output/k6_ecut30.save nscf/output/k6_nb60.save\n",
      "execute : cp -r scf/output/k6_ecut30.save nscf/output/\n",
      "execute : mv  nscf/output/k6_ecut30.save nscf/output/k8_nb60.save\n"
     ]
    }
   ],
   "source": [
    "reload(R)\n",
    "nscfDict = R.buildNscf(nscf_kpoints,nscf_nbnds,scf_kconv,scf_ecutconv)\n",
    "#nscfDict"
   ]
  },
  {
   "cell_type": "code",
   "execution_count": 9,
   "metadata": {
    "scrolled": true
   },
   "outputs": [
    {
     "name": "stdout",
     "output_type": "stream",
     "text": [
      "execute : mpirun -np 8 pw.x -inp nscf/input/k2_nb60.nscf > nscf/output/k2_nb60.log\n",
      "execute : mpirun -np 8 pw.x -inp nscf/input/k4_nb60.nscf > nscf/output/k4_nb60.log\n",
      "execute : mpirun -np 8 pw.x -inp nscf/input/k6_nb60.nscf > nscf/output/k6_nb60.log\n",
      "execute : mpirun -np 8 pw.x -inp nscf/input/k8_nb60.nscf > nscf/output/k8_nb60.log\n"
     ]
    }
   ],
   "source": [
    "R.runNscf(nscfDict,8,True)"
   ]
  },
  {
   "cell_type": "markdown",
   "metadata": {},
   "source": [
    "Prepare the system for the yambo computation. Run p2y and yambo (without options) in all the .save folders\n",
    "generated by the nscf simulations"
   ]
  },
  {
   "cell_type": "code",
   "execution_count": 10,
   "metadata": {},
   "outputs": [
    {
     "name": "stdout",
     "output_type": "stream",
     "text": [
      "execute : cd nscf/output/k2_nb60.save;p2y;yambo\n",
      "execute : cd nscf/output/k4_nb60.save;p2y;yambo\n",
      "execute : cd nscf/output/k6_nb60.save;p2y;yambo\n",
      "execute : cd nscf/output/k8_nb60.save;p2y;yambo\n"
     ]
    }
   ],
   "source": [
    "R.runP2y(nscfDict)"
   ]
  },
  {
   "cell_type": "markdown",
   "metadata": {},
   "source": [
    "## Convergence analysis of various approximations for the self energy"
   ]
  },
  {
   "cell_type": "markdown",
   "metadata": {},
   "source": [
    "Create the high-level yambo folder. For each choice of the nscf parameters create a folder with the name kp_#k_nb#nbnds and the copy the corresponding SAVE directory in the associated folder and perform a nscf QE computation in this folder. \n",
    "\n",
    "Structure of the yambo dictionary:\n",
    "\n",
    "yambo[nscf_kpoints][nscf_nbnds] = {}\n",
    "\n",
    "This dictionary has a key 'folder' that identifies the folder in which the subsequent yambo\n",
    "computations are performed and a set of keys like 'hf', 'cosex',.... that contains a further dictionaries with the parameters and results of the different levels of yambo computations "
   ]
  },
  {
   "cell_type": "code",
   "execution_count": 11,
   "metadata": {},
   "outputs": [
    {
     "name": "stdout",
     "output_type": "stream",
     "text": [
      "execute : cp -r nscf/output/k8_nb60.save/SAVE yambo/k8_nb60\n",
      "execute : cp -r nscf/output/k2_nb60.save/SAVE yambo/k2_nb60\n",
      "execute : cp -r nscf/output/k4_nb60.save/SAVE yambo/k4_nb60\n",
      "execute : cp -r nscf/output/k6_nb60.save/SAVE yambo/k6_nb60\n"
     ]
    }
   ],
   "source": [
    "reload(R)\n",
    "yamboDic = R.buildYambo(nscfDict)\n",
    "#yamboDic"
   ]
  },
  {
   "cell_type": "markdown",
   "metadata": {},
   "source": [
    "### HF approximation of $\\Sigma$"
   ]
  },
  {
   "cell_type": "markdown",
   "metadata": {},
   "source": [
    "In the HF approximation the self energy does not depend from the number of empty bands (only the occupied orbitals are relevant), so we perform a bunch of HF simulations varying the nscf_kpoints parameter and using only the first value of nscf_nbnds\n",
    "\n",
    "HF computations performed in function of the parameter G0_Gcomp that expresses (in mHa) the cutoff value of the plane wave expansion of G0"
   ]
  },
  {
   "cell_type": "code",
   "execution_count": 29,
   "metadata": {},
   "outputs": [],
   "source": [
    "G0_Gcomp = [.5,1.0,1.5,2.0,2.5]  #Ha\n",
    "# compute the HF correction only for the bands in the range\n",
    "firstbnd = 3\n",
    "lastbnd = 6"
   ]
  },
  {
   "cell_type": "markdown",
   "metadata": {},
   "source": [
    "Build the input file and prepare yamboDic"
   ]
  },
  {
   "cell_type": "code",
   "execution_count": 31,
   "metadata": {},
   "outputs": [],
   "source": [
    "reload(R)\n",
    "R.buildHF(yamboDic,G0_Gcomp,firstbnd,lastbnd)\n",
    "#yamboDic"
   ]
  },
  {
   "cell_type": "code",
   "execution_count": 32,
   "metadata": {
    "scrolled": false
   },
   "outputs": [
    {
     "name": "stdout",
     "output_type": "stream",
     "text": [
      "execute : cd yambo/k2_nb60 ; mpirun -np 8 yambo -F hf_gComp0.5.in -J hf_gComp0.5 -C hf_gComp0.5\n",
      "execute : cd yambo/k2_nb60 ; mpirun -np 8 yambo -F hf_gComp1.0.in -J hf_gComp1.0 -C hf_gComp1.0\n",
      "execute : cd yambo/k2_nb60 ; mpirun -np 8 yambo -F hf_gComp2.0.in -J hf_gComp2.0 -C hf_gComp2.0\n",
      "execute : cd yambo/k2_nb60 ; mpirun -np 8 yambo -F hf_gComp1.5.in -J hf_gComp1.5 -C hf_gComp1.5\n",
      "execute : cd yambo/k2_nb60 ; mpirun -np 8 yambo -F hf_gComp2.5.in -J hf_gComp2.5 -C hf_gComp2.5\n",
      "execute : cd yambo/k4_nb60 ; mpirun -np 8 yambo -F hf_gComp0.5.in -J hf_gComp0.5 -C hf_gComp0.5\n",
      "execute : cd yambo/k4_nb60 ; mpirun -np 8 yambo -F hf_gComp1.0.in -J hf_gComp1.0 -C hf_gComp1.0\n",
      "execute : cd yambo/k4_nb60 ; mpirun -np 8 yambo -F hf_gComp2.0.in -J hf_gComp2.0 -C hf_gComp2.0\n",
      "execute : cd yambo/k4_nb60 ; mpirun -np 8 yambo -F hf_gComp1.5.in -J hf_gComp1.5 -C hf_gComp1.5\n",
      "execute : cd yambo/k4_nb60 ; mpirun -np 8 yambo -F hf_gComp2.5.in -J hf_gComp2.5 -C hf_gComp2.5\n",
      "execute : cd yambo/k6_nb60 ; mpirun -np 8 yambo -F hf_gComp0.5.in -J hf_gComp0.5 -C hf_gComp0.5\n",
      "execute : cd yambo/k6_nb60 ; mpirun -np 8 yambo -F hf_gComp1.0.in -J hf_gComp1.0 -C hf_gComp1.0\n",
      "execute : cd yambo/k6_nb60 ; mpirun -np 8 yambo -F hf_gComp2.0.in -J hf_gComp2.0 -C hf_gComp2.0\n",
      "execute : cd yambo/k6_nb60 ; mpirun -np 8 yambo -F hf_gComp1.5.in -J hf_gComp1.5 -C hf_gComp1.5\n",
      "execute : cd yambo/k6_nb60 ; mpirun -np 8 yambo -F hf_gComp2.5.in -J hf_gComp2.5 -C hf_gComp2.5\n",
      "execute : cd yambo/k8_nb60 ; mpirun -np 8 yambo -F hf_gComp0.5.in -J hf_gComp0.5 -C hf_gComp0.5\n",
      "execute : cd yambo/k8_nb60 ; mpirun -np 8 yambo -F hf_gComp1.0.in -J hf_gComp1.0 -C hf_gComp1.0\n",
      "execute : cd yambo/k8_nb60 ; mpirun -np 8 yambo -F hf_gComp2.0.in -J hf_gComp2.0 -C hf_gComp2.0\n",
      "execute : cd yambo/k8_nb60 ; mpirun -np 8 yambo -F hf_gComp1.5.in -J hf_gComp1.5 -C hf_gComp1.5\n",
      "execute : cd yambo/k8_nb60 ; mpirun -np 8 yambo -F hf_gComp2.5.in -J hf_gComp2.5 -C hf_gComp2.5\n"
     ]
    }
   ],
   "source": [
    "# run the HF simulations\n",
    "R.runHF(yamboDic,8,True)\n",
    "#yamboDic"
   ]
  },
  {
   "cell_type": "code",
   "execution_count": 33,
   "metadata": {},
   "outputs": [
    {
     "name": "stdout",
     "output_type": "stream",
     "text": [
      "read file : yambo/k8_nb60/hf_gComp0.5/o-hf_gComp0.5.hf\n",
      "read file : yambo/k8_nb60/hf_gComp1.0/o-hf_gComp1.0.hf\n",
      "read file : yambo/k8_nb60/hf_gComp2.0/o-hf_gComp2.0.hf\n",
      "read file : yambo/k8_nb60/hf_gComp1.5/o-hf_gComp1.5.hf\n",
      "read file : yambo/k8_nb60/hf_gComp2.5/o-hf_gComp2.5.hf\n",
      "read file : yambo/k2_nb60/hf_gComp0.5/o-hf_gComp0.5.hf\n",
      "read file : yambo/k2_nb60/hf_gComp1.0/o-hf_gComp1.0.hf\n",
      "read file : yambo/k2_nb60/hf_gComp2.0/o-hf_gComp2.0.hf\n",
      "read file : yambo/k2_nb60/hf_gComp1.5/o-hf_gComp1.5.hf\n",
      "read file : yambo/k2_nb60/hf_gComp2.5/o-hf_gComp2.5.hf\n",
      "read file : yambo/k4_nb60/hf_gComp0.5/o-hf_gComp0.5.hf\n",
      "read file : yambo/k4_nb60/hf_gComp1.0/o-hf_gComp1.0.hf\n",
      "read file : yambo/k4_nb60/hf_gComp2.0/o-hf_gComp2.0.hf\n",
      "read file : yambo/k4_nb60/hf_gComp1.5/o-hf_gComp1.5.hf\n",
      "read file : yambo/k4_nb60/hf_gComp2.5/o-hf_gComp2.5.hf\n",
      "read file : yambo/k6_nb60/hf_gComp0.5/o-hf_gComp0.5.hf\n",
      "read file : yambo/k6_nb60/hf_gComp1.0/o-hf_gComp1.0.hf\n",
      "read file : yambo/k6_nb60/hf_gComp2.0/o-hf_gComp2.0.hf\n",
      "read file : yambo/k6_nb60/hf_gComp1.5/o-hf_gComp1.5.hf\n",
      "read file : yambo/k6_nb60/hf_gComp2.5/o-hf_gComp2.5.hf\n"
     ]
    }
   ],
   "source": [
    "# reads the results\n",
    "R.getHFresults(yamboDic)"
   ]
  },
  {
   "cell_type": "markdown",
   "metadata": {},
   "source": [
    "Analysis of the convergence of $\\frac{EHF-E0}{E0}$ in function of the number of nscf_kpoints. Uses the first (and actually the only) value of the parameters nscf_nbnds and nscf_ecut"
   ]
  },
  {
   "cell_type": "code",
   "execution_count": 35,
   "metadata": {},
   "outputs": [
    {
     "data": {
      "image/png": "[encoded data removed]",
      "text/plain": [
       "<Figure size 432x288 with 1 Axes>"
      ]
     },
     "metadata": {},
     "output_type": "display_data"
    }
   ],
   "source": [
    "kp = yamboDic.keys()\n",
    "kp.sort()\n",
    "nb = nscf_nbnds[0]\n",
    "gcomp = G0_Gcomp[3]\n",
    "\n",
    "colors = ['black','red','blue','green']\n",
    "for ind,k in enumerate(kp):\n",
    "    y = yamboDic[k][nb]['hf'][gcomp]\n",
    "    E0 = y['E0']\n",
    "    EHF = y['EHF']\n",
    "    for e0,ehf in zip(E0,EHF):\n",
    "        plt.scatter(e0,ehf-e0,c = colors[ind])\n",
    "plt.title('G0_Gcomp = '+str(gcomp)+' Ha')\n",
    "plt.show()"
   ]
  },
  {
   "cell_type": "markdown",
   "metadata": {},
   "source": [
    "Analysis of the convergence of the gap (both direct and indirect)"
   ]
  },
  {
   "cell_type": "code",
   "execution_count": 36,
   "metadata": {},
   "outputs": [
    {
     "name": "stdout",
     "output_type": "stream",
     "text": [
      "{0.5: [7.10625, 6.386489999999999, 6.17808, 6.1042000000000005], 1.0: [9.485418, 8.065083, 7.80304, 7.75383], 2.0: [9.645064, 8.221919, 7.956729999999999, 7.90791], 1.5: [9.645064, 8.221919, 7.956729999999999, 7.90791], 2.5: [9.645064, 8.221919, 7.956729999999999, 7.90791]}\n"
     ]
    },
    {
     "data": {
      "image/png": "[encoded data removed]",
      "text/plain": [
       "<Figure size 432x288 with 1 Axes>"
      ]
     },
     "metadata": {},
     "output_type": "display_data"
    }
   ],
   "source": [
    "kp = yamboDic.keys()\n",
    "kp.sort()\n",
    "nb = nscf_nbnds[0]\n",
    "\n",
    "dirGap = {}\n",
    "for gcomp in G0_Gcomp:\n",
    "    dirGap[gcomp] = []\n",
    "    for k in kp:\n",
    "        y = yamboDic[k][nb]['hf'][gcomp]\n",
    "        ind = 0\n",
    "        for kVal,bndVal in zip(y['KP'],y['BND']):\n",
    "            if kVal == 1.0 and bndVal == 4.0:\n",
    "                break\n",
    "            else:\n",
    "                ind +=1\n",
    "        EHomo = y['EHF'][ind]\n",
    "        ind = 0\n",
    "        for kVal,bndVal in zip(y['KP'],y['BND']):\n",
    "            if kVal == 1.0 and bndVal == 5.0:\n",
    "                break\n",
    "            else:\n",
    "                ind +=1\n",
    "        ELumo = y['EHF'][ind]\n",
    "        dirGap[gcomp].append(ELumo-EHomo)\n",
    "\n",
    "    plt.plot(kp,dirGap[gcomp],label= 'G0_Gcomp_'+str(gcomp))\n",
    "\n",
    "print dirGap\n",
    "plt.title('Direct gap')\n",
    "plt.legend()\n",
    "plt.show()"
   ]
  },
  {
   "cell_type": "code",
   "execution_count": 37,
   "metadata": {},
   "outputs": [
    {
     "name": "stdout",
     "output_type": "stream",
     "text": [
      "{0.5: [4.190971, 3.4792759999999996, 3.2359999999999998, 3.17915], 1.0: [7.009006, 5.544094, 5.25633, 5.201569999999999], 2.0: [7.236236, 5.796481999999999, 5.50848, 5.45609], 1.5: [7.236236, 5.796481999999999, 5.50848, 5.45609], 2.5: [7.236236, 5.796481999999999, 5.50848, 5.45609]}\n"
     ]
    },
    {
     "data": {
      "image/png": "[encoded data removed]",
      "text/plain": [
       "<Figure size 432x288 with 1 Axes>"
      ]
     },
     "metadata": {},
     "output_type": "display_data"
    }
   ],
   "source": [
    "kp = yamboDic.keys()\n",
    "kp.sort()\n",
    "nb = nscf_nbnds[0]\n",
    "\n",
    "# stucture for indirect gap [k] : [khomo,klumo]\n",
    "# using indGap as difference between homo in Gamma(0,0,0) \n",
    "# and lumo in (0.0, -0.5, -0.5) (rlu)\n",
    "par = {2:[1,3], 4:[1,7], 6:[1,13], 8:[1,21]}\n",
    "\n",
    "indirGap = {}\n",
    "for gcomp in G0_Gcomp:\n",
    "    indirGap[gcomp] = []\n",
    "    for k in kp:\n",
    "        y = yamboDic[k][nb]['hf'][gcomp]\n",
    "        ind = 0\n",
    "        for kVal,bndVal in zip(y['KP'],y['BND']):\n",
    "            if kVal == par[k][0] and bndVal == 4.0:\n",
    "                break\n",
    "            else:\n",
    "                ind +=1\n",
    "        EHomo = y['EHF'][ind]\n",
    "        ind = 0\n",
    "        for kVal,bndVal in zip(y['KP'],y['BND']):\n",
    "            if kVal == par[k][1] and bndVal == 5.0:\n",
    "                break\n",
    "            else:\n",
    "                ind +=1\n",
    "        ELumo = y['EHF'][ind]\n",
    "        indirGap[gcomp].append(ELumo-EHomo)\n",
    "\n",
    "    plt.plot(kp,indirGap[gcomp],label= 'G0_Gcomp_'+str(gcomp))\n",
    "\n",
    "print indirGap\n",
    "plt.title('Indirect gap')\n",
    "plt.legend()\n",
    "plt.show()"
   ]
  },
  {
   "cell_type": "markdown",
   "metadata": {},
   "source": [
    "This plots conclude the convergence analysis of the HF approximation of the self-energy. On the basis of this analysis we choose the convergence values of the kpoints and G0_gcomp parameters:"
   ]
  },
  {
   "cell_type": "code",
   "execution_count": 38,
   "metadata": {},
   "outputs": [],
   "source": [
    "hf_kconv = 8\n",
    "hf_G0_Gcompconv = 2.5 #Ha"
   ]
  },
  {
   "cell_type": "markdown",
   "metadata": {},
   "source": [
    "### COHSEX approximation (without empties) of $\\Sigma$"
   ]
  },
  {
   "cell_type": "markdown",
   "metadata": {},
   "source": [
    "As a first step work in the approximation \"without empty \"bands\". So we do not add the contribution of conduction bands for the evaluation of the Green function.\n",
    "The evaluation of $W$ passes through:\n",
    "$$\n",
    "\\chi = \\chi_0 + \\chi_0(v_H+f_{xc})\\chi \\\\\n",
    "W = v+v\\chi v\n",
    "$$\n",
    "In the COHSEX one considers only the static contribution of the response $\\chi(\\omega=0)$ and we also limit our analysis to the Hartree kernel, so that $f_{xc}=0$ (RPA approximations)."
   ]
  },
  {
   "cell_type": "markdown",
   "metadata": {},
   "source": [
    "In the COHSEX approximation (without empties) G0 still depends only from the number of kpoints and from the G0_Gcomp parameter. However in this case one introduces also a non trivial W potential and two more parameters come into the play. These are the cut of in the plane wave expansion of W and the number of empty bands used to write the Lehmann representation of $\\chi_0$."
   ]
  },
  {
   "cell_type": "code",
   "execution_count": 56,
   "metadata": {},
   "outputs": [],
   "source": [
    "W_Gcomp = [0.5,1.0,1.5,2.0,3.0,4.0,5.0] #Ha\n",
    "W_nb = [10,20,30,40]\n",
    "# compute the COHSEX correction only for the bands in the range\n",
    "firstbnd = 3\n",
    "lastbnd = 6"
   ]
  },
  {
   "cell_type": "code",
   "execution_count": 57,
   "metadata": {},
   "outputs": [],
   "source": [
    "reload(R)\n",
    "R.buildCOHSEX(yamboDic,hf_kconv,hf_G0_Gcompconv,W_Gcomp,W_nb,firstbnd,lastbnd)\n",
    "#yamboDic[hf_kconv][nscf_nbnds[0]]['cs']"
   ]
  },
  {
   "cell_type": "code",
   "execution_count": 58,
   "metadata": {
    "scrolled": false
   },
   "outputs": [
    {
     "name": "stdout",
     "output_type": "stream",
     "text": [
      "skip the computation for : yambo/k8_nb60/cs_wGcomp0.5_wNb20/o-cs_wGcomp0.5_wNb20.qp\n",
      "skip the computation for : yambo/k8_nb60/cs_wGcomp1.5_wNb20/o-cs_wGcomp1.5_wNb20.qp\n",
      "skip the computation for : yambo/k8_nb60/cs_wGcomp0.5_wNb10/o-cs_wGcomp0.5_wNb10.qp\n",
      "execute : cd yambo/k8_nb60 ; mpirun -np 8 yambo -F cs_wGcomp0.5_wNb30.in -J cs_wGcomp0.5_wNb30 -C cs_wGcomp0.5_wNb30\n",
      "skip the computation for : yambo/k8_nb60/cs_wGcomp1.0_wNb20/o-cs_wGcomp1.0_wNb20.qp\n",
      "execute : cd yambo/k8_nb60 ; mpirun -np 8 yambo -F cs_wGcomp5.0_wNb30.in -J cs_wGcomp5.0_wNb30 -C cs_wGcomp5.0_wNb30\n",
      "skip the computation for : yambo/k8_nb60/cs_wGcomp3.0_wNb10/o-cs_wGcomp3.0_wNb10.qp\n",
      "execute : cd yambo/k8_nb60 ; mpirun -np 8 yambo -F cs_wGcomp2.0_wNb30.in -J cs_wGcomp2.0_wNb30 -C cs_wGcomp2.0_wNb30\n",
      "skip the computation for : yambo/k8_nb60/cs_wGcomp3.0_wNb20/o-cs_wGcomp3.0_wNb20.qp\n",
      "skip the computation for : yambo/k8_nb60/cs_wGcomp1.0_wNb10/o-cs_wGcomp1.0_wNb10.qp\n",
      "execute : cd yambo/k8_nb60 ; mpirun -np 8 yambo -F cs_wGcomp1.5_wNb40.in -J cs_wGcomp1.5_wNb40 -C cs_wGcomp1.5_wNb40\n",
      "skip the computation for : yambo/k8_nb60/cs_wGcomp4.0_wNb10/o-cs_wGcomp4.0_wNb10.qp\n",
      "skip the computation for : yambo/k8_nb60/cs_wGcomp2.0_wNb20/o-cs_wGcomp2.0_wNb20.qp\n",
      "execute : cd yambo/k8_nb60 ; mpirun -np 8 yambo -F cs_wGcomp3.0_wNb30.in -J cs_wGcomp3.0_wNb30 -C cs_wGcomp3.0_wNb30\n",
      "skip the computation for : yambo/k8_nb60/cs_wGcomp2.0_wNb10/o-cs_wGcomp2.0_wNb10.qp\n",
      "execute : cd yambo/k8_nb60 ; mpirun -np 8 yambo -F cs_wGcomp3.0_wNb40.in -J cs_wGcomp3.0_wNb40 -C cs_wGcomp3.0_wNb40\n",
      "execute : cd yambo/k8_nb60 ; mpirun -np 8 yambo -F cs_wGcomp1.0_wNb40.in -J cs_wGcomp1.0_wNb40 -C cs_wGcomp1.0_wNb40\n",
      "execute : cd yambo/k8_nb60 ; mpirun -np 8 yambo -F cs_wGcomp1.5_wNb30.in -J cs_wGcomp1.5_wNb30 -C cs_wGcomp1.5_wNb30\n",
      "skip the computation for : yambo/k8_nb60/cs_wGcomp4.0_wNb20/o-cs_wGcomp4.0_wNb20.qp\n",
      "execute : cd yambo/k8_nb60 ; mpirun -np 8 yambo -F cs_wGcomp0.5_wNb40.in -J cs_wGcomp0.5_wNb40 -C cs_wGcomp0.5_wNb40\n",
      "execute : cd yambo/k8_nb60 ; mpirun -np 8 yambo -F cs_wGcomp5.0_wNb10.in -J cs_wGcomp5.0_wNb10 -C cs_wGcomp5.0_wNb10\n",
      "execute : cd yambo/k8_nb60 ; mpirun -np 8 yambo -F cs_wGcomp4.0_wNb40.in -J cs_wGcomp4.0_wNb40 -C cs_wGcomp4.0_wNb40\n",
      "execute : cd yambo/k8_nb60 ; mpirun -np 8 yambo -F cs_wGcomp2.0_wNb40.in -J cs_wGcomp2.0_wNb40 -C cs_wGcomp2.0_wNb40\n",
      "execute : cd yambo/k8_nb60 ; mpirun -np 8 yambo -F cs_wGcomp5.0_wNb20.in -J cs_wGcomp5.0_wNb20 -C cs_wGcomp5.0_wNb20\n",
      "execute : cd yambo/k8_nb60 ; mpirun -np 8 yambo -F cs_wGcomp1.0_wNb30.in -J cs_wGcomp1.0_wNb30 -C cs_wGcomp1.0_wNb30\n",
      "execute : cd yambo/k8_nb60 ; mpirun -np 8 yambo -F cs_wGcomp4.0_wNb30.in -J cs_wGcomp4.0_wNb30 -C cs_wGcomp4.0_wNb30\n",
      "execute : cd yambo/k8_nb60 ; mpirun -np 8 yambo -F cs_wGcomp5.0_wNb40.in -J cs_wGcomp5.0_wNb40 -C cs_wGcomp5.0_wNb40\n",
      "skip the computation for : yambo/k8_nb60/cs_wGcomp1.5_wNb10/o-cs_wGcomp1.5_wNb10.qp\n"
     ]
    }
   ],
   "source": [
    "R.runCOHSEX(yamboDic,hf_kconv,8,True)"
   ]
  },
  {
   "cell_type": "code",
   "execution_count": 59,
   "metadata": {},
   "outputs": [
    {
     "name": "stdout",
     "output_type": "stream",
     "text": [
      "read file : yambo/k8_nb60/cs_wGcomp0.5_wNb20/o-cs_wGcomp0.5_wNb20.qp\n",
      "read file : yambo/k8_nb60/cs_wGcomp1.5_wNb20/o-cs_wGcomp1.5_wNb20.qp\n",
      "read file : yambo/k8_nb60/cs_wGcomp0.5_wNb10/o-cs_wGcomp0.5_wNb10.qp\n",
      "read file : yambo/k8_nb60/cs_wGcomp0.5_wNb30/o-cs_wGcomp0.5_wNb30.qp\n",
      "read file : yambo/k8_nb60/cs_wGcomp1.0_wNb20/o-cs_wGcomp1.0_wNb20.qp\n",
      "read file : yambo/k8_nb60/cs_wGcomp5.0_wNb30/o-cs_wGcomp5.0_wNb30.qp\n",
      "read file : yambo/k8_nb60/cs_wGcomp3.0_wNb10/o-cs_wGcomp3.0_wNb10.qp\n",
      "read file : yambo/k8_nb60/cs_wGcomp2.0_wNb30/o-cs_wGcomp2.0_wNb30.qp\n",
      "read file : yambo/k8_nb60/cs_wGcomp3.0_wNb20/o-cs_wGcomp3.0_wNb20.qp\n",
      "read file : yambo/k8_nb60/cs_wGcomp1.0_wNb10/o-cs_wGcomp1.0_wNb10.qp\n",
      "read file : yambo/k8_nb60/cs_wGcomp1.5_wNb40/o-cs_wGcomp1.5_wNb40.qp\n",
      "read file : yambo/k8_nb60/cs_wGcomp4.0_wNb10/o-cs_wGcomp4.0_wNb10.qp\n",
      "read file : yambo/k8_nb60/cs_wGcomp2.0_wNb20/o-cs_wGcomp2.0_wNb20.qp\n",
      "read file : yambo/k8_nb60/cs_wGcomp3.0_wNb30/o-cs_wGcomp3.0_wNb30.qp\n",
      "read file : yambo/k8_nb60/cs_wGcomp2.0_wNb10/o-cs_wGcomp2.0_wNb10.qp\n",
      "read file : yambo/k8_nb60/cs_wGcomp3.0_wNb40/o-cs_wGcomp3.0_wNb40.qp\n",
      "read file : yambo/k8_nb60/cs_wGcomp1.0_wNb40/o-cs_wGcomp1.0_wNb40.qp\n",
      "read file : yambo/k8_nb60/cs_wGcomp1.5_wNb30/o-cs_wGcomp1.5_wNb30.qp\n",
      "read file : yambo/k8_nb60/cs_wGcomp4.0_wNb20/o-cs_wGcomp4.0_wNb20.qp\n",
      "read file : yambo/k8_nb60/cs_wGcomp0.5_wNb40/o-cs_wGcomp0.5_wNb40.qp\n",
      "read file : yambo/k8_nb60/cs_wGcomp5.0_wNb10/o-cs_wGcomp5.0_wNb10.qp\n",
      "read file : yambo/k8_nb60/cs_wGcomp4.0_wNb40/o-cs_wGcomp4.0_wNb40.qp\n",
      "read file : yambo/k8_nb60/cs_wGcomp2.0_wNb40/o-cs_wGcomp2.0_wNb40.qp\n",
      "read file : yambo/k8_nb60/cs_wGcomp5.0_wNb20/o-cs_wGcomp5.0_wNb20.qp\n",
      "read file : yambo/k8_nb60/cs_wGcomp1.0_wNb30/o-cs_wGcomp1.0_wNb30.qp\n",
      "read file : yambo/k8_nb60/cs_wGcomp4.0_wNb30/o-cs_wGcomp4.0_wNb30.qp\n",
      "read file : yambo/k8_nb60/cs_wGcomp5.0_wNb40/o-cs_wGcomp5.0_wNb40.qp\n",
      "read file : yambo/k8_nb60/cs_wGcomp1.5_wNb10/o-cs_wGcomp1.5_wNb10.qp\n"
     ]
    }
   ],
   "source": [
    "# reads the results\n",
    "reload(R)\n",
    "R.getCOHSEXresults(yamboDic,hf_kconv)"
   ]
  },
  {
   "cell_type": "markdown",
   "metadata": {},
   "source": [
    "Analysis of the convergence of the gap (both direct and indirect)"
   ]
  },
  {
   "cell_type": "code",
   "execution_count": 60,
   "metadata": {},
   "outputs": [
    {
     "name": "stdout",
     "output_type": "stream",
     "text": [
      "{40: [3.7172799999999997, 3.184627, 3.385008, 3.385008, 3.591203, 3.6816709999999997, 3.702071], 10: [3.736128, 3.334508, 3.4925189999999997, 3.4925189999999997, 3.641484, 3.6794520000000004, 3.683375], 20: [3.7180720000000003, 3.209378, 3.400489, 3.400489, 3.5843100000000003, 3.6498039999999996, 3.6604469999999996], 30: [3.717465, 3.192735, 3.3914679999999997, 3.3914679999999997, 3.591533, 3.67345, 3.6900239999999997]}\n"
     ]
    },
    {
     "data": {
      "image/png": "[encoded data removed]",
      "text/plain": [
       "<Figure size 432x288 with 1 Axes>"
      ]
     },
     "metadata": {},
     "output_type": "display_data"
    }
   ],
   "source": [
    "y = yamboDic[hf_kconv][nscf_nbnds[0]]['cs']\n",
    "\n",
    "dirGap = {}\n",
    "for wn in W_nb:\n",
    "    dirGap[wn] = []\n",
    "    for wg in W_Gcomp:    \n",
    "        ind = 0\n",
    "        for kVal,bndVal in zip(y[wg,wn]['KP'],y[wg,wn]['BND']):\n",
    "            if kVal == 1.0 and bndVal == 4.0:\n",
    "                break\n",
    "            else:\n",
    "                ind +=1\n",
    "        EHomo = y[wg,wn]['E0'][ind] + y[wg,wn]['EmE0'][ind]\n",
    "        ind = 0\n",
    "        for kVal,bndVal in zip(y[wg,wn]['KP'],y[wg,wn]['BND']):\n",
    "            if kVal == 1.0 and bndVal == 5.0:\n",
    "                break\n",
    "            else:\n",
    "                ind +=1\n",
    "        ELumo = y[wg,wn]['E0'][ind] + y[wg,wn]['EmE0'][ind]\n",
    "        dirGap[wn].append(ELumo-EHomo)\n",
    "\n",
    "    plt.plot(W_Gcomp,dirGap[wn],label= 'W_Nbn_'+str(wn))\n",
    "\n",
    "print dirGap\n",
    "plt.xlabel('energy cutoff W',size=12)\n",
    "plt.title('Direct gap')\n",
    "plt.legend()\n",
    "plt.show()"
   ]
  },
  {
   "cell_type": "code",
   "execution_count": 61,
   "metadata": {},
   "outputs": [
    {
     "name": "stdout",
     "output_type": "stream",
     "text": [
      "{40: [1.288503, 0.94477, 1.2851949999999999, 1.2851949999999999, 1.559924, 1.6794850000000001, 1.705066], 10: [1.3053919999999999, 1.119288, 1.36578, 1.36578, 1.544686, 1.58837, 1.59295], 20: [1.2892279999999998, 0.985928, 1.299202, 1.299202, 1.5352140000000003, 1.616129, 1.6285820000000002], 30: [1.2886769999999999, 0.95806, 1.290937, 1.290937, 1.5531160000000002, 1.6580469999999998, 1.6780559999999998]}\n"
     ]
    },
    {
     "data": {
      "image/png": "[encoded data removed]",
      "text/plain": [
       "<Figure size 432x288 with 1 Axes>"
      ]
     },
     "metadata": {},
     "output_type": "display_data"
    }
   ],
   "source": [
    "y = yamboDic[hf_kconv][nscf_nbnds[0]]['cs']\n",
    "\n",
    "# stucture for indirect gap [k] : [khomo,klumo]\n",
    "# using indGap as difference between homo in Gamma(0,0,0) \n",
    "# and lumo in (0.0, -0.5, -0.5) (rlu)\n",
    "par = {2:[1,3], 4:[1,7], 6:[1,13], 8:[1,21]}\n",
    "\n",
    "indirGap = {}\n",
    "for wn in W_nb:\n",
    "    indirGap[wn] = []\n",
    "    for wg in W_Gcomp:    \n",
    "        ind = 0\n",
    "        for kVal,bndVal in zip(y[wg,wn]['KP'],y[wg,wn]['BND']):\n",
    "            if kVal == par[hf_kconv][0] and bndVal == 4.0:\n",
    "                break\n",
    "            else:\n",
    "                ind +=1\n",
    "        EHomo = y[wg,wn]['E0'][ind] + y[wg,wn]['EmE0'][ind]\n",
    "        ind = 0\n",
    "        for kVal,bndVal in zip(y[wg,wn]['KP'],y[wg,wn]['BND']):\n",
    "            if kVal == par[hf_kconv][1] and bndVal == 5.0:\n",
    "                break\n",
    "            else:\n",
    "                ind +=1\n",
    "        ELumo = y[wg,wn]['E0'][ind] + y[wg,wn]['EmE0'][ind]\n",
    "        indirGap[wn].append(ELumo-EHomo)\n",
    "\n",
    "    plt.plot(W_Gcomp,indirGap[wn],label= 'W_Nbn_'+str(wn))\n",
    "\n",
    "print indirGap\n",
    "plt.xlabel('energy cutoff W',size=12)\n",
    "plt.title('Indirect gap')\n",
    "plt.legend()\n",
    "plt.show()"
   ]
  },
  {
   "cell_type": "code",
   "execution_count": null,
   "metadata": {},
   "outputs": [],
   "source": []
  },
  {
   "cell_type": "code",
   "execution_count": null,
   "metadata": {},
   "outputs": [],
   "source": []
  },
  {
   "cell_type": "code",
   "execution_count": null,
   "metadata": {},
   "outputs": [],
   "source": []
  },
  {
   "cell_type": "code",
   "execution_count": null,
   "metadata": {},
   "outputs": [],
   "source": []
  },
  {
   "cell_type": "code",
   "execution_count": null,
   "metadata": {},
   "outputs": [],
   "source": []
  },
  {
   "cell_type": "code",
   "execution_count": null,
   "metadata": {},
   "outputs": [],
   "source": []
  },
  {
   "cell_type": "code",
   "execution_count": null,
   "metadata": {},
   "outputs": [],
   "source": []
  },
  {
   "cell_type": "code",
   "execution_count": null,
   "metadata": {},
   "outputs": [],
   "source": []
  },
  {
   "cell_type": "code",
   "execution_count": null,
   "metadata": {},
   "outputs": [],
   "source": []
  },
  {
   "cell_type": "code",
   "execution_count": null,
   "metadata": {},
   "outputs": [],
   "source": []
  }
 ],
 "metadata": {
  "kernelspec": {
   "display_name": "Python 2",
   "language": "python",
   "name": "python2"
  },
  "language_info": {
   "codemirror_mode": {
    "name": "ipython",
    "version": 2
   },
   "file_extension": ".py",
   "mimetype": "text/x-python",
   "name": "python",
   "nbconvert_exporter": "python",
   "pygments_lexer": "ipython2",
   "version": "2.7.15rc1"
  }
 },
 "nbformat": 4,
 "nbformat_minor": 2
}
