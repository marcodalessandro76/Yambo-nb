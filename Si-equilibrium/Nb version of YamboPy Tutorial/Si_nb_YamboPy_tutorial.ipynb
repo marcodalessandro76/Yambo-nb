{
 "cells": [
  {
   "cell_type": "code",
   "execution_count": 1,
   "metadata": {},
   "outputs": [],
   "source": [
    "from qepy import *\n",
    "from yambopy import *\n",
    "from qepy import PwIn\n",
    "import matplotlib.pyplot as plt\n",
    "import numpy as np\n",
    "import json"
   ]
  },
  {
   "cell_type": "code",
   "execution_count": 2,
   "metadata": {},
   "outputs": [],
   "source": [
    "# Create the input files\n",
    "def get_inputfile():\n",
    "    \"\"\" Define a Quantum espresso input file for silicon\n",
    "    \"\"\"\n",
    "    qe = PwIn()\n",
    "    qe.atoms = [['Si',[0.125,0.125,0.125]],\n",
    "                ['Si',[-.125,-.125,-.125]]]\n",
    "    qe.atypes = {'Si': [28.086,\"Si.pbe-mt_fhi.UPF\"]}\n",
    "\n",
    "    qe.control['prefix'] = \"'%s'\"%prefix\n",
    "    qe.control['wf_collect'] = '.true.'\n",
    "    qe.control['pseudo_dir'] = \"'../pseudos'\"\n",
    "    qe.system['celldm(1)'] = 10.3\n",
    "    qe.system['ecutwfc'] = 30\n",
    "    qe.system['occupations'] = \"'fixed'\"\n",
    "    qe.system['nat'] = 2\n",
    "    qe.system['ntyp'] = 1\n",
    "    qe.system['ibrav'] = 2\n",
    "    qe.electrons['conv_thr'] = 1e-8\n",
    "    return qe\n",
    "\n",
    "#scf\n",
    "def scf():\n",
    "    if not os.path.isdir('scf'):\n",
    "        os.mkdir('scf')\n",
    "    qe = get_inputfile()\n",
    "    qe.control['calculation'] = \"'scf'\"\n",
    "    qe.kpoints = scf_kpoints\n",
    "    qe.write('scf/%s.scf'%prefix)\n",
    "\n",
    "#nscf\n",
    "def nscf():\n",
    "    if not os.path.isdir('nscf'):\n",
    "        os.mkdir('nscf')\n",
    "    qe = get_inputfile()\n",
    "    qe.control['calculation'] = \"'nscf'\"\n",
    "    qe.electrons['diago_full_acc'] = \".true.\"\n",
    "    qe.electrons['conv_thr'] = 1e-8\n",
    "    qe.system['nbnd'] = 30\n",
    "    qe.system['force_symmorphic'] = \".true.\"\n",
    "    qe.kpoints = nscf_kpoints\n",
    "    qe.write('nscf/%s.nscf'%prefix)\n",
    "\n",
    "#bands\n",
    "def bands():\n",
    "    if not os.path.isdir('bands'):\n",
    "        os.mkdir('bands')\n",
    "    qe = get_inputfile()\n",
    "    qe.control['calculation'] = \"'bands'\"\n",
    "    qe.electrons['diago_full_acc'] = \".true.\"\n",
    "    qe.electrons['conv_thr'] = 1e-8\n",
    "    qe.system['nbnd'] = 8\n",
    "    qe.system['force_symmorphic'] = \".true.\"\n",
    "    qe.ktype = 'crystal'\n",
    "    qe.set_path(p)\n",
    "    qe.write('bands/%s.bands'%prefix)\n",
    "\n",
    "def run_scf(nthreads=1):\n",
    "    print(\"running scf:\")\n",
    "    os.system(\"cd scf; mpirun -np %d %s -inp %s.scf > scf.log\"%(nthreads,pw,prefix))\n",
    "    print(\"done!\")\n",
    "\n",
    "def run_nscf(nthreads=1):\n",
    "    print(\"running nscf:\")\n",
    "    os.system(\"cp -r scf/%s.save nscf/\"%prefix)\n",
    "    os.system(\"cd nscf; mpirun -np %d %s -inp %s.nscf > nscf.log\"%(nthreads,pw,prefix))\n",
    "    print(\"done!\")\n",
    "\n",
    "def run_bands(nthreads=1):\n",
    "    print(\"running bands:\")\n",
    "    os.system(\"cp -r scf/%s.save bands/\"%prefix)\n",
    "    os.system(\"cd bands; mpirun -np %d %s -inp %s.bands > bands.log\"%(nthreads,pw,prefix))\n",
    "    print(\"done!\")\n",
    "\n",
    "def run_plot():\n",
    "    print(\"running plotting:\")\n",
    "    xml = PwXML(prefix='si',path='bands')\n",
    "    xml.plot_eigen(p)"
   ]
  },
  {
   "cell_type": "code",
   "execution_count": 3,
   "metadata": {},
   "outputs": [],
   "source": [
    "#Define some global variable\n",
    "scf_kpoints  = [4,4,4]\n",
    "nscf_kpoints = [4,4,4]\n",
    "prefix = 'si'\n",
    "matdyn = 'matdyn.x'\n",
    "q2r =    'q2r.x'\n",
    "pw = 'pw.x'\n",
    "ph = 'ph.x'\n",
    "p = Path([ [[1.0,1.0,1.0],'G'],\n",
    "           [[0.0,0.5,0.5],'X'],\n",
    "           [[0.0,0.0,0.0],'G'],\n",
    "           [[0.5,0.0,0.0],'L']], [20,20,20])\n",
    "\n",
    "nthreads = 4"
   ]
  },
  {
   "cell_type": "code",
   "execution_count": 4,
   "metadata": {},
   "outputs": [
    {
     "name": "stdout",
     "output_type": "stream",
     "text": [
      "running scf:\n",
      "done!\n"
     ]
    }
   ],
   "source": [
    "#run the scf calculation\n",
    "scf()\n",
    "run_scf(nthreads)"
   ]
  },
  {
   "cell_type": "code",
   "execution_count": 5,
   "metadata": {},
   "outputs": [
    {
     "name": "stdout",
     "output_type": "stream",
     "text": [
      "running nscf:\n",
      "done!\n"
     ]
    }
   ],
   "source": [
    "#run the nscf calculation\n",
    "nscf()\n",
    "run_nscf(nthreads)"
   ]
  },
  {
   "cell_type": "code",
   "execution_count": 6,
   "metadata": {},
   "outputs": [
    {
     "name": "stdout",
     "output_type": "stream",
     "text": [
      "running bands:\n",
      "done!\n",
      "running plotting:\n",
      "reading data-file.xml\n"
     ]
    },
    {
     "data": {
      "image/png": "[encoded data removed]",
      "text/plain": [
       "<Figure size 432x288 with 1 Axes>"
      ]
     },
     "metadata": {},
     "output_type": "display_data"
    }
   ],
   "source": [
    "#compute and plot the bands\n",
    "bands()\n",
    "run_bands(nthreads)\n",
    "run_plot()"
   ]
  },
  {
   "cell_type": "markdown",
   "metadata": {},
   "source": [
    "Repeat the operation of gw_si.py"
   ]
  },
  {
   "cell_type": "code",
   "execution_count": 8,
   "metadata": {},
   "outputs": [
    {
     "name": "stdout",
     "output_type": "stream",
     "text": [
      "nscf calculation found!\n"
     ]
    }
   ],
   "source": [
    "#setup for the yambo computation. Check if the nscf folder is present\n",
    "#and convert the qe results in the yambo format. \n",
    "yambo =  'yambo'\n",
    "\n",
    "if not os.path.isdir('gw'):\n",
    "    os.mkdir('gw')\n",
    "\n",
    "#check if the nscf cycle is present\n",
    "if os.path.isdir('nscf/%s.save'%prefix):\n",
    "    print('nscf calculation found!')\n",
    "else:\n",
    "    print('nscf calculation not found!')\n",
    "    exit() \n",
    "\n",
    "#check if the SAVE folder is present\n",
    "if not os.path.isdir('gw/SAVE'):\n",
    "    print('preparing yambo gw folder')\n",
    "    os.system('cd nscf/%s.save; p2y'%prefix)\n",
    "    os.system('cd nscf/%s.save; yambo'%prefix) #execute yambo without argument\n",
    "    os.system('mv nscf/%s.save/SAVE gw'%prefix)"
   ]
  },
  {
   "cell_type": "code",
   "execution_count": 72,
   "metadata": {},
   "outputs": [
    {
     "name": "stdout",
     "output_type": "stream",
     "text": [
      "em1d\n",
      "gw0\n",
      "HF_and_locXC\n",
      "ppa\n",
      "EXXRLvcs = 5985.000000 RL\n",
      "% BndsRnXp\n",
      " 1 | 30 |   \n",
      "%\n",
      "% GbndRnge\n",
      " 1 | 30 |   \n",
      "%\n",
      "dScStep = 0.100000 eV\n",
      "NGsBlkXp = 1.000000 RL\n",
      "DysSolver =        'n'\n",
      "FFTGvecs = 1067.000000 RL\n",
      "% QPkrange\n",
      " 1 | 13 | 1 | 30 |   \n",
      "%\n",
      "PPAPntXp = 27.211380 eV\n",
      "% LongDrXp\n",
      " 1.0 | 0.0 | 0.0 |   \n",
      "%\n",
      "GDamping = 0.100000 eV\n",
      "\n"
     ]
    }
   ],
   "source": [
    "#create the yambo input file\n",
    "# -V all,qp,RL : verbosity\n",
    "# -p p,c : GW approximations [(p)PA/(c)OHSEX]\n",
    "# -d : dynamical inverse matrix\n",
    "# -g n,s,g: Dyson Equation solver [(n)ewton/(s)ecant)/(g)reen]\n",
    "y = YamboIn('%s -p p -g n -V RL'%yambo,folder='gw')\n",
    "print(y)\n",
    "#QPkrange : QP generalized K(points) indices. The format is\n",
    "#first k-point|last-kpoint|first-band|last-band|\n",
    "#modifiy the orginal QPkrange field [1,13,1,30] in [1,13,4,5]\n",
    "QPKrange,_ = y['QPkrange']\n",
    "y['QPkrange'] = [QPKrange[:2]+[1,5],'']\n",
    "#add these fields\n",
    "#Paramter to reduce the number of plane waves with respect to the the DFT-KS calculation\n",
    "#Convergence test required\n",
    "y['FFTGvecs'] = [22,'Ry']\n",
    "\n",
    "y['NGsBlkXp'] = [1,'Ry'] #?\n",
    "\n",
    "y['BndsRnXp'] = [1,20] #?\n",
    "#Parameter specifies the lower (occupied) and upper (unoccupied) band in the calculation of W.\n",
    "#format: lower-band|upper-band|\n",
    "y['GbndRnge'] = [1,20]\n",
    "y.write('gw/yambo_gw.in')"
   ]
  },
  {
   "cell_type": "code",
   "execution_count": 73,
   "metadata": {
    "scrolled": true
   },
   "outputs": [
    {
     "name": "stdout",
     "output_type": "stream",
     "text": [
      "calculating...\n"
     ]
    },
    {
     "data": {
      "text/plain": [
       "0"
      ]
     },
     "execution_count": 73,
     "metadata": {},
     "output_type": "execute_result"
    }
   ],
   "source": [
    "#mpirun of the yambo computation\n",
    "print('calculating...')\n",
    "os.system(\"cd gw; mpirun -np %d %s -F yambo_gw.in -J gw -C gw\"%(nthreads,yambo))"
   ]
  },
  {
   "cell_type": "code",
   "execution_count": 74,
   "metadata": {},
   "outputs": [
    {
     "name": "stdout",
     "output_type": "stream",
     "text": [
      "gw/gw\n"
     ]
    }
   ],
   "source": [
    "#Analyse the results using yambo analyser\n",
    "pack_files_in_folder('gw')\n",
    "ya_gw = YamboAnalyser('gw')"
   ]
  },
  {
   "cell_type": "code",
   "execution_count": 75,
   "metadata": {},
   "outputs": [
    {
     "name": "stdout",
     "output_type": "stream",
     "text": [
      "plot along a path\n",
      "nkpoints: 13\n",
      " -0.09708738   0.09708738   0.09708738  0\n",
      " -0.04854369   0.09708738   0.04854369  12\n",
      "  0.00000000   0.09708738   0.00000000  6\n",
      "  0.00000000   0.09708738   0.00000000  6\n",
      "  0.00000000   0.04854369   0.00000000  3\n",
      "  0.00000000   0.00000000   0.00000000  0\n",
      "  0.00000000   0.00000000   0.00000000  0\n",
      " -0.02427184  -0.02427184   0.02427184  1\n",
      " -0.04854369  -0.04854369   0.04854369  2\n"
     ]
    },
    {
     "data": {
      "image/png": "[encoded data removed]",
      "text/plain": [
       "<Figure size 432x288 with 1 Axes>"
      ]
     },
     "metadata": {},
     "output_type": "display_data"
    }
   ],
   "source": [
    "print('plot along a path')\n",
    "path = [[[1.0,1.0,1.0],'G'],\n",
    "        [[0.0,0.5,0.5],'X'],\n",
    "        [[0.0,0.0,0.0],'G'],\n",
    "        [[0.5,0.0,0.0],'L']]\n",
    "ya_gw.plot_gw_path('qp',path)"
   ]
  },
  {
   "cell_type": "markdown",
   "metadata": {},
   "source": [
    "Repeat the operation of gw_conv_si.py"
   ]
  },
  {
   "cell_type": "code",
   "execution_count": 10,
   "metadata": {},
   "outputs": [
    {
     "name": "stdout",
     "output_type": "stream",
     "text": [
      "nscf calculation found!\n",
      "preparing yambo gw_conv folder\n"
     ]
    }
   ],
   "source": [
    "#setup for the yambo computation for the gw_conv folder. Check if the nscf folder is present\n",
    "#and convert the qe results in the yambo format. \n",
    "yambo = 'yambo'\n",
    "\n",
    "if not os.path.isdir('gw_conv'):\n",
    "    os.mkdir('gw_conv')\n",
    "\n",
    "#check if the nscf cycle is present\n",
    "if os.path.isdir('nscf/%s.save'%prefix):\n",
    "    print('nscf calculation found!')\n",
    "else:\n",
    "    print('nscf calculation not found!')\n",
    "    exit() \n",
    "\n",
    "#check if the SAVE folder is present\n",
    "if not os.path.isdir('gw_conv/SAVE'):\n",
    "    print('preparing yambo gw_conv folder')\n",
    "    os.system('cd nscf/%s.save; p2y'%prefix)\n",
    "    os.system('cd nscf/%s.save; yambo'%prefix) #execute yambo without argument\n",
    "    os.system('mv nscf/%s.save/SAVE gw_conv'%prefix)"
   ]
  },
  {
   "cell_type": "code",
   "execution_count": 11,
   "metadata": {},
   "outputs": [],
   "source": [
    "y = YamboIn('%s -p p -g n -V RL'%yambo,folder='gw_conv')\n",
    "y['GbndRnge'] = [[1,15],'']\n",
    "y['QPkrange'][0][2:4] = [2,6]\n",
    "conv = { 'FFTGvecs': [[5,10,15],'Ry'],\n",
    "        'NGsBlkXp': [[1,2,3], 'Ry'],\n",
    "        'BndsRnXp': [[1,10],[1,20],[1,30]] }"
   ]
  },
  {
   "cell_type": "markdown",
   "metadata": {},
   "source": [
    "Increases one parameter at the time, when one is increased the others are in their base value"
   ]
  },
  {
   "cell_type": "code",
   "execution_count": 12,
   "metadata": {},
   "outputs": [],
   "source": [
    "def run(filename):\n",
    "        \"\"\" Function to be called by the optimize function \"\"\"\n",
    "        folder = filename.split('.')[0]\n",
    "        print(filename,folder)\n",
    "        os.system('cd gw_conv; mpirun -np %d %s -F %s -J %s -C %s 2> %s.log'%(nthreads,yambo,filename,folder,folder,folder))"
   ]
  },
  {
   "cell_type": "code",
   "execution_count": 13,
   "metadata": {},
   "outputs": [
    {
     "name": "stdout",
     "output_type": "stream",
     "text": [
      "('reference.in', 'reference')\n",
      "('NGsBlkXp_00002.in', 'NGsBlkXp_00002')\n",
      "('NGsBlkXp_00003.in', 'NGsBlkXp_00003')\n",
      "('BndsRnXp_1_20.in', 'BndsRnXp_1_20')\n",
      "('BndsRnXp_1_30.in', 'BndsRnXp_1_30')\n",
      "('FFTGvecs_00010.in', 'FFTGvecs_00010')\n",
      "('FFTGvecs_00015.in', 'FFTGvecs_00015')\n"
     ]
    },
    {
     "data": {
      "text/plain": [
       "[]"
      ]
     },
     "execution_count": 13,
     "metadata": {},
     "output_type": "execute_result"
    }
   ],
   "source": [
    "y.optimize(conv,run=run)"
   ]
  },
  {
   "cell_type": "code",
   "execution_count": 23,
   "metadata": {},
   "outputs": [
    {
     "name": "stdout",
     "output_type": "stream",
     "text": [
      "gw_conv/NGsBlkXp_00003\n",
      "gw_conv/reference\n",
      "gw_conv/NGsBlkXp_00002\n",
      "gw_conv/BndsRnXp_1_30\n",
      "gw_conv/BndsRnXp_1_20\n",
      "gw_conv/FFTGvecs_00015\n",
      "gw_conv/FFTGvecs_00010\n",
      "reference.json\n",
      "\to-reference.qp\n",
      "BndsRnXp_1_30.json\n",
      "\to-BndsRnXp_1_30.qp\n",
      "BndsRnXp_1_20.json\n",
      "\to-BndsRnXp_1_20.qp\n",
      "NGsBlkXp_00002.json\n",
      "\to-NGsBlkXp_00002.qp\n",
      "FFTGvecs_00010.json\n",
      "\to-FFTGvecs_00010.qp\n",
      "FFTGvecs_00015.json\n",
      "\to-FFTGvecs_00015.qp\n",
      "NGsBlkXp_00003.json\n",
      "\to-NGsBlkXp_00003.qp\n",
      "\n"
     ]
    }
   ],
   "source": [
    "pack_files_in_folder('gw_conv')\n",
    "#plot the results using yambm analyser\n",
    "ya_gw_conv = YamboAnalyser('gw_conv')\n",
    "print(ya_gw_conv)"
   ]
  },
  {
   "cell_type": "code",
   "execution_count": 24,
   "metadata": {},
   "outputs": [
    {
     "data": {
      "image/png": "[encoded data removed]",
      "text/plain": [
       "<Figure size 432x288 with 1 Axes>"
      ]
     },
     "metadata": {},
     "output_type": "display_data"
    }
   ],
   "source": [
    "ya_gw_conv.plot_qp_correction('qp')"
   ]
  },
  {
   "cell_type": "code",
   "execution_count": 25,
   "metadata": {},
   "outputs": [
    {
     "name": "stdout",
     "output_type": "stream",
     "text": [
      "plot along a path\n",
      "nkpoints: 13\n",
      " -0.09708738   0.09708738   0.09708738  0\n",
      " -0.04854369   0.09708738   0.04854369  12\n",
      "  0.00000000   0.09708738   0.00000000  6\n",
      "  0.00000000   0.09708738   0.00000000  6\n",
      "  0.00000000   0.04854369   0.00000000  3\n",
      "  0.00000000   0.00000000   0.00000000  0\n",
      "  0.00000000   0.00000000   0.00000000  0\n",
      " -0.02427184  -0.02427184   0.02427184  1\n",
      " -0.04854369  -0.04854369   0.04854369  2\n"
     ]
    },
    {
     "data": {
      "image/png": "[encoded data removed]",
      "text/plain": [
       "<Figure size 432x288 with 1 Axes>"
      ]
     },
     "metadata": {},
     "output_type": "display_data"
    }
   ],
   "source": [
    "print('plot along a path')\n",
    "path = [[[1.0,1.0,1.0],'G'],\n",
    "        [[0.0,0.5,0.5],'X'],\n",
    "        [[0.0,0.0,0.0],'G'],\n",
    "        [[0.5,0.0,0.0],'L']]\n",
    "ya_gw_conv.plot_gw_path('qp',path)\n",
    "#ya.plot_gw_path('qp',path, cols=(lambda x: x[2]+x[3],2))"
   ]
  },
  {
   "cell_type": "markdown",
   "metadata": {},
   "source": [
    "Analysis of the yambo output files using the json file related procedure defined in the yambopy analyser. "
   ]
  },
  {
   "cell_type": "code",
   "execution_count": 82,
   "metadata": {},
   "outputs": [
    {
     "name": "stdout",
     "output_type": "stream",
     "text": [
      "/home/marco/Data/RICERCA/MANY BODY/Yambo-nb/Si-equilibrium/Nb version of YamboPy Tutorial/gw\n",
      "/home/marco/Data/RICERCA/MANY BODY/Yambo-nb/Si-equilibrium/Nb version of YamboPy Tutorial\n"
     ]
    }
   ],
   "source": [
    "# We can also directly read the .json file as a python dictionary\n",
    "%cd 'gw'\n",
    "with open('gw.json') as f:\n",
    "    gwdict = json.load(f)\n",
    "%cd ../"
   ]
  },
  {
   "cell_type": "code",
   "execution_count": 83,
   "metadata": {},
   "outputs": [
    {
     "data": {
      "text/plain": [
       "[u'tags',\n",
       " u'atompos',\n",
       " u'lattice',\n",
       " u'atomtype',\n",
       " u'alat',\n",
       " u'sym_car',\n",
       " u'runtime',\n",
       " u'data',\n",
       " u'kpts_iku',\n",
       " u'inputfile']"
      ]
     },
     "execution_count": 83,
     "metadata": {},
     "output_type": "execute_result"
    }
   ],
   "source": [
    "gwdict.keys()"
   ]
  },
  {
   "cell_type": "code",
   "execution_count": 90,
   "metadata": {},
   "outputs": [
    {
     "data": {
      "text/plain": [
       "{u'o-gw.qp': [[1.0, 4.0, 0.0, 0.45486, 1.831885],\n",
       "  [1.0, 5.0, 2.551396, 1.042565, -3.083382],\n",
       "  [2.0, 4.0, -0.755416, 0.419124, 1.981396],\n",
       "  [2.0, 5.0, 1.973283, 0.983112, -3.108838],\n",
       "  [3.0, 4.0, -1.193028, 0.370914, 2.196421],\n",
       "  [3.0, 5.0, 1.481409, 0.939244, -3.03619],\n",
       "  [4.0, 4.0, -1.875226, 0.30408, 2.247731],\n",
       "  [4.0, 5.0, 1.134926, 0.809255, -2.930648],\n",
       "  [5.0, 4.0, -2.189226, 0.287017, 2.428394],\n",
       "  [5.0, 5.0, 1.524587, 0.852982, -3.038514],\n",
       "  [6.0, 4.0, -1.319742, 0.386037, 2.160004],\n",
       "  [6.0, 5.0, 2.431065, 0.994539, -3.192577],\n",
       "  [7.0, 4.0, -2.831735, 0.212607, 2.656301],\n",
       "  [7.0, 5.0, 0.727806, 0.75929, -2.935658],\n",
       "  [8.0, 4.0, -3.815314, 0.141739, 2.664612],\n",
       "  [8.0, 5.0, 4.271985, 0.971582, -3.369467],\n",
       "  [9.0, 4.0, -0.755415, 0.418641, 1.980726],\n",
       "  [9.0, 5.0, 1.973334, 0.988205, -3.102833],\n",
       "  [10.0, 4.0, -1.19303, 0.36938, 2.1945],\n",
       "  [10.0, 5.0, 1.48145, 0.93898, -3.03673],\n",
       "  [11.0, 4.0, -2.18921, 0.26927, 2.4059],\n",
       "  [11.0, 5.0, 1.52463, 0.85933, -3.03086],\n",
       "  [12.0, 4.0, -2.18921, 0.2661, 2.40199],\n",
       "  [12.0, 5.0, 1.52461, 0.85771, -3.03293],\n",
       "  [13.0, 4.0, -1.31973, 0.38439, 2.15793],\n",
       "  [13.0, 5.0, 2.43112, 0.99855, -3.18772]],\n",
       " u'o-gw.qp_01': [[1.0, 1.0, -11.89434, -0.04509, 6.46509],\n",
       "  [1.0, 2.0, -2.23e-05, 0.4385, 1.812],\n",
       "  [1.0, 3.0, 0.0, 0.450928, 1.827128],\n",
       "  [1.0, 4.0, 0.0, 0.45486, 1.831885],\n",
       "  [1.0, 5.0, 2.551396, 1.042565, -3.083382],\n",
       "  [2.0, 1.0, -11.10052, -0.03564, 6.14711],\n",
       "  [2.0, 2.0, -3.909806, 0.178561, 2.894346],\n",
       "  [2.0, 3.0, -0.755436, 0.405629, 1.964768],\n",
       "  [2.0, 4.0, -0.755416, 0.419123, 1.981396],\n",
       "  [2.0, 5.0, 1.973283, 0.983112, -3.108838],\n",
       "  [3.0, 1.0, -9.583, 0.004476, 5.546],\n",
       "  [3.0, 2.0, -6.926, -0.000991, 4.215],\n",
       "  [3.0, 3.0, -1.193048, 0.37185, 2.197643],\n",
       "  [3.0, 4.0, -1.193028, 0.370914, 2.196421],\n",
       "  [3.0, 5.0, 1.481409, 0.939243, -3.03619],\n",
       "  [4.0, 1.0, -10.82067, -0.01992, 6.0499],\n",
       "  [4.0, 2.0, -3.51818, 0.271728, 2.84369],\n",
       "  [4.0, 3.0, -1.875241, 0.300967, 2.243813],\n",
       "  [4.0, 4.0, -1.875226, 0.30408, 2.247731],\n",
       "  [4.0, 5.0, 1.134926, 0.809255, -2.930648],\n",
       "  [5.0, 1.0, -9.19805, -0.01776, 5.34274],\n",
       "  [5.0, 2.0, -6.35472, 0.05161, 4.04813],\n",
       "  [5.0, 3.0, -3.50513, 0.185543, 2.562009],\n",
       "  [5.0, 4.0, -2.189226, 0.287017, 2.428394],\n",
       "  [5.0, 5.0, 1.524587, 0.852983, -3.038514],\n",
       "  [6.0, 1.0, -9.86643, -0.0281, 5.62324],\n",
       "  [6.0, 2.0, -5.46097, 0.09553, 3.65717],\n",
       "  [6.0, 3.0, -3.718335, 0.125245, 2.589781],\n",
       "  [6.0, 4.0, -1.319742, 0.386037, 2.160004],\n",
       "  [6.0, 5.0, 2.431065, 0.994539, -3.192577],\n",
       "  [7.0, 1.0, -7.78135, 0.03655, 4.74655],\n",
       "  [7.0, 2.0, -7.78132, 0.03661, 4.74654],\n",
       "  [7.0, 3.0, -2.831748, 0.212631, 2.656291],\n",
       "  [7.0, 4.0, -2.831735, 0.212607, 2.656301],\n",
       "  [7.0, 5.0, 0.727806, 0.75929, -2.935658],\n",
       "  [8.0, 1.0, -7.62124, 0.02403, 4.66577],\n",
       "  [8.0, 2.0, -7.62121, 0.03498, 4.68074],\n",
       "  [8.0, 3.0, -3.815324, 0.140599, 2.664855],\n",
       "  [8.0, 4.0, -3.815314, 0.141739, 2.664612],\n",
       "  [8.0, 5.0, 4.271985, 0.971582, -3.369467],\n",
       "  [9.0, 1.0, -11.10052, -0.0339, 6.15066],\n",
       "  [9.0, 2.0, -3.909842, 0.151076, 2.859246],\n",
       "  [9.0, 3.0, -0.755415, 0.402356, 1.960462],\n",
       "  [9.0, 4.0, -0.755415, 0.418641, 1.980726],\n",
       "  [9.0, 5.0, 1.973334, 0.988205, -3.102833],\n",
       "  [10.0, 1.0, -9.58253, 0.01997, 5.56932],\n",
       "  [10.0, 2.0, -6.926, 0.00393, 4.222],\n",
       "  [10.0, 3.0, -1.19303, 0.37746, 2.2045],\n",
       "  [10.0, 4.0, -1.19303, 0.36938, 2.1945],\n",
       "  [10.0, 5.0, 1.48145, 0.93898, -3.03673],\n",
       "  [11.0, 1.0, -9.19805, -0.02743, 5.32816],\n",
       "  [11.0, 2.0, -6.35472, 0.04926, 4.04186],\n",
       "  [11.0, 3.0, -3.50516, 0.18096, 2.5521],\n",
       "  [11.0, 4.0, -2.18921, 0.26927, 2.4059],\n",
       "  [11.0, 5.0, 1.52463, 0.85933, -3.03086],\n",
       "  [12.0, 1.0, -9.19803, -0.02453, 5.33356],\n",
       "  [12.0, 2.0, -6.35476, 0.04782, 4.04319],\n",
       "  [12.0, 3.0, -3.50512, 0.17705, 2.54739],\n",
       "  [12.0, 4.0, -2.18921, 0.2661, 2.40199],\n",
       "  [12.0, 5.0, 1.52461, 0.85771, -3.03293],\n",
       "  [13.0, 1.0, -9.866, -0.001486, 5.662],\n",
       "  [13.0, 2.0, -5.46101, 0.10645, 3.67202],\n",
       "  [13.0, 3.0, -3.71832, 0.14313, 2.61329],\n",
       "  [13.0, 4.0, -1.31973, 0.38439, 2.15793],\n",
       "  [13.0, 5.0, 2.43112, 0.99855, -3.18772]]}"
      ]
     },
     "execution_count": 90,
     "metadata": {},
     "output_type": "execute_result"
    }
   ],
   "source": [
    "# The list of quaisparticle energies in yambo is organized as follows:\n",
    "# K-point Band E0 E-E0 Sc(E0)\n",
    "gwdict['data']\n",
    "\n",
    "#meaning of file _01 ????"
   ]
  },
  {
   "cell_type": "code",
   "execution_count": 92,
   "metadata": {},
   "outputs": [
    {
     "data": {
      "text/plain": [
       "[-2.23e-05, 0.4385, 1.812]"
      ]
     },
     "execution_count": 92,
     "metadata": {},
     "output_type": "execute_result"
    }
   ],
   "source": [
    "line = gwdict['data']['o-gw.qp_01'][1]\n",
    "val = line[2:]\n",
    "val"
   ]
  },
  {
   "cell_type": "markdown",
   "metadata": {},
   "source": [
    "Plot E-E0/E0"
   ]
  },
  {
   "cell_type": "code",
   "execution_count": 93,
   "metadata": {},
   "outputs": [],
   "source": [
    "data = gwdict['data']['o-gw.qp_01']\n",
    "EmE0 = []\n",
    "E0 = []\n",
    "for d in data:\n",
    "    EmE0.append(d[3])\n",
    "    E0.append(d[2])"
   ]
  },
  {
   "cell_type": "code",
   "execution_count": 94,
   "metadata": {},
   "outputs": [
    {
     "data": {
      "image/png": "[encoded data removed]",
      "text/plain": [
       "<Figure size 432x288 with 1 Axes>"
      ]
     },
     "metadata": {},
     "output_type": "display_data"
    }
   ],
   "source": [
    "for a,b in zip(E0,EmE0):\n",
    "    plt.scatter(a,b)"
   ]
  },
  {
   "cell_type": "code",
   "execution_count": null,
   "metadata": {},
   "outputs": [],
   "source": [
    "# will all E-E0 are positive?"
   ]
  },
  {
   "cell_type": "code",
   "execution_count": null,
   "metadata": {},
   "outputs": [],
   "source": []
  },
  {
   "cell_type": "code",
   "execution_count": null,
   "metadata": {},
   "outputs": [],
   "source": []
  }
 ],
 "metadata": {
  "kernelspec": {
   "display_name": "Python 2",
   "language": "python",
   "name": "python2"
  },
  "language_info": {
   "codemirror_mode": {
    "name": "ipython",
    "version": 2
   },
   "file_extension": ".py",
   "mimetype": "text/x-python",
   "name": "python",
   "nbconvert_exporter": "python",
   "pygments_lexer": "ipython2",
   "version": "2.7.15rc1"
  }
 },
 "nbformat": 4,
 "nbformat_minor": 2
}
