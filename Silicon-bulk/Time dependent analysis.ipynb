{
 "cells": [
  {
   "cell_type": "code",
   "execution_count": 1,
   "metadata": {},
   "outputs": [],
   "source": [
    "from qepy import *\n",
    "from yambopy import *\n",
    "from qepy import PwIn\n",
    "import matplotlib.pyplot as plt\n",
    "import numpy as np\n",
    "import GW_Routines as GW\n",
    "import TD_Routines as TD"
   ]
  },
  {
   "cell_type": "code",
   "execution_count": 2,
   "metadata": {},
   "outputs": [],
   "source": [
    "mpi = 8 #16 #32\n",
    "omp = 1"
   ]
  },
  {
   "cell_type": "markdown",
   "metadata": {},
   "source": [
    "## Time dependent analysis "
   ]
  },
  {
   "cell_type": "markdown",
   "metadata": {},
   "source": [
    "Define the basis parameters of the RT simulation common to all the computation. Different values of the field intensity are considered and the yambo dictionary contains a key which parametrize this quantity."
   ]
  },
  {
   "cell_type": "code",
   "execution_count": 37,
   "metadata": {},
   "outputs": [],
   "source": [
    "fieldFreq = 2.56 #eV\n",
    "fieldWidth = 20 #fs\n",
    "fieldDirection = [1.0,1.0,1.0]\n",
    "RTstep = 2.0 #as - time step\n",
    "NETime = 120.0 #fs - total simulation time\n",
    "RTbands = [2,7] # the KS bands involved in the simulation"
   ]
  },
  {
   "cell_type": "code",
   "execution_count": 126,
   "metadata": {},
   "outputs": [],
   "source": [
    "# contains the parameters of the yambo_rt input file\n",
    "rt_parameters = {\n",
    "     'Field1_Freq'  : [[fieldFreq,fieldFreq],'eV'],\n",
    "     'Field1_Width' : [fieldWidth,'fs'],\n",
    "     'Field1_kind'  : 'QSSIN',\n",
    "     'Field1_pol'   : 'linear',\n",
    "     'Field1_Dir'   : fieldDirection,\n",
    "     'RTstep'       : [RTstep,'as'],\n",
    "     'NETime'       : [NETime,'fs'],\n",
    "     'RTBands'      : RTbands,\n",
    "     'IOtime'       : [[1.0,5.0,1.0],'fs'], # Carriers - GF - output\n",
    "     'GfnQP_Wv'     : [0.05,0.00,0.00],     # Constant damping valence\n",
    "     'GfnQP_Wc'     : [0.05,0.00,0.00],     # Constant damping conduction\n",
    "     #'GfnQP_E'      : [0.00, 1.00, 1.00], \n",
    "     'RT_CPU'       : \"%s.1.1.1\"%mpi\n",
    "}\n",
    "#rt_parameters"
   ]
  },
  {
   "cell_type": "code",
   "execution_count": 110,
   "metadata": {},
   "outputs": [],
   "source": [
    "# Set the values of the intensity of the field\n",
    "fieldInt = [100.0] # [0.,100.,200.]  #kWLm2"
   ]
  },
  {
   "cell_type": "markdown",
   "metadata": {},
   "source": [
    "Choose a value of kpoints and the direction of the perturbing field. Create the fixSymm folder that contain the SAVE folder compatible with the simmetries broken by the perturbation. This folder is working path of the RT simulation. Create the yambo dictionary."
   ]
  },
  {
   "cell_type": "code",
   "execution_count": 111,
   "metadata": {},
   "outputs": [
    {
     "name": "stdout",
     "output_type": "stream",
     "text": [
      "FixSymm folder already created\n",
      "path :  yambo/k8/FixSymm\n"
     ]
    }
   ],
   "source": [
    "kfold = 'yambo/k8'\n",
    "path = TD.fixSymm(kfold,fieldDirection)\n",
    "print 'path : ',path"
   ]
  },
  {
   "cell_type": "code",
   "execution_count": 112,
   "metadata": {},
   "outputs": [
    {
     "data": {
      "text/plain": [
       "{100.0: {}}"
      ]
     },
     "execution_count": 112,
     "metadata": {},
     "output_type": "execute_result"
    }
   ],
   "source": [
    "yambo = dict()\n",
    "for f in fieldInt:\n",
    "    yambo[f] = {}\n",
    "yambo"
   ]
  },
  {
   "cell_type": "code",
   "execution_count": 122,
   "metadata": {},
   "outputs": [],
   "source": [
    "def makeRTinputFile(path,fname='rt_default.in',**kwargs):\n",
    "    \"\"\"\n",
    "    Build the input file for a RT simulation in the independent particle approximation.\n",
    "    \"\"\"\n",
    "    y = YamboIn('yambo_rt -q p -v ip -V qp',folder=path)\n",
    "    for k,v in kwargs.iteritems():\n",
    "        y[k] = v\n",
    "    y.write(path+'/'+fname)\n",
    "\n",
    "def buildRT(dic,path,rt_par):\n",
    "    \"\"\"\n",
    "    Update the yambo dictionary with the parameters of the choosen RT computations and make the associated \n",
    "    RT input file \n",
    "    \"\"\"\n",
    "    fieldInt = dic.keys()\n",
    "    for f in fieldInt:\n",
    "        rt_par['Field1_Int'] = [f,'kWLm2']\n",
    "        radical = 'rt_int'+str(int(f))+'_freq'+str(rt_par['Field1_Freq'][0][0])+'_step'+str(rt_par['RTstep'][0])\n",
    "        inputFile = radical+'.in'\n",
    "        jobName = radical\n",
    "        outputFile = path+'/'+jobName+'/'+'o-'+radical+'.carriers'\n",
    "        dic[f]['rt'] = {'inpf' : inputFile, 'jobn' : jobName, 'outf' : outputFile}\n",
    "        \n",
    "        makeRTinputFile(path,fname = inputFile, **rt_par)"
   ]
  },
  {
   "cell_type": "code",
   "execution_count": 123,
   "metadata": {},
   "outputs": [],
   "source": [
    "buildRT(yambo,path,rt_parameters)\n",
    "yambo"
   ]
  },
  {
   "cell_type": "code",
   "execution_count": 119,
   "metadata": {},
   "outputs": [],
   "source": [
    "def runYambo_rt(path,filename,jobname,mpi,omp):\n",
    "    \"\"\"\n",
    "    Run a single Yambo_rt computation and delete the jobname folder is exsists\n",
    "    \"\"\"\n",
    "    jobDirPath = path+'/'+jobname\n",
    "    if os.path.isdir(jobDirPath):\n",
    "        print 'delete '+ jobDirPath\n",
    "        os.system(\"rm -r %s\"%jobDirPath)\n",
    "    osString = \"cd %s ; \"%path\n",
    "    osString += \"OMP_NUM_THREADS=%d mpirun -np %d yambo_rt -F %s -J %s -C %s\"%(omp,mpi,filename,jobname,jobname)\n",
    "    print 'execute : '+osString\n",
    "    os.system(osString)\n",
    "    print 'done!'"
   ]
  },
  {
   "cell_type": "code",
   "execution_count": 120,
   "metadata": {},
   "outputs": [],
   "source": [
    "def runRT(dic,path,mpi,omp,skip = False):\n",
    "    \"\"\"\n",
    "    Run a bunch of RT simulations\n",
    "    \"\"\"\n",
    "    for f,y in dic.iteritems():\n",
    "        if skip:\n",
    "            if os.path.isfile(y['rt']['outf']):\n",
    "                print 'skip the computation for : ',y['rt']['outf']\n",
    "            else:\n",
    "                runYambo_rt(path,y['rt']['inpf'],y['rt']['jobn'],mpi,omp)\n",
    "        else:\n",
    "            runYambo(folder,y['rt']['inpf'],y['jobn'],mpi,omp)"
   ]
  },
  {
   "cell_type": "code",
   "execution_count": 125,
   "metadata": {},
   "outputs": [
    {
     "name": "stdout",
     "output_type": "stream",
     "text": [
      "execute : cd yambo/k8/FixSymm ; OMP_NUM_THREADS=1 mpirun -np 8 yambo_rt -F rt_int100_freq2.56_step2.0.in -J rt_int100_freq2.56_step2.0 -C rt_int100_freq2.56_step2.0\n",
      "done!\n"
     ]
    }
   ],
   "source": [
    "runRT(yambo,path,mpi,omp,True)"
   ]
  },
  {
   "cell_type": "code",
   "execution_count": null,
   "metadata": {},
   "outputs": [],
   "source": []
  },
  {
   "cell_type": "code",
   "execution_count": null,
   "metadata": {},
   "outputs": [],
   "source": []
  },
  {
   "cell_type": "code",
   "execution_count": null,
   "metadata": {},
   "outputs": [],
   "source": []
  },
  {
   "cell_type": "code",
   "execution_count": null,
   "metadata": {},
   "outputs": [],
   "source": []
  },
  {
   "cell_type": "code",
   "execution_count": null,
   "metadata": {},
   "outputs": [],
   "source": []
  },
  {
   "cell_type": "code",
   "execution_count": null,
   "metadata": {},
   "outputs": [],
   "source": []
  },
  {
   "cell_type": "code",
   "execution_count": null,
   "metadata": {},
   "outputs": [],
   "source": [
    "#######################################################################################"
   ]
  },
  {
   "cell_type": "code",
   "execution_count": 3,
   "metadata": {},
   "outputs": [],
   "source": [
    "# Field parameters\n",
    "fieldInt =  [0,100,200]  #kWLm2\n",
    "fieldFreq = 2.56 #eV\n",
    "fieldWidth = 20 #fs\n",
    "\n",
    "# Simulation parameters\n",
    "RTstep = 2.0 #as - time step\n",
    "NETime = 120.0 #fs - total simulation time\n",
    "RTbands = [2,7] # the KS bands involved in the simulation\n",
    "\n",
    "# Parallelization\n",
    "RT_CPU = \"%s.1.1.1\"%mpi"
   ]
  },
  {
   "cell_type": "markdown",
   "metadata": {},
   "source": [
    "Choose a value of kpoints and the direction of the perturbing field. Create the fixSymm folder that contain the SAVE folder compatible with the simmetries broken by the perturbation. This folder is working path of the RT simulation. Create the yambo dictionary."
   ]
  },
  {
   "cell_type": "code",
   "execution_count": 5,
   "metadata": {},
   "outputs": [
    {
     "name": "stdout",
     "output_type": "stream",
     "text": [
      "FixSymm folder already created\n",
      "path :  yambo/k8/FixSymm\n"
     ]
    }
   ],
   "source": [
    "kfold = 'yambo/k8'\n",
    "fieldDirection = [1.0,1.0,1.0]\n",
    "path = TD.fixSymm(kfold,fieldDirection)\n",
    "print 'path : ',path"
   ]
  },
  {
   "cell_type": "code",
   "execution_count": 6,
   "metadata": {},
   "outputs": [],
   "source": [
    "yambo = dict()\n",
    "for f in fieldInt:\n",
    "    yambo[f] = {}"
   ]
  },
  {
   "cell_type": "code",
   "execution_count": 7,
   "metadata": {},
   "outputs": [
    {
     "data": {
      "text/plain": [
       "{0: {}, 100: {}, 200: {}}"
      ]
     },
     "execution_count": 7,
     "metadata": {},
     "output_type": "execute_result"
    }
   ],
   "source": [
    "yambo"
   ]
  },
  {
   "cell_type": "code",
   "execution_count": 24,
   "metadata": {},
   "outputs": [],
   "source": [
    "def man(name = 'marco', age = 42):\n",
    "    print name\n",
    "    print age"
   ]
  },
  {
   "cell_type": "code",
   "execution_count": 26,
   "metadata": {},
   "outputs": [
    {
     "name": "stdout",
     "output_type": "stream",
     "text": [
      "pippo\n",
      "42\n"
     ]
    }
   ],
   "source": [
    "man(name = 'pippo')"
   ]
  },
  {
   "cell_type": "code",
   "execution_count": 40,
   "metadata": {},
   "outputs": [],
   "source": [
    "def makeRTinputFile(path,fname='rt_default.in',**kwargs):\n",
    "    \"\"\"\n",
    "    Build the input file for a RT simulation in the independent particle approximation.\n",
    "    Set the relevant parameters for the field and the simulation options.\n",
    "    \"\"\"\n",
    "    y = YamboIn('yambo_rt -q p -v ip -V qp',folder=path)\n",
    "    for k,v in kwargs.iteritems():\n",
    "        y[k] = v\n",
    "    y.write(path+'/'+fname)\n",
    "    "
   ]
  },
  {
   "cell_type": "code",
   "execution_count": 43,
   "metadata": {},
   "outputs": [],
   "source": [
    "makeRTinputFile(path,Field1_kind='QSSIN')"
   ]
  },
  {
   "cell_type": "code",
   "execution_count": null,
   "metadata": {},
   "outputs": [],
   "source": []
  },
  {
   "cell_type": "code",
   "execution_count": null,
   "metadata": {},
   "outputs": [],
   "source": []
  },
  {
   "cell_type": "code",
   "execution_count": null,
   "metadata": {},
   "outputs": [],
   "source": []
  },
  {
   "cell_type": "code",
   "execution_count": null,
   "metadata": {},
   "outputs": [],
   "source": []
  },
  {
   "cell_type": "code",
   "execution_count": null,
   "metadata": {},
   "outputs": [],
   "source": []
  },
  {
   "cell_type": "code",
   "execution_count": null,
   "metadata": {},
   "outputs": [],
   "source": []
  },
  {
   "cell_type": "code",
   "execution_count": 22,
   "metadata": {},
   "outputs": [
    {
     "ename": "NameError",
     "evalue": "name 'fold' is not defined",
     "output_type": "error",
     "traceback": [
      "\u001b[0;31m---------------------------------------------------------------------------\u001b[0m",
      "\u001b[0;31mNameError\u001b[0m                                 Traceback (most recent call last)",
      "\u001b[0;32m<ipython-input-22-6e0c358729e5>\u001b[0m in \u001b[0;36m<module>\u001b[0;34m()\u001b[0m\n\u001b[0;32m----> 1\u001b[0;31m \u001b[0;32mdef\u001b[0m \u001b[0mmakeTDinput\u001b[0m\u001b[0;34m(\u001b[0m\u001b[0mpath\u001b[0m\u001b[0;34m=\u001b[0m\u001b[0mfold\u001b[0m\u001b[0;34m,\u001b[0m\u001b[0mfname\u001b[0m\u001b[0;34m=\u001b[0m\u001b[0mfn\u001b[0m\u001b[0;34m,\u001b[0m\u001b[0mfieldDirection\u001b[0m\u001b[0;34m=\u001b[0m\u001b[0mfDir\u001b[0m\u001b[0;34m,\u001b[0m\u001b[0mfieldInt\u001b[0m\u001b[0;34m=\u001b[0m\u001b[0mfInt\u001b[0m\u001b[0;34m,\u001b[0m\u001b[0mfieldFreq\u001b[0m\u001b[0;34m=\u001b[0m\u001b[0mfFreq\u001b[0m\u001b[0;34m,\u001b[0m\u001b[0mfieldWidth\u001b[0m\u001b[0;34m=\u001b[0m\u001b[0mfWidth\u001b[0m\u001b[0;34m,\u001b[0m\u001b[0mRTstep\u001b[0m\u001b[0;34m=\u001b[0m\u001b[0mstep\u001b[0m\u001b[0;34m,\u001b[0m\u001b[0mNETime\u001b[0m\u001b[0;34m=\u001b[0m\u001b[0mtime\u001b[0m\u001b[0;34m,\u001b[0m\u001b[0mRTbands\u001b[0m\u001b[0;34m=\u001b[0m\u001b[0mbnds\u001b[0m\u001b[0;34m,\u001b[0m\u001b[0mRT_CPU\u001b[0m\u001b[0;34m=\u001b[0m\u001b[0mcpu\u001b[0m\u001b[0;34m)\u001b[0m\u001b[0;34m:\u001b[0m\u001b[0;34m\u001b[0m\u001b[0m\n\u001b[0m\u001b[1;32m      2\u001b[0m     \u001b[0my\u001b[0m \u001b[0;34m=\u001b[0m \u001b[0mYamboIn\u001b[0m\u001b[0;34m(\u001b[0m\u001b[0;34m'yambo_rt -q p -v ip -V qp'\u001b[0m\u001b[0;34m,\u001b[0m\u001b[0mfolder\u001b[0m\u001b[0;34m=\u001b[0m\u001b[0mfold\u001b[0m\u001b[0;34m)\u001b[0m\u001b[0;34m\u001b[0m\u001b[0m\n\u001b[1;32m      3\u001b[0m     \"\"\"\n\u001b[1;32m      4\u001b[0m     \u001b[0mBuild\u001b[0m \u001b[0mthe\u001b[0m \u001b[0minput\u001b[0m \u001b[0mfile\u001b[0m \u001b[0;32mfor\u001b[0m \u001b[0ma\u001b[0m \u001b[0mRT\u001b[0m \u001b[0msimulation\u001b[0m \u001b[0;32min\u001b[0m \u001b[0mthe\u001b[0m \u001b[0;34m\"independt particle\"\u001b[0m \u001b[0mapproximation\u001b[0m\u001b[0;34m.\u001b[0m\u001b[0;34m\u001b[0m\u001b[0m\n\u001b[1;32m      5\u001b[0m     \u001b[0mSet\u001b[0m \u001b[0mthe\u001b[0m \u001b[0mrelevant\u001b[0m \u001b[0mparameters\u001b[0m \u001b[0;32mfor\u001b[0m \u001b[0mthe\u001b[0m \u001b[0mfield\u001b[0m \u001b[0;32mand\u001b[0m \u001b[0mthe\u001b[0m \u001b[0msimulation\u001b[0m \u001b[0moptions\u001b[0m\u001b[0;34m.\u001b[0m\u001b[0;34m\u001b[0m\u001b[0m\n",
      "\u001b[0;31mNameError\u001b[0m: name 'fold' is not defined"
     ]
    }
   ],
   "source": [
    "def makeTDinput(path=fold,fname=fn,fieldDirection=fDir,fieldInt=fInt,fieldFreq=fFreq,fieldWidth=fWidth,RTstep=step,NETime=time,RTbands=bnds,RT_CPU=cpu):\n",
    "    y = YamboIn('yambo_rt -q p -v ip -V qp',folder=fold)\n",
    "    \"\"\"\n",
    "    Build the input file for a RT simulation in the \"independt particle\" approximation.\n",
    "    Set the relevant parameters for the field and the simulation options.\n",
    "    \"\"\"\n",
    "    # field paramters\n",
    "    y['Field1_kind'] = 'QSSIN'\n",
    "    y['Field1_pol'] = 'linear'\n",
    "    y['Field1_Dir'] = fDir\n",
    "    y['Field1_Int'] = [fInt,'kWLm2']\n",
    "    y['Field1_Freq'] = [[fFreq,fFreq],'eV']\n",
    "    y['Field1_Width'] = [fWidth,'fs']\n",
    "    # simulation parameters\n",
    "    y['IOtime'] = [[1.0,5.0,0.5],'fs'] #(J,P,CARRIERs - GF - OUTPUT)\n",
    "    y['RTstep'] = [step,'as']\n",
    "    y['NETime'] = [time,'fs']\n",
    "    y['RTBands'] = bnds\n",
    "    # parameters from yambopy tutorial rt_si.py\n",
    "    y['GfnQP_Wv']   = [0.05,0.00,0.00]    # Constant damping valence\n",
    "    y['GfnQP_Wc']   = [0.05,0.00,0.00]    # Constant damping conduction\n",
    "    y['GfnQP_E']    = [0.00, 1.00, 1.00]  # [EXTQP BSK BSS] E parameters  (c/v) eV|adim|adim\n",
    "\n",
    "    # parallelization parameters\n",
    "    y['RT_CPU'] = cpu\n",
    "    y.write(fold+'/'+fn)"
   ]
  },
  {
   "cell_type": "code",
   "execution_count": 17,
   "metadata": {},
   "outputs": [],
   "source": [
    "def buildRT(dic,**kwargs):\n",
    "    \"\"\"\n",
    "    Build the input file for a yambo RT computation and update the yambo dictionary\n",
    "    with the parameters of the choosen RT computations. \n",
    "    \"\"\"\n",
    "    fieldInt = dic.keys()\n",
    "    for f in fieldInt:\n",
    "        dic[f]['rt'] = {}\n",
    "    for k,v in kwargs.iteritems():\n",
    "        print k,v"
   ]
  },
  {
   "cell_type": "code",
   "execution_count": 19,
   "metadata": {},
   "outputs": [
    {
     "name": "stdout",
     "output_type": "stream",
     "text": [
      "pippo 2\n",
      "val1 1\n"
     ]
    },
    {
     "data": {
      "text/plain": [
       "{0: {'rt': {}}, 100: {'rt': {}}, 200: {'rt': {}}}"
      ]
     },
     "execution_count": 19,
     "metadata": {},
     "output_type": "execute_result"
    }
   ],
   "source": [
    "buildRT(yambo,val1 = 1, pippo = 2)\n",
    "yambo"
   ]
  },
  {
   "cell_type": "code",
   "execution_count": null,
   "metadata": {},
   "outputs": [],
   "source": []
  },
  {
   "cell_type": "code",
   "execution_count": null,
   "metadata": {},
   "outputs": [],
   "source": []
  },
  {
   "cell_type": "code",
   "execution_count": null,
   "metadata": {},
   "outputs": [],
   "source": []
  },
  {
   "cell_type": "code",
   "execution_count": null,
   "metadata": {},
   "outputs": [],
   "source": []
  },
  {
   "cell_type": "code",
   "execution_count": null,
   "metadata": {},
   "outputs": [],
   "source": []
  },
  {
   "cell_type": "code",
   "execution_count": null,
   "metadata": {},
   "outputs": [],
   "source": []
  },
  {
   "cell_type": "code",
   "execution_count": 8,
   "metadata": {},
   "outputs": [],
   "source": [
    "reload(TD)\n",
    "rtinput = 'rt_field'+str(fieldInt)+'_step'+str(RTstep)+'_bnd'+str(RTbands[0])+'-'+str(RTbands[1])+'.in'\n",
    "rtoutFold = 'rt_field'+str(fieldInt)+'_step'+str(RTstep)+'_bnd'+str(RTbands[0])+'-'+str(RTbands[1])\n",
    "TD.makeTDinput(path,rtinput,fieldDirection,fieldInt,fieldFreq,fieldWidth,RTstep,NETime,RTbands,RT_CPU)"
   ]
  },
  {
   "cell_type": "code",
   "execution_count": 108,
   "metadata": {},
   "outputs": [
    {
     "name": "stdout",
     "output_type": "stream",
     "text": [
      "execute : cd yambo/k8/FixSymm ; OMP_NUM_THREADS=1 mpirun -np 8 yambo_rt -F rt_field500_step1.0_bnd2-7.in -J rt_field500_step1.0_bnd2-7 -C rt_field500_step1.0_bnd2-7\n",
      "done!\n"
     ]
    }
   ],
   "source": [
    "#skip must be added....\n",
    "#check if it useful to run yambo without deleting the job folder. What appens in this case?\n",
    "TD.runYambo_rt(path,rtinput,rtoutFold,mpi,omp)"
   ]
  },
  {
   "cell_type": "code",
   "execution_count": 9,
   "metadata": {},
   "outputs": [],
   "source": [
    "# parse the output files for data analysis"
   ]
  },
  {
   "cell_type": "code",
   "execution_count": 10,
   "metadata": {},
   "outputs": [],
   "source": [
    "eFieldOut = 'o-'+rtoutFold+'.external_field'\n",
    "carriesOut ='o-'+rtoutFold+'.carriers'"
   ]
  },
  {
   "cell_type": "code",
   "execution_count": 11,
   "metadata": {},
   "outputs": [],
   "source": [
    "larray = GW.parserArrayFromFile(path+os.sep+rtoutFold+os.sep+eFieldOut)\n",
    "time = []\n",
    "eInt = []\n",
    "fluence = []\n",
    "for l in larray:\n",
    "    time.append(l[0])\n",
    "    eInt.append(l[7])\n",
    "    fluence.append(100*l[8])"
   ]
  },
  {
   "cell_type": "code",
   "execution_count": 17,
   "metadata": {
    "scrolled": true
   },
   "outputs": [
    {
     "name": "stdout",
     "output_type": "stream",
     "text": [
      "Using matplotlib backend: TkAgg\n"
     ]
    }
   ],
   "source": [
    "%matplotlib auto\n",
    "plt.plot(time,eInt)\n",
    "plt.plot(time,fluence)\n",
    "plt.show()"
   ]
  },
  {
   "cell_type": "code",
   "execution_count": 13,
   "metadata": {},
   "outputs": [],
   "source": [
    "larray = GW.parserArrayFromFile(path+os.sep+rtoutFold+os.sep+carriesOut)\n",
    "time = []\n",
    "dnElec = []\n",
    "dnHoles = []\n",
    "for l in larray:\n",
    "    time.append(l[0])\n",
    "    dnElec.append(l[2])\n",
    "    dnHoles.append(l[3])"
   ]
  },
  {
   "cell_type": "code",
   "execution_count": 18,
   "metadata": {},
   "outputs": [
    {
     "data": {
      "image/png": "[encoded data removed]",
      "text/plain": [
       "<Figure size 432x288 with 1 Axes>"
      ]
     },
     "metadata": {},
     "output_type": "display_data"
    }
   ],
   "source": [
    "%matplotlib inline\n",
    "plt.plot(time,dnElec,label='dnElec')\n",
    "plt.plot(time,dnHoles,label='dnHole')\n",
    "plt.legend()\n",
    "plt.show()"
   ]
  },
  {
   "cell_type": "markdown",
   "metadata": {},
   "source": [
    "Per andare avanti.\n",
    "Guardare nella cartella di yambo-tests\n",
    "/home/marco/Data/RICERCA/MANY BODY/Test/yambo-tests/TESTS/MAIN/Si_bulk/RT/INPUTS\n",
    "dove ci sono vari file di input da studiare. In particolare\n",
    "\n",
    "* si possono generare distribuzioni neq con ypp_rt (anche se ora non mi serve visto che l'ho fatto esplicitamente con il conto rt). Questo è descritto nei file di input 02_carriers_DB_ypp (credo) e si genera con ypp_rt -C (da controllare da -H di ypp_rt)\n",
    "* fare post processing dei conti rt con ypp_rt. In questo caso si fa ypp_rt -n o e (tutto da controllare) e si generano file tipo 02_carriers_Fermi_fit_DB. Poi con ypp_rt -F <nomefile> -J <nomefoldercontoRT> si ottiene il plot \n",
    "* conto COHSEX con occupazioni neq (si fanno conti di tipo COHSEX perchè l'estensione eq->neq funziona in modo semplice solo se la Sigma è reale (o statica?)). Guardare l'input file 08_cohsex_10fs. E' un conto COHSEX standard con la stringa in più\n",
    "    \n",
    "    GfnRTdb= \"f @ 0.1 ps < <folderconto RT>/ndb.RT_carriers\"          # [EXTRT G] Database\n",
    "\n",
    "la f indica le occupazioni"
   ]
  },
  {
   "cell_type": "markdown",
   "metadata": {},
   "source": [
    "Ypp_rt post processing"
   ]
  },
  {
   "cell_type": "code",
   "execution_count": 19,
   "metadata": {},
   "outputs": [],
   "source": [
    "yppTimeStep = 10.0 #fs\n",
    "ypp_outfold = 'ypp_noe'"
   ]
  },
  {
   "cell_type": "code",
   "execution_count": 20,
   "metadata": {},
   "outputs": [
    {
     "name": "stdout",
     "output_type": "stream",
     "text": [
      "remove file : yambo/k8/FixSymm/ypp.in\n",
      "cd yambo/k8/FixSymm; ypp_rt -n o e -V qp\n"
     ]
    }
   ],
   "source": [
    "reload(TD)\n",
    "TD.makeYPP_rtOccupationInput(path,RTbands,yppTimeStep)"
   ]
  },
  {
   "cell_type": "code",
   "execution_count": 21,
   "metadata": {},
   "outputs": [
    {
     "name": "stdout",
     "output_type": "stream",
     "text": [
      "delete yambo/k8/FixSymm/ypp_noe\n",
      "execute : cd yambo/k8/FixSymm; OMP_NUM_THREADS=1 mpirun -np 1 ypp_rt -F ypp.in -J rt_field100_step1.0_bnd2-7 -C ypp_noe\n",
      "done!\n"
     ]
    }
   ],
   "source": [
    "TD.runYPP_rt(path,'ypp.in',rtoutFold,'ypp_noe')"
   ]
  },
  {
   "cell_type": "markdown",
   "metadata": {},
   "source": [
    "what to to with these output file?"
   ]
  },
  {
   "cell_type": "code",
   "execution_count": 25,
   "metadata": {},
   "outputs": [],
   "source": [
    "holes = 'o-'+rtoutFold+'.YPP-RT_occupations_DATA'\n",
    "electrons = 'o-'+rtoutFold+'.YPP-RT_occupations_FIT_electrons'\n",
    "val = holes"
   ]
  },
  {
   "cell_type": "code",
   "execution_count": 26,
   "metadata": {},
   "outputs": [],
   "source": [
    "larray = GW.parserArrayFromFile(path+os.sep+ypp_outfold+os.sep+val)\n",
    "energy = []\n",
    "val_t1 = []\n",
    "val_t2 = []\n",
    "val_t3 = []\n",
    "for l in larray:\n",
    "    energy.append(l[0])\n",
    "    val_t1.append(l[3])\n",
    "    val_t2.append(l[7])\n",
    "    val_t3.append(l[11])"
   ]
  },
  {
   "cell_type": "code",
   "execution_count": 31,
   "metadata": {
    "scrolled": true
   },
   "outputs": [
    {
     "name": "stdout",
     "output_type": "stream",
     "text": [
      "Using matplotlib backend: TkAgg\n"
     ]
    }
   ],
   "source": [
    "%matplotlib auto\n",
    "plt.plot(energy,val_t1)\n",
    "plt.plot(energy,val_t2)\n",
    "plt.plot(energy,val_t3)\n",
    "plt.show()"
   ]
  },
  {
   "cell_type": "markdown",
   "metadata": {},
   "source": [
    "Now perform a COHSEX calculation on top on the neq distribution"
   ]
  },
  {
   "cell_type": "code",
   "execution_count": 135,
   "metadata": {},
   "outputs": [],
   "source": [
    "# take the starting point of the COHSEX calculation from the converged parameters of the HF ones\n",
    "hf_kconv = 8\n",
    "hf_G0_Gcompconv = 3.0 #Ha"
   ]
  },
  {
   "cell_type": "code",
   "execution_count": 136,
   "metadata": {},
   "outputs": [],
   "source": [
    "yambo_eq = {8 : {'folder' :'yambo/k8'}}\n",
    "yambo_neq = {8 : {'folder' :'yambo/k8/FixSymm'}}"
   ]
  },
  {
   "cell_type": "code",
   "execution_count": 137,
   "metadata": {},
   "outputs": [],
   "source": [
    "W_Gcomp = [5.0] #Ha\n",
    "W_nb = [50]\n",
    "# compute the COHSEX correction only for the bands in the range\n",
    "firstk = 1\n",
    "lastk = 21 # the k index to compute the indirect band gap\n",
    "firstbnd = 2\n",
    "lastbnd = 7"
   ]
  },
  {
   "cell_type": "code",
   "execution_count": 138,
   "metadata": {},
   "outputs": [],
   "source": [
    "GW.buildCOHSEX(yambo_eq,hf_kconv,hf_G0_Gcompconv,W_Gcomp,W_nb,firstk,lastk,firstbnd,lastbnd)\n",
    "GW.buildCOHSEX(yambo_neq,hf_kconv,hf_G0_Gcompconv,W_Gcomp,W_nb,firstk,lastk,firstbnd,lastbnd)"
   ]
  },
  {
   "cell_type": "code",
   "execution_count": 63,
   "metadata": {},
   "outputs": [],
   "source": [
    "# add manually the string\n",
    "GfnRTdb= \"f @ 0.1 ps < rt_field100_step1.0-bnd2-7/ndb.RT_carriers\" # [EXTRT G] Database"
   ]
  },
  {
   "cell_type": "code",
   "execution_count": 64,
   "metadata": {},
   "outputs": [],
   "source": [
    "# l'ho eseguito con yambo dovevo usare yambo_rt? credo sia la stessa cosa..."
   ]
  },
  {
   "cell_type": "code",
   "execution_count": 139,
   "metadata": {},
   "outputs": [
    {
     "name": "stdout",
     "output_type": "stream",
     "text": [
      "execute : cd yambo/k8/FixSymm ; OMP_NUM_THREADS=1 mpirun -np 8 yambo -F cs_wGcomp5.0_wNb50.in -J cs_wGcomp5.0_wNb50 -C cs_wGcomp5.0_wNb50\n",
      "done!\n",
      "read file : yambo/k8/FixSymm/cs_wGcomp5.0_wNb50/o-cs_wGcomp5.0_wNb50.qp\n"
     ]
    }
   ],
   "source": [
    "GW.runCOHSEX(yambo_neq,hf_kconv,mpi,omp,True)\n",
    "GW.getCOHSEXresults(yambo_neq,hf_kconv)"
   ]
  },
  {
   "cell_type": "code",
   "execution_count": 140,
   "metadata": {},
   "outputs": [
    {
     "name": "stdout",
     "output_type": "stream",
     "text": [
      "skip the computation for : yambo/k8/cs_wGcomp5.0_wNb50/o-cs_wGcomp5.0_wNb50.qp\n",
      "read file : yambo/k8/cs_wGcomp5.0_wNb50/o-cs_wGcomp5.0_wNb50.qp\n"
     ]
    }
   ],
   "source": [
    "# reload the computation for the equilibrium case\n",
    "GW.runCOHSEX(yambo_eq,hf_kconv,mpi,omp,True)\n",
    "GW.getCOHSEXresults(yambo_eq,hf_kconv)"
   ]
  },
  {
   "cell_type": "code",
   "execution_count": 141,
   "metadata": {},
   "outputs": [],
   "source": [
    "results_neq = yambo_neq[8]['cs'][(5.0,50)]['results']\n",
    "results_eq = yambo_eq[8]['cs'][5.0,50]['results']"
   ]
  },
  {
   "cell_type": "code",
   "execution_count": 142,
   "metadata": {},
   "outputs": [
    {
     "name": "stdout",
     "output_type": "stream",
     "text": [
      "equilibrium indirect gap =  1.773443\n",
      "non-equilibrium indirect gap =  1.742104\n"
     ]
    }
   ],
   "source": [
    "print 'equilibrium indirect gap = ', GW.getBandGap(results_eq,4,5,1,21)\n",
    "print 'non-equilibrium indirect gap = ', GW.getBandGap(results_neq,4,5,1,21)"
   ]
  },
  {
   "cell_type": "code",
   "execution_count": 143,
   "metadata": {},
   "outputs": [],
   "source": [
    "# mi sembra che il risultato neq non sia dipendente dall'intensità del campo..."
   ]
  },
  {
   "cell_type": "code",
   "execution_count": null,
   "metadata": {},
   "outputs": [],
   "source": [
    "# modifica di ven 30/11 ore 15.02"
   ]
  },
  {
   "cell_type": "code",
   "execution_count": null,
   "metadata": {},
   "outputs": [],
   "source": []
  },
  {
   "cell_type": "code",
   "execution_count": null,
   "metadata": {},
   "outputs": [],
   "source": []
  },
  {
   "cell_type": "code",
   "execution_count": null,
   "metadata": {},
   "outputs": [],
   "source": []
  }
 ],
 "metadata": {
  "kernelspec": {
   "display_name": "Python 2",
   "language": "python",
   "name": "python2"
  },
  "language_info": {
   "codemirror_mode": {
    "name": "ipython",
    "version": 2
   },
   "file_extension": ".py",
   "mimetype": "text/x-python",
   "name": "python",
   "nbconvert_exporter": "python",
   "pygments_lexer": "ipython2",
   "version": "2.7.15rc1"
  }
 },
 "nbformat": 4,
 "nbformat_minor": 2
}
