{
 "cells": [
  {
   "cell_type": "code",
   "execution_count": 3,
   "metadata": {},
   "outputs": [],
   "source": [
    "from qepy import *\n",
    "from yambopy import *\n",
    "from qepy import PwIn\n",
    "import matplotlib.pyplot as plt\n",
    "import numpy as np\n",
    "#import sys\n",
    "#sys.path.insert(0,'../GW convergence analysis/')\n",
    "import GW_Routines as GW\n",
    "import TD_Routines as TD"
   ]
  },
  {
   "cell_type": "markdown",
   "metadata": {},
   "source": [
    "## Time dependent analysis "
   ]
  },
  {
   "cell_type": "markdown",
   "metadata": {},
   "source": [
    "We study the time evolution of the ground state density subjected to a fast pulse"
   ]
  },
  {
   "cell_type": "markdown",
   "metadata": {},
   "source": [
    "Choose a value of kpoints and the direction of the perturbing field. Create the fixSymm folder that contain the SAVE folder compatible with the simmetries broken by the perturbation. This folder is working path of the TD simulation."
   ]
  },
  {
   "cell_type": "code",
   "execution_count": 28,
   "metadata": {},
   "outputs": [],
   "source": [
    "kfold = 'yambo/k4/'\n",
    "fieldDirection = [1.0,1.0,1.0]"
   ]
  },
  {
   "cell_type": "code",
   "execution_count": 57,
   "metadata": {},
   "outputs": [
    {
     "name": "stdout",
     "output_type": "stream",
     "text": [
      "fixSymm folder already created\n"
     ]
    }
   ],
   "source": [
    "reload(TD)\n",
    "path = TD.fixSymm(kfold,fieldDirection)"
   ]
  },
  {
   "cell_type": "code",
   "execution_count": 30,
   "metadata": {},
   "outputs": [
    {
     "data": {
      "text/plain": [
       "'yambo/k4//FixSymm'"
      ]
     },
     "execution_count": 30,
     "metadata": {},
     "output_type": "execute_result"
    }
   ],
   "source": [
    "path"
   ]
  },
  {
   "cell_type": "markdown",
   "metadata": {},
   "source": [
    "Create and edit the TD input file. Then run the simulation."
   ]
  },
  {
   "cell_type": "code",
   "execution_count": 135,
   "metadata": {},
   "outputs": [
    {
     "name": "stdout",
     "output_type": "stream",
     "text": [
      "number of steps :  20000000.0\n"
     ]
    }
   ],
   "source": [
    "# Field parameters\n",
    "fieldInt = 1.0E4 #kWLm2\n",
    "fieldFreq = 1.55 #eV\n",
    "fieldWidth = 50 #fs\n",
    "\n",
    "# Simulation parameters\n",
    "RTstep = 5.0 # as - time step\n",
    "NETime = 100.0 # fs - total simulation time\n",
    "RTbands = [1,10] # the KS bands involved in the simulation\n",
    "\n",
    "nstep = NETime*1e6/RTstep\n",
    "print 'number of steps : ',nstep "
   ]
  },
  {
   "cell_type": "code",
   "execution_count": 136,
   "metadata": {},
   "outputs": [],
   "source": [
    "def makeTDinput(fold,fname,fieldDirection,fieldInt,fieldFreq,fieldWidth,RTstep,NETime,RTbands):\n",
    "    # RTstep : time step (in as)\n",
    "    # NETime : total simulation time (in ps)\n",
    "    y = YamboIn('yambo_rt -q p -v ip -V qp',folder=fold)\n",
    "    # field paramters\n",
    "    y['Field1_kind'] = 'QSSIN'\n",
    "    y['Field1_pol'] = 'linear' \n",
    "    y['Field1_Dir'] = fieldDirection\n",
    "    y['Field1_Int'] = [fieldInt,'kWLm2']\n",
    "    y['Field1_Freq'] = [[fieldFreq,0.0],'eV']\n",
    "    y['Field1_Width'] = [fieldWidth,'fs']\n",
    "    # simulation parameters\n",
    "    y['IOtime'] = [[1.0,5.0,0.5],'fs'] #(J,P,CARRIERs - GF - OUTPUT)\n",
    "    y['RTstep'] = [RTstep,'as']\n",
    "    y['NETime'] = [NETime,'fs']\n",
    "    y['RTBands'] = RTbands\n",
    "    y.write(fold+'/'+fname)\n",
    "    #y = YamboIn(filename=fold+'/rt.in')"
   ]
  },
  {
   "cell_type": "code",
   "execution_count": 137,
   "metadata": {},
   "outputs": [],
   "source": [
    "rtinput = 'rt.in'\n",
    "rtoutFold = 'rt-out'\n",
    "makeTDinput(path,rtinput,fieldDirection,fieldInt,fieldFreq,fieldWidth,RTstep,NETime,RTbands)"
   ]
  },
  {
   "cell_type": "code",
   "execution_count": 138,
   "metadata": {},
   "outputs": [
    {
     "name": "stdout",
     "output_type": "stream",
     "text": [
      "delete yambo/k4//FixSymm/rt-out\n",
      "execute : cd yambo/k4//FixSymm ; mpirun -np 8 yambo_rt -F rt.in -J rt-out -C rt-out\n",
      "done!\n"
     ]
    }
   ],
   "source": [
    "TD.runYambo_rt(path,rtinput,rtoutFold,8)"
   ]
  },
  {
   "cell_type": "code",
   "execution_count": 113,
   "metadata": {},
   "outputs": [],
   "source": [
    "# in this way it works"
   ]
  },
  {
   "cell_type": "code",
   "execution_count": null,
   "metadata": {},
   "outputs": [],
   "source": []
  },
  {
   "cell_type": "code",
   "execution_count": null,
   "metadata": {},
   "outputs": [],
   "source": []
  },
  {
   "cell_type": "code",
   "execution_count": null,
   "metadata": {},
   "outputs": [],
   "source": []
  }
 ],
 "metadata": {
  "kernelspec": {
   "display_name": "Python 2",
   "language": "python",
   "name": "python2"
  },
  "language_info": {
   "codemirror_mode": {
    "name": "ipython",
    "version": 2
   },
   "file_extension": ".py",
   "mimetype": "text/x-python",
   "name": "python",
   "nbconvert_exporter": "python",
   "pygments_lexer": "ipython2",
   "version": "2.7.15rc1"
  }
 },
 "nbformat": 4,
 "nbformat_minor": 2
}
