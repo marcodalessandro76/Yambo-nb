{
 "cells": [
  {
   "cell_type": "code",
   "execution_count": 1,
   "metadata": {},
   "outputs": [],
   "source": [
    "from qepy import *\n",
    "from yambopy import *\n",
    "from qepy import PwIn\n",
    "import matplotlib.pyplot as plt\n",
    "import numpy as np\n",
    "import GW_Routines as GW\n",
    "import TD_Routines as TD"
   ]
  },
  {
   "cell_type": "code",
   "execution_count": 2,
   "metadata": {},
   "outputs": [],
   "source": [
    "mpi = 8 #16 #32\n",
    "omp = 1"
   ]
  },
  {
   "cell_type": "markdown",
   "metadata": {},
   "source": [
    "## Time dependent analysis "
   ]
  },
  {
   "cell_type": "markdown",
   "metadata": {},
   "source": [
    "We study the time evolution of the ground state density subjected to a fast pulse"
   ]
  },
  {
   "cell_type": "markdown",
   "metadata": {},
   "source": [
    "Choose a value of kpoints and the direction of the perturbing field. Create the fixSymm folder that contain the SAVE folder compatible with the simmetries broken by the perturbation. This folder is working path of the TD simulation."
   ]
  },
  {
   "cell_type": "code",
   "execution_count": 3,
   "metadata": {},
   "outputs": [],
   "source": [
    "kfold = 'yambo/k8'\n",
    "fieldDirection = [1.0,1.0,1.0]"
   ]
  },
  {
   "cell_type": "code",
   "execution_count": 4,
   "metadata": {},
   "outputs": [
    {
     "name": "stdout",
     "output_type": "stream",
     "text": [
      "FixSymm folder already created\n"
     ]
    }
   ],
   "source": [
    "reload(TD)\n",
    "path = TD.fixSymm(kfold,fieldDirection)"
   ]
  },
  {
   "cell_type": "code",
   "execution_count": 5,
   "metadata": {},
   "outputs": [
    {
     "data": {
      "text/plain": [
       "'yambo/k8/FixSymm'"
      ]
     },
     "execution_count": 5,
     "metadata": {},
     "output_type": "execute_result"
    }
   ],
   "source": [
    "path"
   ]
  },
  {
   "cell_type": "markdown",
   "metadata": {},
   "source": [
    "Create and edit the TD input file. Then run the simulation."
   ]
  },
  {
   "cell_type": "code",
   "execution_count": 6,
   "metadata": {},
   "outputs": [],
   "source": [
    "# Field parameters\n",
    "fieldInt =  100 #10 #kWLm2\n",
    "fieldFreq = 1.55 #2.5 #eV\n",
    "fieldWidth = 20 #fs\n",
    "\n",
    "# Simulation parameters\n",
    "RTstep = 1.0 #as - time step\n",
    "NETime = 120.0 #fs - total simulation time\n",
    "RTbands = [2,7] # the KS bands involved in the simulation\n",
    "\n",
    "# Parallelization\n",
    "RT_CPU = \"%s.1.1.1\"%mpi"
   ]
  },
  {
   "cell_type": "code",
   "execution_count": 8,
   "metadata": {},
   "outputs": [],
   "source": [
    "reload(TD)\n",
    "rtinput = 'rt_field'+str(fieldInt)+'_step'+str(RTstep)+'_bnd'+str(RTbands[0])+'-'+str(RTbands[1])+'.in'\n",
    "rtoutFold = 'rt_field'+str(fieldInt)+'_step'+str(RTstep)+'_bnd'+str(RTbands[0])+'-'+str(RTbands[1])\n",
    "TD.makeTDinput(path,rtinput,fieldDirection,fieldInt,fieldFreq,fieldWidth,RTstep,NETime,RTbands,RT_CPU)"
   ]
  },
  {
   "cell_type": "code",
   "execution_count": 108,
   "metadata": {},
   "outputs": [
    {
     "name": "stdout",
     "output_type": "stream",
     "text": [
      "execute : cd yambo/k8/FixSymm ; OMP_NUM_THREADS=1 mpirun -np 8 yambo_rt -F rt_field500_step1.0_bnd2-7.in -J rt_field500_step1.0_bnd2-7 -C rt_field500_step1.0_bnd2-7\n",
      "done!\n"
     ]
    }
   ],
   "source": [
    "#skip must be added....\n",
    "#check if it useful to run yambo without deleting the job folder. What appens in this case?\n",
    "TD.runYambo_rt(path,rtinput,rtoutFold,mpi,omp)"
   ]
  },
  {
   "cell_type": "code",
   "execution_count": 9,
   "metadata": {},
   "outputs": [],
   "source": [
    "# parse the output files for data analysis"
   ]
  },
  {
   "cell_type": "code",
   "execution_count": 10,
   "metadata": {},
   "outputs": [],
   "source": [
    "eFieldOut = 'o-'+rtoutFold+'.external_field'\n",
    "carriesOut ='o-'+rtoutFold+'.carriers'"
   ]
  },
  {
   "cell_type": "code",
   "execution_count": 11,
   "metadata": {},
   "outputs": [],
   "source": [
    "larray = GW.parserArrayFromFile(path+os.sep+rtoutFold+os.sep+eFieldOut)\n",
    "time = []\n",
    "eInt = []\n",
    "fluence = []\n",
    "for l in larray:\n",
    "    time.append(l[0])\n",
    "    eInt.append(l[7])\n",
    "    fluence.append(100*l[8])"
   ]
  },
  {
   "cell_type": "code",
   "execution_count": 17,
   "metadata": {
    "scrolled": true
   },
   "outputs": [
    {
     "name": "stdout",
     "output_type": "stream",
     "text": [
      "Using matplotlib backend: TkAgg\n"
     ]
    }
   ],
   "source": [
    "%matplotlib auto\n",
    "plt.plot(time,eInt)\n",
    "plt.plot(time,fluence)\n",
    "plt.show()"
   ]
  },
  {
   "cell_type": "code",
   "execution_count": 13,
   "metadata": {},
   "outputs": [],
   "source": [
    "larray = GW.parserArrayFromFile(path+os.sep+rtoutFold+os.sep+carriesOut)\n",
    "time = []\n",
    "dnElec = []\n",
    "dnHoles = []\n",
    "for l in larray:\n",
    "    time.append(l[0])\n",
    "    dnElec.append(l[2])\n",
    "    dnHoles.append(l[3])"
   ]
  },
  {
   "cell_type": "code",
   "execution_count": 18,
   "metadata": {},
   "outputs": [
    {
     "data": {
      "image/png": "[encoded data removed]",
      "text/plain": [
       "<Figure size 432x288 with 1 Axes>"
      ]
     },
     "metadata": {},
     "output_type": "display_data"
    }
   ],
   "source": [
    "%matplotlib inline\n",
    "plt.plot(time,dnElec,label='dnElec')\n",
    "plt.plot(time,dnHoles,label='dnHole')\n",
    "plt.legend()\n",
    "plt.show()"
   ]
  },
  {
   "cell_type": "markdown",
   "metadata": {},
   "source": [
    "Per andare avanti.\n",
    "Guardare nella cartella di yambo-tests\n",
    "/home/marco/Data/RICERCA/MANY BODY/Test/yambo-tests/TESTS/MAIN/Si_bulk/RT/INPUTS\n",
    "dove ci sono vari file di input da studiare. In particolare\n",
    "\n",
    "* si possono generare distribuzioni neq con ypp_rt (anche se ora non mi serve visto che l'ho fatto esplicitamente con il conto rt). Questo è descritto nei file di input 02_carriers_DB_ypp (credo) e si genera con ypp_rt -C (da controllare da -H di ypp_rt)\n",
    "* fare post processing dei conti rt con ypp_rt. In questo caso si fa ypp_rt -n o e (tutto da controllare) e si generano file tipo 02_carriers_Fermi_fit_DB. Poi con ypp_rt -F <nomefile> -J <nomefoldercontoRT> si ottiene il plot \n",
    "* conto COHSEX con occupazioni neq (si fanno conti di tipo COHSEX perchè l'estensione eq->neq funziona in modo semplice solo se la Sigma è reale (o statica?)). Guardare l'input file 08_cohsex_10fs. E' un conto COHSEX standard con la stringa in più\n",
    "    \n",
    "    GfnRTdb= \"f @ 0.1 ps < <folderconto RT>/ndb.RT_carriers\"          # [EXTRT G] Database\n",
    "\n",
    "la f indica le occupazioni"
   ]
  },
  {
   "cell_type": "markdown",
   "metadata": {},
   "source": [
    "Ypp_rt post processing"
   ]
  },
  {
   "cell_type": "code",
   "execution_count": 19,
   "metadata": {},
   "outputs": [],
   "source": [
    "yppTimeStep = 10.0 #fs\n",
    "ypp_outfold = 'ypp_noe'"
   ]
  },
  {
   "cell_type": "code",
   "execution_count": 20,
   "metadata": {},
   "outputs": [
    {
     "name": "stdout",
     "output_type": "stream",
     "text": [
      "remove file : yambo/k8/FixSymm/ypp.in\n",
      "cd yambo/k8/FixSymm; ypp_rt -n o e -V qp\n"
     ]
    }
   ],
   "source": [
    "reload(TD)\n",
    "TD.makeYPP_rtOccupationInput(path,RTbands,yppTimeStep)"
   ]
  },
  {
   "cell_type": "code",
   "execution_count": 21,
   "metadata": {},
   "outputs": [
    {
     "name": "stdout",
     "output_type": "stream",
     "text": [
      "delete yambo/k8/FixSymm/ypp_noe\n",
      "execute : cd yambo/k8/FixSymm; OMP_NUM_THREADS=1 mpirun -np 1 ypp_rt -F ypp.in -J rt_field100_step1.0_bnd2-7 -C ypp_noe\n",
      "done!\n"
     ]
    }
   ],
   "source": [
    "TD.runYPP_rt(path,'ypp.in',rtoutFold,'ypp_noe')"
   ]
  },
  {
   "cell_type": "markdown",
   "metadata": {},
   "source": [
    "what to to with these output file?"
   ]
  },
  {
   "cell_type": "code",
   "execution_count": 25,
   "metadata": {},
   "outputs": [],
   "source": [
    "holes = 'o-'+rtoutFold+'.YPP-RT_occupations_DATA'\n",
    "electrons = 'o-'+rtoutFold+'.YPP-RT_occupations_FIT_electrons'\n",
    "val = holes"
   ]
  },
  {
   "cell_type": "code",
   "execution_count": 26,
   "metadata": {},
   "outputs": [],
   "source": [
    "larray = GW.parserArrayFromFile(path+os.sep+ypp_outfold+os.sep+val)\n",
    "energy = []\n",
    "val_t1 = []\n",
    "val_t2 = []\n",
    "val_t3 = []\n",
    "for l in larray:\n",
    "    energy.append(l[0])\n",
    "    val_t1.append(l[3])\n",
    "    val_t2.append(l[7])\n",
    "    val_t3.append(l[11])"
   ]
  },
  {
   "cell_type": "code",
   "execution_count": 31,
   "metadata": {
    "scrolled": true
   },
   "outputs": [
    {
     "name": "stdout",
     "output_type": "stream",
     "text": [
      "Using matplotlib backend: TkAgg\n"
     ]
    }
   ],
   "source": [
    "%matplotlib auto\n",
    "plt.plot(energy,val_t1)\n",
    "plt.plot(energy,val_t2)\n",
    "plt.plot(energy,val_t3)\n",
    "plt.show()"
   ]
  },
  {
   "cell_type": "markdown",
   "metadata": {},
   "source": [
    "Now perform a COHSEX calculation on top on the neq distribution"
   ]
  },
  {
   "cell_type": "code",
   "execution_count": 135,
   "metadata": {},
   "outputs": [],
   "source": [
    "# take the starting point of the COHSEX calculation from the converged parameters of the HF ones\n",
    "hf_kconv = 8\n",
    "hf_G0_Gcompconv = 3.0 #Ha"
   ]
  },
  {
   "cell_type": "code",
   "execution_count": 136,
   "metadata": {},
   "outputs": [],
   "source": [
    "yambo_eq = {8 : {'folder' :'yambo/k8'}}\n",
    "yambo_neq = {8 : {'folder' :'yambo/k8/FixSymm'}}"
   ]
  },
  {
   "cell_type": "code",
   "execution_count": 137,
   "metadata": {},
   "outputs": [],
   "source": [
    "W_Gcomp = [5.0] #Ha\n",
    "W_nb = [50]\n",
    "# compute the COHSEX correction only for the bands in the range\n",
    "firstk = 1\n",
    "lastk = 21 # the k index to compute the indirect band gap\n",
    "firstbnd = 2\n",
    "lastbnd = 7"
   ]
  },
  {
   "cell_type": "code",
   "execution_count": 138,
   "metadata": {},
   "outputs": [],
   "source": [
    "GW.buildCOHSEX(yambo_eq,hf_kconv,hf_G0_Gcompconv,W_Gcomp,W_nb,firstk,lastk,firstbnd,lastbnd)\n",
    "GW.buildCOHSEX(yambo_neq,hf_kconv,hf_G0_Gcompconv,W_Gcomp,W_nb,firstk,lastk,firstbnd,lastbnd)"
   ]
  },
  {
   "cell_type": "code",
   "execution_count": 63,
   "metadata": {},
   "outputs": [],
   "source": [
    "# add manually the string\n",
    "GfnRTdb= \"f @ 0.1 ps < rt_field100_step1.0-bnd2-7/ndb.RT_carriers\" # [EXTRT G] Database"
   ]
  },
  {
   "cell_type": "code",
   "execution_count": 64,
   "metadata": {},
   "outputs": [],
   "source": [
    "# l'ho eseguito con yambo dovevo usare yambo_rt? credo sia la stessa cosa..."
   ]
  },
  {
   "cell_type": "code",
   "execution_count": 139,
   "metadata": {},
   "outputs": [
    {
     "name": "stdout",
     "output_type": "stream",
     "text": [
      "execute : cd yambo/k8/FixSymm ; OMP_NUM_THREADS=1 mpirun -np 8 yambo -F cs_wGcomp5.0_wNb50.in -J cs_wGcomp5.0_wNb50 -C cs_wGcomp5.0_wNb50\n",
      "done!\n",
      "read file : yambo/k8/FixSymm/cs_wGcomp5.0_wNb50/o-cs_wGcomp5.0_wNb50.qp\n"
     ]
    }
   ],
   "source": [
    "GW.runCOHSEX(yambo_neq,hf_kconv,mpi,omp,True)\n",
    "GW.getCOHSEXresults(yambo_neq,hf_kconv)"
   ]
  },
  {
   "cell_type": "code",
   "execution_count": 140,
   "metadata": {},
   "outputs": [
    {
     "name": "stdout",
     "output_type": "stream",
     "text": [
      "skip the computation for : yambo/k8/cs_wGcomp5.0_wNb50/o-cs_wGcomp5.0_wNb50.qp\n",
      "read file : yambo/k8/cs_wGcomp5.0_wNb50/o-cs_wGcomp5.0_wNb50.qp\n"
     ]
    }
   ],
   "source": [
    "# reload the computation for the equilibrium case\n",
    "GW.runCOHSEX(yambo_eq,hf_kconv,mpi,omp,True)\n",
    "GW.getCOHSEXresults(yambo_eq,hf_kconv)"
   ]
  },
  {
   "cell_type": "code",
   "execution_count": 141,
   "metadata": {},
   "outputs": [],
   "source": [
    "results_neq = yambo_neq[8]['cs'][(5.0,50)]['results']\n",
    "results_eq = yambo_eq[8]['cs'][5.0,50]['results']"
   ]
  },
  {
   "cell_type": "code",
   "execution_count": 142,
   "metadata": {},
   "outputs": [
    {
     "name": "stdout",
     "output_type": "stream",
     "text": [
      "equilibrium indirect gap =  1.773443\n",
      "non-equilibrium indirect gap =  1.742104\n"
     ]
    }
   ],
   "source": [
    "print 'equilibrium indirect gap = ', GW.getBandGap(results_eq,4,5,1,21)\n",
    "print 'non-equilibrium indirect gap = ', GW.getBandGap(results_neq,4,5,1,21)"
   ]
  },
  {
   "cell_type": "code",
   "execution_count": 143,
   "metadata": {},
   "outputs": [],
   "source": [
    "# mi sembra che il risultato neq non sia dipendente dall'intensità del campo..."
   ]
  },
  {
   "cell_type": "code",
   "execution_count": null,
   "metadata": {},
   "outputs": [],
   "source": []
  },
  {
   "cell_type": "code",
   "execution_count": null,
   "metadata": {},
   "outputs": [],
   "source": []
  },
  {
   "cell_type": "code",
   "execution_count": null,
   "metadata": {},
   "outputs": [],
   "source": []
  },
  {
   "cell_type": "code",
   "execution_count": null,
   "metadata": {},
   "outputs": [],
   "source": []
  }
 ],
 "metadata": {
  "kernelspec": {
   "display_name": "Python 2",
   "language": "python",
   "name": "python2"
  },
  "language_info": {
   "codemirror_mode": {
    "name": "ipython",
    "version": 2
   },
   "file_extension": ".py",
   "mimetype": "text/x-python",
   "name": "python",
   "nbconvert_exporter": "python",
   "pygments_lexer": "ipython2",
   "version": "2.7.15rc1"
  }
 },
 "nbformat": 4,
 "nbformat_minor": 2
}
