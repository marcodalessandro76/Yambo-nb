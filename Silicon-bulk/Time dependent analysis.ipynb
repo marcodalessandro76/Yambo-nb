{
 "cells": [
  {
   "cell_type": "code",
   "execution_count": 1,
   "metadata": {},
   "outputs": [],
   "source": [
    "from qepy import *\n",
    "from yambopy import *\n",
    "from qepy import PwIn\n",
    "import matplotlib.pyplot as plt\n",
    "import numpy as np\n",
    "import GW_Routines as GW\n",
    "import TD_Routines as TD"
   ]
  },
  {
   "cell_type": "code",
   "execution_count": 3,
   "metadata": {},
   "outputs": [],
   "source": [
    "mpi = 8\n",
    "omp = 1"
   ]
  },
  {
   "cell_type": "markdown",
   "metadata": {},
   "source": [
    "## Time dependent analysis "
   ]
  },
  {
   "cell_type": "markdown",
   "metadata": {},
   "source": [
    "We study the time evolution of the ground state density subjected to a fast pulse"
   ]
  },
  {
   "cell_type": "markdown",
   "metadata": {},
   "source": [
    "Choose a value of kpoints and the direction of the perturbing field. Create the fixSymm folder that contain the SAVE folder compatible with the simmetries broken by the perturbation. This folder is working path of the TD simulation."
   ]
  },
  {
   "cell_type": "code",
   "execution_count": 4,
   "metadata": {},
   "outputs": [],
   "source": [
    "kfold = 'yambo/k4/'\n",
    "fieldDirection = [1.0,1.0,1.0]"
   ]
  },
  {
   "cell_type": "code",
   "execution_count": 5,
   "metadata": {},
   "outputs": [
    {
     "name": "stdout",
     "output_type": "stream",
     "text": [
      "removed # from RmTimeRev field\n"
     ]
    }
   ],
   "source": [
    "reload(TD)\n",
    "path = TD.fixSymm(kfold,fieldDirection)"
   ]
  },
  {
   "cell_type": "code",
   "execution_count": 6,
   "metadata": {},
   "outputs": [
    {
     "data": {
      "text/plain": [
       "'yambo/k4//FixSymm'"
      ]
     },
     "execution_count": 6,
     "metadata": {},
     "output_type": "execute_result"
    }
   ],
   "source": [
    "path"
   ]
  },
  {
   "cell_type": "markdown",
   "metadata": {},
   "source": [
    "Create and edit the TD input file. Then run the simulation."
   ]
  },
  {
   "cell_type": "code",
   "execution_count": 10,
   "metadata": {},
   "outputs": [
    {
     "name": "stdout",
     "output_type": "stream",
     "text": [
      "number of steps :  100000000.0\n"
     ]
    }
   ],
   "source": [
    "# Field parameters\n",
    "fieldInt = 1.0E4 #kWLm2\n",
    "fieldFreq = 1.55 #eV\n",
    "fieldWidth = 10 #fs\n",
    "\n",
    "# Simulation parameters\n",
    "RTstep = 1.0 #as - time step\n",
    "NETime = 100.0 #fs - total simulation time\n",
    "RTbands = [1,10] # the KS bands involved in the simulation\n",
    "\n",
    "nstep = NETime*1e6/RTstep\n",
    "print 'number of steps : ',nstep "
   ]
  },
  {
   "cell_type": "code",
   "execution_count": 11,
   "metadata": {},
   "outputs": [],
   "source": [
    "reload(TD)\n",
    "rtinput = 'rt.in'\n",
    "rtoutFold = 'rt-out'\n",
    "TD.makeTDinput(path,rtinput,fieldDirection,fieldInt,fieldFreq,fieldWidth,RTstep,NETime,RTbands)"
   ]
  },
  {
   "cell_type": "code",
   "execution_count": 12,
   "metadata": {},
   "outputs": [
    {
     "name": "stdout",
     "output_type": "stream",
     "text": [
      "execute : cd yambo/k4//FixSymm ; OMP_NUM_THREADS=1 mpirun -np 8 yambo_rt -F rt.in -J rt-out -C rt-out\n",
      "done!\n"
     ]
    }
   ],
   "source": [
    "TD.runYambo_rt(path,rtinput,rtoutFold,mpi,omp)"
   ]
  },
  {
   "cell_type": "code",
   "execution_count": 13,
   "metadata": {},
   "outputs": [],
   "source": [
    "# parse the output files for data analysis"
   ]
  },
  {
   "cell_type": "code",
   "execution_count": 14,
   "metadata": {},
   "outputs": [],
   "source": [
    "eFieldOut = 'o-rt-out.external_field'\n",
    "carriesOut = 'o-rt-out.carriers'"
   ]
  },
  {
   "cell_type": "code",
   "execution_count": 15,
   "metadata": {},
   "outputs": [],
   "source": [
    "larray = GW.parserArrayFromFile(path+'/rt-out/'+eFieldOut)\n",
    "time = []\n",
    "eInt = []\n",
    "fluence = []\n",
    "for l in larray:\n",
    "    time.append(l[0])\n",
    "    eInt.append(l[7])\n",
    "    fluence.append(100*l[8])"
   ]
  },
  {
   "cell_type": "code",
   "execution_count": 16,
   "metadata": {},
   "outputs": [
    {
     "data": {
      "image/png": "[encoded data removed]",
      "text/plain": [
       "<Figure size 432x288 with 1 Axes>"
      ]
     },
     "metadata": {},
     "output_type": "display_data"
    }
   ],
   "source": [
    "plt.plot(time,eInt)\n",
    "plt.plot(time,fluence)\n",
    "plt.show()"
   ]
  },
  {
   "cell_type": "code",
   "execution_count": 17,
   "metadata": {},
   "outputs": [],
   "source": [
    "larray = GW.parserArrayFromFile(path+'/rt-out/'+carriesOut)\n",
    "time = []\n",
    "dnElec = []\n",
    "dnHoles = []\n",
    "for l in larray:\n",
    "    time.append(l[0])\n",
    "    dnElec.append(l[2])\n",
    "    dnHoles.append(l[3])"
   ]
  },
  {
   "cell_type": "code",
   "execution_count": 18,
   "metadata": {},
   "outputs": [
    {
     "data": {
      "image/png": "[encoded data removed]",
      "text/plain": [
       "<Figure size 432x288 with 1 Axes>"
      ]
     },
     "metadata": {},
     "output_type": "display_data"
    }
   ],
   "source": [
    "plt.plot(time,dnElec,label='dnElec')\n",
    "plt.plot(time,dnHoles,label='dnHole')\n",
    "plt.legend()\n",
    "plt.show()"
   ]
  },
  {
   "cell_type": "code",
   "execution_count": null,
   "metadata": {},
   "outputs": [],
   "source": []
  },
  {
   "cell_type": "code",
   "execution_count": null,
   "metadata": {},
   "outputs": [],
   "source": []
  },
  {
   "cell_type": "code",
   "execution_count": null,
   "metadata": {},
   "outputs": [],
   "source": []
  },
  {
   "cell_type": "code",
   "execution_count": null,
   "metadata": {},
   "outputs": [],
   "source": []
  }
 ],
 "metadata": {
  "kernelspec": {
   "display_name": "Python 2",
   "language": "python",
   "name": "python2"
  },
  "language_info": {
   "codemirror_mode": {
    "name": "ipython",
    "version": 2
   },
   "file_extension": ".py",
   "mimetype": "text/x-python",
   "name": "python",
   "nbconvert_exporter": "python",
   "pygments_lexer": "ipython2",
   "version": "2.7.15rc1"
  }
 },
 "nbformat": 4,
 "nbformat_minor": 2
}
